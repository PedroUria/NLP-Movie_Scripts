{
 "cells": [
  {
   "cell_type": "code",
   "execution_count": 3,
   "metadata": {},
   "outputs": [],
   "source": [
    "import json\n",
    "import pandas as pd\n",
    "import os\n",
    "import numpy as np\n",
    "import pandas as pd\n",
    "import matplotlib.pyplot as plt\n",
    "from nltk.stem.porter import *\n",
    "from nltk.tokenize import word_tokenize\n",
    "from nltk.corpus import stopwords"
   ]
  },
  {
   "cell_type": "code",
   "execution_count": 2,
   "metadata": {},
   "outputs": [
    {
     "name": "stdout",
     "output_type": "stream",
     "text": [
      "(653, 7)\n"
     ]
    }
   ],
   "source": [
    "df = pd.read_csv('latest_dataset.csv')\n",
    "df = df.drop('Success',axis=1)\n",
    "\n",
    "success_data = pd.read_csv(\"../success_data.csv\").drop('Unnamed: 0', axis=1) #, index_col=0)\n",
    "print(success_data.shape)\n",
    "upper = success_data['Domestic ROI (%)'].mean() + (3 * success_data['Domestic ROI (%)'].std())\n",
    "lower = success_data['Domestic ROI (%)'].mean() - (3 * success_data['Domestic ROI (%)'].std())\n",
    "success_data = success_data[(success_data['Domestic ROI (%)']>=lower) & (success_data['Domestic ROI (%)']<= upper)]\n",
    "success_data['Success'] = (success_data['Domestic ROI (%)']>70)*1\n",
    "\n",
    "\n",
    "filterCols = ['passive_ratio', 'pct_coref_sents', 'tot_unique_per_sent','tot_stop_per_sent', 'std_of_overall_polarity', \n",
    "              'wav_polarity', 'avg_FK', 'sign_check_char_mention_polairty', 'std_of_char_mention_polarity', \n",
    "              'Processed Title', 'avg_sim_score', 'Success']\n",
    "\n",
    "df = pd.merge(df, success_data, on='Processed Title')"
   ]
  },
  {
   "cell_type": "code",
   "execution_count": 3,
   "metadata": {},
   "outputs": [
    {
     "data": {
      "text/html": [
       "<div>\n",
       "<style scoped>\n",
       "    .dataframe tbody tr th:only-of-type {\n",
       "        vertical-align: middle;\n",
       "    }\n",
       "\n",
       "    .dataframe tbody tr th {\n",
       "        vertical-align: top;\n",
       "    }\n",
       "\n",
       "    .dataframe thead th {\n",
       "        text-align: right;\n",
       "    }\n",
       "</style>\n",
       "<table border=\"1\" class=\"dataframe\">\n",
       "  <thead>\n",
       "    <tr style=\"text-align: right;\">\n",
       "      <th></th>\n",
       "      <th>passive_ratio</th>\n",
       "      <th>pct_coref_sents</th>\n",
       "      <th>tot_unique_per_sent</th>\n",
       "      <th>tot_stop_per_sent</th>\n",
       "      <th>std_of_overall_polarity</th>\n",
       "      <th>wav_polarity</th>\n",
       "      <th>avg_FK</th>\n",
       "      <th>sign_check_char_mention_polairty</th>\n",
       "      <th>std_of_char_mention_polarity</th>\n",
       "      <th>Processed Title</th>\n",
       "      <th>avg_sim_score</th>\n",
       "      <th>Success</th>\n",
       "    </tr>\n",
       "  </thead>\n",
       "  <tbody>\n",
       "    <tr>\n",
       "      <th>0</th>\n",
       "      <td>0.031377</td>\n",
       "      <td>0.054656</td>\n",
       "      <td>2.214575</td>\n",
       "      <td>0.548583</td>\n",
       "      <td>0.778124</td>\n",
       "      <td>0.812752</td>\n",
       "      <td>2.4</td>\n",
       "      <td>0</td>\n",
       "      <td>0.780684</td>\n",
       "      <td>Avatar</td>\n",
       "      <td>0.297514</td>\n",
       "      <td>1</td>\n",
       "    </tr>\n",
       "    <tr>\n",
       "      <th>1</th>\n",
       "      <td>0.030601</td>\n",
       "      <td>0.065574</td>\n",
       "      <td>2.373770</td>\n",
       "      <td>0.585792</td>\n",
       "      <td>0.775803</td>\n",
       "      <td>0.683503</td>\n",
       "      <td>3.0</td>\n",
       "      <td>0</td>\n",
       "      <td>0.787237</td>\n",
       "      <td>Avengers,-The</td>\n",
       "      <td>0.284754</td>\n",
       "      <td>1</td>\n",
       "    </tr>\n",
       "    <tr>\n",
       "      <th>2</th>\n",
       "      <td>0.029767</td>\n",
       "      <td>0.185841</td>\n",
       "      <td>2.172969</td>\n",
       "      <td>0.464200</td>\n",
       "      <td>0.784953</td>\n",
       "      <td>0.903355</td>\n",
       "      <td>2.8</td>\n",
       "      <td>0</td>\n",
       "      <td>0.796159</td>\n",
       "      <td>Men-in-Black-3</td>\n",
       "      <td>0.264265</td>\n",
       "      <td>1</td>\n",
       "    </tr>\n",
       "    <tr>\n",
       "      <th>3</th>\n",
       "      <td>0.027927</td>\n",
       "      <td>0.060150</td>\n",
       "      <td>2.360902</td>\n",
       "      <td>0.625134</td>\n",
       "      <td>0.871314</td>\n",
       "      <td>-0.294680</td>\n",
       "      <td>2.4</td>\n",
       "      <td>0</td>\n",
       "      <td>0.906034</td>\n",
       "      <td>Guardians-of-the-Galaxy-Vol-2</td>\n",
       "      <td>0.256726</td>\n",
       "      <td>1</td>\n",
       "    </tr>\n",
       "    <tr>\n",
       "      <th>4</th>\n",
       "      <td>0.035524</td>\n",
       "      <td>0.046181</td>\n",
       "      <td>2.792185</td>\n",
       "      <td>0.857904</td>\n",
       "      <td>0.701191</td>\n",
       "      <td>0.687086</td>\n",
       "      <td>2.4</td>\n",
       "      <td>0</td>\n",
       "      <td>0.705212</td>\n",
       "      <td>2012</td>\n",
       "      <td>0.174552</td>\n",
       "      <td>1</td>\n",
       "    </tr>\n",
       "  </tbody>\n",
       "</table>\n",
       "</div>"
      ],
      "text/plain": [
       "   passive_ratio  pct_coref_sents  tot_unique_per_sent  tot_stop_per_sent  \\\n",
       "0       0.031377         0.054656             2.214575           0.548583   \n",
       "1       0.030601         0.065574             2.373770           0.585792   \n",
       "2       0.029767         0.185841             2.172969           0.464200   \n",
       "3       0.027927         0.060150             2.360902           0.625134   \n",
       "4       0.035524         0.046181             2.792185           0.857904   \n",
       "\n",
       "   std_of_overall_polarity  wav_polarity  avg_FK  \\\n",
       "0                 0.778124      0.812752     2.4   \n",
       "1                 0.775803      0.683503     3.0   \n",
       "2                 0.784953      0.903355     2.8   \n",
       "3                 0.871314     -0.294680     2.4   \n",
       "4                 0.701191      0.687086     2.4   \n",
       "\n",
       "   sign_check_char_mention_polairty  std_of_char_mention_polarity  \\\n",
       "0                                 0                      0.780684   \n",
       "1                                 0                      0.787237   \n",
       "2                                 0                      0.796159   \n",
       "3                                 0                      0.906034   \n",
       "4                                 0                      0.705212   \n",
       "\n",
       "                 Processed Title  avg_sim_score  Success  \n",
       "0                         Avatar       0.297514        1  \n",
       "1                  Avengers,-The       0.284754        1  \n",
       "2                 Men-in-Black-3       0.264265        1  \n",
       "3  Guardians-of-the-Galaxy-Vol-2       0.256726        1  \n",
       "4                           2012       0.174552        1  "
      ]
     },
     "execution_count": 3,
     "metadata": {},
     "output_type": "execute_result"
    }
   ],
   "source": [
    "df = pd.read_csv('latest_dataset.csv')\n",
    "df = df[filterCols]\n",
    "df = df.replace('?',np.NaN)\n",
    "df = df.dropna(how='any')\n",
    "\n",
    "X = df.drop('Success',axis=1)\n",
    "y = df['Success']\n",
    "\n",
    "df.head()"
   ]
  },
  {
   "cell_type": "code",
   "execution_count": 4,
   "metadata": {},
   "outputs": [],
   "source": [
    "import omdb\n",
    "def getOmdbData(movie):\n",
    "    api_key = 'eb6547ff'\n",
    "    omdb.set_default('apikey', api_key)\n",
    "    return omdb.get(title=movie, fullplot=True, tomatoes=True)\n",
    "\n",
    "files = os.listdir('../scripts/')\n",
    "\n",
    "#Create a a dict where each item contains information on a movie in dictionary format\n",
    "movies = {}\n",
    "for each in files:\n",
    "    movie = {}\n",
    "    if '-The_script.txt' in each:\n",
    "        movies['The '+each.replace('-The_script.txt','').replace('-', ' ')[:-1]] = {'filename':each}\n",
    "    else:\n",
    "        movies[each.replace('_script.txt','').replace('-', ' ')] = {'filename':each}\n",
    "\n"
   ]
  },
  {
   "cell_type": "code",
   "execution_count": 5,
   "metadata": {},
   "outputs": [],
   "source": [
    "x = getOmdbData('127 Hours')\n"
   ]
  },
  {
   "cell_type": "code",
   "execution_count": 6,
   "metadata": {},
   "outputs": [],
   "source": [
    "temp = []\n",
    "for movie in movies.keys():\n",
    "    #for the given movie name we fetch the imdb data\n",
    "    x = getOmdbData(movie)\n",
    "    temp.append(x)\n",
    "    \n",
    "imdb_df = pd.DataFrame(temp)\n",
    "imdb_df.to_csv('imdb_data.csv',index=False)"
   ]
  },
  {
   "cell_type": "code",
   "execution_count": 6,
   "metadata": {},
   "outputs": [],
   "source": [
    "df = pd.read_csv('latest_dataset.csv')\n",
    "imdb_df = pd.read_csv('imdb_data.csv')\n",
    "feature_df = pd.read_csv('../feat_extraction/movies_with_feats_use_me.csv')\n",
    "mapping = feature_df[['Unnamed: 0','Processed Title']]\n",
    "mapping.columns = ['title','Processed Title']\n",
    "new_df = pd.merge(pd.merge(imdb_df[['title','imdb_rating']], mapping, on='title'), df, on='Processed Title')"
   ]
  },
  {
   "cell_type": "code",
   "execution_count": 10,
   "metadata": {},
   "outputs": [
    {
     "data": {
      "text/html": [
       "<div>\n",
       "<style scoped>\n",
       "    .dataframe tbody tr th:only-of-type {\n",
       "        vertical-align: middle;\n",
       "    }\n",
       "\n",
       "    .dataframe tbody tr th {\n",
       "        vertical-align: top;\n",
       "    }\n",
       "\n",
       "    .dataframe thead th {\n",
       "        text-align: right;\n",
       "    }\n",
       "</style>\n",
       "<table border=\"1\" class=\"dataframe\">\n",
       "  <thead>\n",
       "    <tr style=\"text-align: right;\">\n",
       "      <th></th>\n",
       "      <th>imdb_rating</th>\n",
       "      <th>passive_ratio</th>\n",
       "      <th>pct_coref_sents</th>\n",
       "      <th>tot_unique_per_sent</th>\n",
       "      <th>tot_stop_per_sent</th>\n",
       "      <th>std_of_overall_polarity</th>\n",
       "      <th>wav_polarity</th>\n",
       "      <th>avg_FK</th>\n",
       "      <th>sign_check_char_mention_polairty</th>\n",
       "      <th>std_of_char_mention_polarity</th>\n",
       "      <th>avg_sim_score</th>\n",
       "      <th>Success</th>\n",
       "    </tr>\n",
       "  </thead>\n",
       "  <tbody>\n",
       "    <tr>\n",
       "      <th>count</th>\n",
       "      <td>517.000000</td>\n",
       "      <td>517.000000</td>\n",
       "      <td>517.000000</td>\n",
       "      <td>517.000000</td>\n",
       "      <td>517.000000</td>\n",
       "      <td>517.000000</td>\n",
       "      <td>517.000000</td>\n",
       "      <td>517.000000</td>\n",
       "      <td>517.000000</td>\n",
       "      <td>517.000000</td>\n",
       "      <td>517.000000</td>\n",
       "      <td>517.000000</td>\n",
       "    </tr>\n",
       "    <tr>\n",
       "      <th>mean</th>\n",
       "      <td>6.963636</td>\n",
       "      <td>0.036045</td>\n",
       "      <td>0.071081</td>\n",
       "      <td>2.243184</td>\n",
       "      <td>0.562857</td>\n",
       "      <td>0.632605</td>\n",
       "      <td>0.297669</td>\n",
       "      <td>2.382592</td>\n",
       "      <td>0.148936</td>\n",
       "      <td>0.617015</td>\n",
       "      <td>0.269754</td>\n",
       "      <td>0.827853</td>\n",
       "    </tr>\n",
       "    <tr>\n",
       "      <th>std</th>\n",
       "      <td>0.913758</td>\n",
       "      <td>0.012814</td>\n",
       "      <td>0.044121</td>\n",
       "      <td>0.481752</td>\n",
       "      <td>0.159709</td>\n",
       "      <td>0.361267</td>\n",
       "      <td>0.642070</td>\n",
       "      <td>0.834762</td>\n",
       "      <td>0.430278</td>\n",
       "      <td>0.342068</td>\n",
       "      <td>0.074095</td>\n",
       "      <td>0.377874</td>\n",
       "    </tr>\n",
       "    <tr>\n",
       "      <th>min</th>\n",
       "      <td>2.300000</td>\n",
       "      <td>0.009793</td>\n",
       "      <td>0.000000</td>\n",
       "      <td>1.136612</td>\n",
       "      <td>0.202166</td>\n",
       "      <td>0.000185</td>\n",
       "      <td>-0.998798</td>\n",
       "      <td>0.000000</td>\n",
       "      <td>-1.000000</td>\n",
       "      <td>0.000000</td>\n",
       "      <td>0.128296</td>\n",
       "      <td>0.000000</td>\n",
       "    </tr>\n",
       "    <tr>\n",
       "      <th>25%</th>\n",
       "      <td>6.400000</td>\n",
       "      <td>0.027829</td>\n",
       "      <td>0.036341</td>\n",
       "      <td>1.931749</td>\n",
       "      <td>0.441702</td>\n",
       "      <td>0.209785</td>\n",
       "      <td>-0.220646</td>\n",
       "      <td>1.800000</td>\n",
       "      <td>0.000000</td>\n",
       "      <td>0.396941</td>\n",
       "      <td>0.217145</td>\n",
       "      <td>1.000000</td>\n",
       "    </tr>\n",
       "    <tr>\n",
       "      <th>50%</th>\n",
       "      <td>7.000000</td>\n",
       "      <td>0.033913</td>\n",
       "      <td>0.059791</td>\n",
       "      <td>2.182216</td>\n",
       "      <td>0.537008</td>\n",
       "      <td>0.782361</td>\n",
       "      <td>0.469319</td>\n",
       "      <td>2.400000</td>\n",
       "      <td>0.000000</td>\n",
       "      <td>0.775850</td>\n",
       "      <td>0.256013</td>\n",
       "      <td>1.000000</td>\n",
       "    </tr>\n",
       "    <tr>\n",
       "      <th>75%</th>\n",
       "      <td>7.600000</td>\n",
       "      <td>0.042912</td>\n",
       "      <td>0.093750</td>\n",
       "      <td>2.536437</td>\n",
       "      <td>0.656066</td>\n",
       "      <td>0.915044</td>\n",
       "      <td>0.901755</td>\n",
       "      <td>2.800000</td>\n",
       "      <td>0.000000</td>\n",
       "      <td>0.864342</td>\n",
       "      <td>0.305342</td>\n",
       "      <td>1.000000</td>\n",
       "    </tr>\n",
       "    <tr>\n",
       "      <th>max</th>\n",
       "      <td>9.300000</td>\n",
       "      <td>0.132075</td>\n",
       "      <td>0.256545</td>\n",
       "      <td>4.457926</td>\n",
       "      <td>1.029354</td>\n",
       "      <td>0.977878</td>\n",
       "      <td>0.999809</td>\n",
       "      <td>5.600000</td>\n",
       "      <td>1.000000</td>\n",
       "      <td>0.979477</td>\n",
       "      <td>0.617082</td>\n",
       "      <td>1.000000</td>\n",
       "    </tr>\n",
       "  </tbody>\n",
       "</table>\n",
       "</div>"
      ],
      "text/plain": [
       "       imdb_rating  passive_ratio  pct_coref_sents  tot_unique_per_sent  \\\n",
       "count   517.000000     517.000000       517.000000           517.000000   \n",
       "mean      6.963636       0.036045         0.071081             2.243184   \n",
       "std       0.913758       0.012814         0.044121             0.481752   \n",
       "min       2.300000       0.009793         0.000000             1.136612   \n",
       "25%       6.400000       0.027829         0.036341             1.931749   \n",
       "50%       7.000000       0.033913         0.059791             2.182216   \n",
       "75%       7.600000       0.042912         0.093750             2.536437   \n",
       "max       9.300000       0.132075         0.256545             4.457926   \n",
       "\n",
       "       tot_stop_per_sent  std_of_overall_polarity  wav_polarity      avg_FK  \\\n",
       "count         517.000000               517.000000    517.000000  517.000000   \n",
       "mean            0.562857                 0.632605      0.297669    2.382592   \n",
       "std             0.159709                 0.361267      0.642070    0.834762   \n",
       "min             0.202166                 0.000185     -0.998798    0.000000   \n",
       "25%             0.441702                 0.209785     -0.220646    1.800000   \n",
       "50%             0.537008                 0.782361      0.469319    2.400000   \n",
       "75%             0.656066                 0.915044      0.901755    2.800000   \n",
       "max             1.029354                 0.977878      0.999809    5.600000   \n",
       "\n",
       "       sign_check_char_mention_polairty  std_of_char_mention_polarity  \\\n",
       "count                        517.000000                    517.000000   \n",
       "mean                           0.148936                      0.617015   \n",
       "std                            0.430278                      0.342068   \n",
       "min                           -1.000000                      0.000000   \n",
       "25%                            0.000000                      0.396941   \n",
       "50%                            0.000000                      0.775850   \n",
       "75%                            0.000000                      0.864342   \n",
       "max                            1.000000                      0.979477   \n",
       "\n",
       "       avg_sim_score     Success  \n",
       "count     517.000000  517.000000  \n",
       "mean        0.269754    0.827853  \n",
       "std         0.074095    0.377874  \n",
       "min         0.128296    0.000000  \n",
       "25%         0.217145    1.000000  \n",
       "50%         0.256013    1.000000  \n",
       "75%         0.305342    1.000000  \n",
       "max         0.617082    1.000000  "
      ]
     },
     "execution_count": 10,
     "metadata": {},
     "output_type": "execute_result"
    }
   ],
   "source": [
    "new_df['imdb_rating'] <"
   ]
  },
  {
   "cell_type": "code",
   "execution_count": 28,
   "metadata": {},
   "outputs": [],
   "source": [
    "from sklearn.preprocessing import StandardScaler\n",
    "ss = StandardScaler()\n",
    "X_id = X['Processed Title']\n",
    "X = ss.fit_transform(X.drop('Processed Title',axis=1).values)"
   ]
  },
  {
   "cell_type": "code",
   "execution_count": 29,
   "metadata": {},
   "outputs": [],
   "source": [
    "from sklearn.linear_model import LogisticRegression\n",
    "from sklearn.neural_network import MLPClassifier\n",
    "from sklearn.tree import DecisionTreeClassifier\n",
    "from sklearn.ensemble import RandomForestClassifier\n",
    "from sklearn.svm import SVC\n",
    "\n",
    "clfs = {'lr': LogisticRegression(random_state=0),\n",
    "        'mlp': MLPClassifier(random_state=0),\n",
    "        'dt': DecisionTreeClassifier(random_state=0),\n",
    "        'rf': RandomForestClassifier(random_state=0),\n",
    "        'svc': SVC(random_state=0)}"
   ]
  },
  {
   "cell_type": "code",
   "execution_count": 30,
   "metadata": {},
   "outputs": [],
   "source": [
    "from sklearn.pipeline import Pipeline\n",
    "from sklearn.preprocessing import StandardScaler\n",
    "\n",
    "pipe_clfs = {}\n",
    "\n",
    "for name, clf in clfs.items():\n",
    "    # Implement me\n",
    "    pipe_clfs[name] = Pipeline([('StandardScaler',StandardScaler()),('clf',clf)])"
   ]
  },
  {
   "cell_type": "code",
   "execution_count": 31,
   "metadata": {},
   "outputs": [],
   "source": [
    "param_grids = {}"
   ]
  },
  {
   "cell_type": "code",
   "execution_count": 32,
   "metadata": {},
   "outputs": [],
   "source": [
    "C_range = [10 ** i for i in range(-4, 5)]\n",
    "\n",
    "param_grid = [{'clf__multi_class': ['ovr'], \n",
    "               'clf__solver': ['newton-cg', 'lbfgs', 'liblinear', 'sag', 'saga'],\n",
    "               'clf__C': C_range},\n",
    "              {'clf__multi_class': ['multinomial'],\n",
    "               'clf__solver': ['newton-cg', 'lbfgs', 'sag', 'saga'],\n",
    "               'clf__C': C_range}]\n",
    "\n",
    "# Implement me\n",
    "param_grids['lr'] = param_grid"
   ]
  },
  {
   "cell_type": "code",
   "execution_count": 33,
   "metadata": {},
   "outputs": [],
   "source": [
    "param_grid = [{'clf__hidden_layer_sizes': [10, 100, 200],\n",
    "               'clf__activation': ['identity', 'logistic', 'tanh', 'relu']}]\n",
    "\n",
    "# Implement me\n",
    "param_grids['mlp'] = param_grid"
   ]
  },
  {
   "cell_type": "code",
   "execution_count": 34,
   "metadata": {},
   "outputs": [],
   "source": [
    "param_grid = [{'clf__min_samples_split': [2, 10, 30],\n",
    "               'clf__min_samples_leaf': [1, 10, 30]}]\n",
    "\n",
    "# Implement me\n",
    "param_grids['dt'] = param_grid"
   ]
  },
  {
   "cell_type": "code",
   "execution_count": 35,
   "metadata": {},
   "outputs": [],
   "source": [
    "param_grid = [{'clf__n_estimators': [2, 10, 30],\n",
    "               'clf__min_samples_split': [2, 10, 30],\n",
    "               'clf__min_samples_leaf': [1, 10, 30]}]\n",
    "\n",
    "# Implement me\n",
    "param_grids['rf'] = param_grid"
   ]
  },
  {
   "cell_type": "code",
   "execution_count": 36,
   "metadata": {},
   "outputs": [],
   "source": [
    "param_grid = [{'clf__C': [0.01, 0.1, 1, 10, 100],\n",
    "               'clf__gamma': [0.01, 0.1, 1, 10, 100],\n",
    "               'clf__kernel': ['linear', 'poly', 'rbf', 'sigmoid']}]\n",
    "\n",
    "# Implement me\n",
    "param_grids['svc'] = param_grid"
   ]
  },
  {
   "cell_type": "code",
   "execution_count": 37,
   "metadata": {},
   "outputs": [
    {
     "data": {
      "text/plain": [
       "array([[-0.36238155, -0.374653  , -0.05975787, ..., -0.35228279,\n",
       "         0.48016592,  0.37777427],\n",
       "       [-0.42232269, -0.12792826,  0.26584147, ..., -0.35228279,\n",
       "         0.49930884,  0.20436729],\n",
       "       [-0.48682259,  2.5898864 , -0.1448543 , ..., -0.35228279,\n",
       "         0.52536775, -0.07406607],\n",
       "       ...,\n",
       "       [-0.60870943, -1.03979261, -0.45613979, ..., -0.35228279,\n",
       "         0.3213868 , -0.74758159],\n",
       "       [ 0.31213687, -0.1829286 , -0.80401902, ..., -0.35228279,\n",
       "         0.52836867,  1.42863646],\n",
       "       [ 0.83393843,  0.92807414, -0.97995141, ...,  1.96838006,\n",
       "        -1.79779358,  0.87720494]])"
      ]
     },
     "execution_count": 37,
     "metadata": {},
     "output_type": "execute_result"
    }
   ],
   "source": [
    "X"
   ]
  },
  {
   "cell_type": "code",
   "execution_count": 38,
   "metadata": {},
   "outputs": [],
   "source": [
    "from sklearn.metrics import confusion_matrix\n",
    "from sklearn.model_selection import train_test_split\n",
    "\n",
    "X_train, X_test, y_train, y_test = train_test_split(X, y, test_size=0.3, random_state=0, stratify=y)"
   ]
  },
  {
   "cell_type": "code",
   "execution_count": 70,
   "metadata": {},
   "outputs": [
    {
     "name": "stderr",
     "output_type": "stream",
     "text": [
      "/Users/akartikay/anaconda3/lib/python3.6/site-packages/sklearn/model_selection/_search.py:841: DeprecationWarning: The default of the `iid` parameter will change from True to False in version 0.22 and will be removed in 0.24. This will change numeric results when test-set sizes are unequal.\n",
      "  DeprecationWarning)\n",
      "/Users/akartikay/anaconda3/lib/python3.6/site-packages/sklearn/model_selection/_search.py:841: DeprecationWarning: The default of the `iid` parameter will change from True to False in version 0.22 and will be removed in 0.24. This will change numeric results when test-set sizes are unequal.\n",
      "  DeprecationWarning)\n",
      "/Users/akartikay/anaconda3/lib/python3.6/site-packages/sklearn/neural_network/multilayer_perceptron.py:562: ConvergenceWarning: Stochastic Optimizer: Maximum iterations (200) reached and the optimization hasn't converged yet.\n",
      "  % self.max_iter, ConvergenceWarning)\n",
      "/Users/akartikay/anaconda3/lib/python3.6/site-packages/sklearn/model_selection/_search.py:841: DeprecationWarning: The default of the `iid` parameter will change from True to False in version 0.22 and will be removed in 0.24. This will change numeric results when test-set sizes are unequal.\n",
      "  DeprecationWarning)\n",
      "/Users/akartikay/anaconda3/lib/python3.6/site-packages/sklearn/model_selection/_search.py:841: DeprecationWarning: The default of the `iid` parameter will change from True to False in version 0.22 and will be removed in 0.24. This will change numeric results when test-set sizes are unequal.\n",
      "  DeprecationWarning)\n",
      "/Users/akartikay/anaconda3/lib/python3.6/site-packages/sklearn/model_selection/_search.py:841: DeprecationWarning: The default of the `iid` parameter will change from True to False in version 0.22 and will be removed in 0.24. This will change numeric results when test-set sizes are unequal.\n",
      "  DeprecationWarning)\n"
     ]
    }
   ],
   "source": [
    "from sklearn.model_selection import GridSearchCV\n",
    "from sklearn.model_selection import StratifiedKFold\n",
    "\n",
    "# The list of [best_score_, best_params_, best_estimator_]\n",
    "best_score_param_estimators = []\n",
    "\n",
    "# For each classifier\n",
    "for name in pipe_clfs.keys():\n",
    "    # GridSearchCV\n",
    "    # Implement me\n",
    "    gs = GridSearchCV(estimator=pipe_clfs[name], param_grid=param_grids[name], scoring='precision', n_jobs=-1, cv=StratifiedKFold(\n",
    "    n_splits=10, shuffle=True, random_state=10))\n",
    "    \n",
    "    # Fit the pipeline\n",
    "    gs.fit(X_train, y_train)\n",
    "    \n",
    "    # Update best_score_param_estimators\n",
    "    best_score_param_estimators.append([gs.best_score_, gs.best_params_, gs.best_estimator_])"
   ]
  },
  {
   "cell_type": "code",
   "execution_count": 71,
   "metadata": {},
   "outputs": [
    {
     "name": "stdout",
     "output_type": "stream",
     "text": [
      "[1.0, {'clf__C': 1, 'clf__gamma': 100, 'clf__kernel': 'rbf'}, <class 'sklearn.svm.classes.SVC'>]\n",
      "\n",
      "[0.6762785296350886, {'clf__min_samples_leaf': 1, 'clf__min_samples_split': 2, 'clf__n_estimators': 2}, <class 'sklearn.ensemble.forest.RandomForestClassifier'>]\n",
      "\n",
      "[0.6058917704614446, {'clf__min_samples_leaf': 1, 'clf__min_samples_split': 2}, <class 'sklearn.tree.tree.DecisionTreeClassifier'>]\n",
      "\n",
      "[0.6006057245405045, {'clf__activation': 'relu', 'clf__hidden_layer_sizes': 200}, <class 'sklearn.neural_network.multilayer_perceptron.MLPClassifier'>]\n",
      "\n",
      "[0.546901213756852, {'clf__C': 0.0001, 'clf__multi_class': 'multinomial', 'clf__solver': 'newton-cg'}, <class 'sklearn.linear_model.logistic.LogisticRegression'>]\n",
      "\n"
     ]
    }
   ],
   "source": [
    "best_score_param_estimators = sorted(best_score_param_estimators, key=lambda x : x[0], reverse=True)\n",
    "\n",
    "# For each [best_score_, best_params_, best_estimator_]\n",
    "for best_score_param_estimator in best_score_param_estimators:\n",
    "    # Print out [best_score_, best_params_, best_estimator_], where best_estimator_ is a pipeline\n",
    "    # Since we only print out the type of classifier of the pipeline\n",
    "    print([best_score_param_estimator[0], best_score_param_estimator[1], type(best_score_param_estimator[2].named_steps['clf'])], end='\\n\\n')"
   ]
  },
  {
   "cell_type": "code",
   "execution_count": 72,
   "metadata": {},
   "outputs": [
    {
     "name": "stdout",
     "output_type": "stream",
     "text": [
      "0.7142857142857143\n",
      "(439, 10) (439,)\n"
     ]
    },
    {
     "data": {
      "text/plain": [
       "array([0, 0, 0, 0, 0, 1, 0, 0, 0, 0, 0, 0, 0, 0, 0, 0, 0, 1, 0, 0, 0, 0,\n",
       "       0, 0, 0, 0, 0, 0, 0, 0, 0, 1, 0, 0, 0, 0, 0, 1, 0, 0, 0, 0, 0, 0,\n",
       "       1, 1, 1, 1, 0, 1, 0, 0, 0, 0, 0, 0, 0, 0, 0, 1, 0, 0, 1, 0, 0, 0,\n",
       "       0, 0, 0, 0, 0, 0, 0, 0, 0, 1, 0, 0, 0, 0, 0, 1, 0, 0, 0, 0, 0, 0,\n",
       "       0, 1, 0, 0, 1, 0, 0, 0, 0, 0, 0, 1, 0, 0, 0, 0, 1, 0, 0, 0, 0, 1,\n",
       "       0, 0, 0, 0, 0, 1, 0, 1, 0, 0, 1, 0, 0, 1, 1, 1, 0, 1, 0, 0, 0, 0,\n",
       "       1, 0, 0, 1, 0, 0, 0, 0, 1, 0, 0, 0, 0, 1, 0, 1, 0, 0, 0, 0, 1, 0,\n",
       "       0, 1, 0, 0, 1, 1, 0, 1, 0, 0, 0, 1, 0, 0, 0, 0, 0, 0, 1, 0, 0, 1,\n",
       "       0, 0, 0, 0, 0, 0, 0, 0, 1, 0, 1, 0, 0])"
      ]
     },
     "execution_count": 72,
     "metadata": {},
     "output_type": "execute_result"
    }
   ],
   "source": [
    "pd.crosstab(y_test, best_score_param_estimators[0][-1].predict(X_test), rownames=['True'], colnames=['Predicted'])\n",
    "best_score_param_estimators[0][2].fit(X_train, y_train)\n",
    "print(best_score_param_estimators[0][2].score(X_test, y_test))\n",
    "print(X_train.shape, y_train.shape)\n",
    "best_score_param_estimators[0][2].predict(X_test)"
   ]
  },
  {
   "cell_type": "code",
   "execution_count": 73,
   "metadata": {},
   "outputs": [
    {
     "data": {
      "text/html": [
       "<div>\n",
       "<style scoped>\n",
       "    .dataframe tbody tr th:only-of-type {\n",
       "        vertical-align: middle;\n",
       "    }\n",
       "\n",
       "    .dataframe tbody tr th {\n",
       "        vertical-align: top;\n",
       "    }\n",
       "\n",
       "    .dataframe thead th {\n",
       "        text-align: right;\n",
       "    }\n",
       "</style>\n",
       "<table border=\"1\" class=\"dataframe\">\n",
       "  <thead>\n",
       "    <tr style=\"text-align: right;\">\n",
       "      <th>Predicted</th>\n",
       "      <th>0</th>\n",
       "      <th>1</th>\n",
       "    </tr>\n",
       "    <tr>\n",
       "      <th>True</th>\n",
       "      <th></th>\n",
       "      <th></th>\n",
       "    </tr>\n",
       "  </thead>\n",
       "  <tbody>\n",
       "    <tr>\n",
       "      <th>0</th>\n",
       "      <td>95</td>\n",
       "      <td>0</td>\n",
       "    </tr>\n",
       "    <tr>\n",
       "      <th>1</th>\n",
       "      <td>54</td>\n",
       "      <td>40</td>\n",
       "    </tr>\n",
       "  </tbody>\n",
       "</table>\n",
       "</div>"
      ],
      "text/plain": [
       "Predicted   0   1\n",
       "True             \n",
       "0          95   0\n",
       "1          54  40"
      ]
     },
     "execution_count": 73,
     "metadata": {},
     "output_type": "execute_result"
    }
   ],
   "source": [
    "pd.crosstab(y_test, best_score_param_estimators[0][-1].predict(X_test), rownames=['True'], colnames=['Predicted'])"
   ]
  },
  {
   "cell_type": "code",
   "execution_count": 74,
   "metadata": {},
   "outputs": [],
   "source": [
    "from imblearn.over_sampling import RandomOverSampler"
   ]
  },
  {
   "cell_type": "code",
   "execution_count": 75,
   "metadata": {},
   "outputs": [],
   "source": [
    "ros = RandomOverSampler()\n",
    "X_ros, y_ros = ros.fit_sample(X, y)\n",
    "X_train, X_test, y_train, y_test = train_test_split(X_ros, y_ros, test_size=0.3, random_state=0, stratify=y_ros)"
   ]
  },
  {
   "cell_type": "code",
   "execution_count": 76,
   "metadata": {},
   "outputs": [],
   "source": [
    "X_ros, y_ros = ros.fit_sample(X, y)"
   ]
  },
  {
   "cell_type": "code",
   "execution_count": 77,
   "metadata": {},
   "outputs": [
    {
     "data": {
      "text/plain": [
       "(628, 10)"
      ]
     },
     "execution_count": 77,
     "metadata": {},
     "output_type": "execute_result"
    }
   ],
   "source": [
    "X_ros.shape"
   ]
  },
  {
   "cell_type": "code",
   "execution_count": 78,
   "metadata": {},
   "outputs": [
    {
     "data": {
      "text/plain": [
       "(628,)"
      ]
     },
     "execution_count": 78,
     "metadata": {},
     "output_type": "execute_result"
    }
   ],
   "source": [
    "y_ros.shape"
   ]
  },
  {
   "cell_type": "code",
   "execution_count": 79,
   "metadata": {},
   "outputs": [],
   "source": [
    "X_train, X_test, y_train, y_test = train_test_split(X_ros, y_ros, test_size=0.3, random_state=0, stratify=y_ros)"
   ]
  },
  {
   "cell_type": "code",
   "execution_count": 80,
   "metadata": {},
   "outputs": [
    {
     "data": {
      "text/plain": [
       "array([0, 0, 0, 0, 0, 1, 0, 0, 0, 0, 0, 0, 0, 0, 0, 0, 0, 1, 0, 0, 0, 0,\n",
       "       0, 0, 0, 0, 0, 0, 1, 0, 0, 1, 0, 1, 0, 0, 0, 1, 0, 0, 0, 0, 0, 0,\n",
       "       1, 1, 1, 1, 0, 1, 0, 0, 0, 0, 0, 0, 0, 1, 0, 0, 0, 0, 1, 0, 0, 0,\n",
       "       0, 0, 0, 0, 0, 0, 0, 0, 0, 1, 0, 0, 0, 0, 0, 1, 0, 0, 0, 0, 0, 0,\n",
       "       0, 1, 0, 0, 1, 0, 0, 0, 0, 0, 0, 1, 0, 0, 0, 0, 1, 0, 0, 0, 0, 1,\n",
       "       0, 0, 0, 0, 0, 1, 0, 1, 0, 0, 0, 0, 0, 1, 1, 0, 0, 1, 0, 0, 0, 0,\n",
       "       1, 0, 0, 1, 0, 0, 0, 0, 1, 0, 0, 0, 0, 1, 0, 1, 0, 0, 0, 0, 0, 0,\n",
       "       0, 1, 0, 0, 1, 0, 0, 0, 1, 0, 0, 1, 0, 0, 0, 0, 0, 0, 1, 0, 0, 1,\n",
       "       0, 0, 0, 0, 0, 0, 0, 0, 0, 0, 1, 0, 0])"
      ]
     },
     "execution_count": 80,
     "metadata": {},
     "output_type": "execute_result"
    }
   ],
   "source": [
    "best_score_param_estimators[0][-1].predict(X_test)"
   ]
  },
  {
   "cell_type": "code",
   "execution_count": 81,
   "metadata": {},
   "outputs": [
    {
     "data": {
      "text/html": [
       "<div>\n",
       "<style scoped>\n",
       "    .dataframe tbody tr th:only-of-type {\n",
       "        vertical-align: middle;\n",
       "    }\n",
       "\n",
       "    .dataframe tbody tr th {\n",
       "        vertical-align: top;\n",
       "    }\n",
       "\n",
       "    .dataframe thead th {\n",
       "        text-align: right;\n",
       "    }\n",
       "</style>\n",
       "<table border=\"1\" class=\"dataframe\">\n",
       "  <thead>\n",
       "    <tr style=\"text-align: right;\">\n",
       "      <th>Predicted</th>\n",
       "      <th>0</th>\n",
       "      <th>1</th>\n",
       "    </tr>\n",
       "    <tr>\n",
       "      <th>True</th>\n",
       "      <th></th>\n",
       "      <th></th>\n",
       "    </tr>\n",
       "  </thead>\n",
       "  <tbody>\n",
       "    <tr>\n",
       "      <th>0</th>\n",
       "      <td>95</td>\n",
       "      <td>0</td>\n",
       "    </tr>\n",
       "    <tr>\n",
       "      <th>1</th>\n",
       "      <td>57</td>\n",
       "      <td>37</td>\n",
       "    </tr>\n",
       "  </tbody>\n",
       "</table>\n",
       "</div>"
      ],
      "text/plain": [
       "Predicted   0   1\n",
       "True             \n",
       "0          95   0\n",
       "1          57  37"
      ]
     },
     "execution_count": 81,
     "metadata": {},
     "output_type": "execute_result"
    }
   ],
   "source": [
    "pd.crosstab(y_test, best_score_param_estimators[0][-1].predict(X_test), rownames=['True'], colnames=['Predicted'])"
   ]
  },
  {
   "cell_type": "code",
   "execution_count": null,
   "metadata": {},
   "outputs": [],
   "source": []
  },
  {
   "cell_type": "code",
   "execution_count": null,
   "metadata": {},
   "outputs": [],
   "source": []
  }
 ],
 "metadata": {
  "kernelspec": {
   "display_name": "Python 3",
   "language": "python",
   "name": "python3"
  },
  "language_info": {
   "codemirror_mode": {
    "name": "ipython",
    "version": 3
   },
   "file_extension": ".py",
   "mimetype": "text/x-python",
   "name": "python",
   "nbconvert_exporter": "python",
   "pygments_lexer": "ipython3",
   "version": "3.6.5"
  }
 },
 "nbformat": 4,
 "nbformat_minor": 2
}
