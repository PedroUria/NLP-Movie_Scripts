{
 "cells": [
  {
   "cell_type": "code",
   "execution_count": 1,
   "metadata": {},
   "outputs": [
    {
     "data": {
      "text/html": [
       "<div>\n",
       "<style scoped>\n",
       "    .dataframe tbody tr th:only-of-type {\n",
       "        vertical-align: middle;\n",
       "    }\n",
       "\n",
       "    .dataframe tbody tr th {\n",
       "        vertical-align: top;\n",
       "    }\n",
       "\n",
       "    .dataframe thead th {\n",
       "        text-align: right;\n",
       "    }\n",
       "</style>\n",
       "<table border=\"1\" class=\"dataframe\">\n",
       "  <thead>\n",
       "    <tr style=\"text-align: right;\">\n",
       "      <th></th>\n",
       "      <th>Processed Title</th>\n",
       "      <th>Release Date</th>\n",
       "      <th>Production Budget ($)</th>\n",
       "      <th>Domestic Gross ($)</th>\n",
       "      <th>Worldwide Gross ($)</th>\n",
       "      <th>Domestic ROI (%)</th>\n",
       "      <th>Worldwide ROI (%)</th>\n",
       "    </tr>\n",
       "  </thead>\n",
       "  <tbody>\n",
       "    <tr>\n",
       "      <th>Avatar</th>\n",
       "      <td>Avatar</td>\n",
       "      <td>Dec 18, 2009</td>\n",
       "      <td>425000000</td>\n",
       "      <td>760507625.0</td>\n",
       "      <td>2.776345e+09</td>\n",
       "      <td>78.942971</td>\n",
       "      <td>553.257713</td>\n",
       "    </tr>\n",
       "    <tr>\n",
       "      <th>The Dark Knight Rises</th>\n",
       "      <td>Dark-Knight-Rises,-The</td>\n",
       "      <td>Jul 20, 2012</td>\n",
       "      <td>275000000</td>\n",
       "      <td>448139099.0</td>\n",
       "      <td>1.084439e+09</td>\n",
       "      <td>62.959672</td>\n",
       "      <td>294.341491</td>\n",
       "    </tr>\n",
       "    <tr>\n",
       "      <th>The Avengers</th>\n",
       "      <td>Avengers,-The</td>\n",
       "      <td>May 4, 2012</td>\n",
       "      <td>225000000</td>\n",
       "      <td>623279547.0</td>\n",
       "      <td>1.517936e+09</td>\n",
       "      <td>177.013132</td>\n",
       "      <td>574.638176</td>\n",
       "    </tr>\n",
       "    <tr>\n",
       "      <th>Pirates of the Caribbean: Dead Man's Chest</th>\n",
       "      <td>Pirates-of-the-Caribbean-Dead-Man's-Chest</td>\n",
       "      <td>Jul 7, 2006</td>\n",
       "      <td>225000000</td>\n",
       "      <td>423315812.0</td>\n",
       "      <td>1.066216e+09</td>\n",
       "      <td>88.140361</td>\n",
       "      <td>373.873694</td>\n",
       "    </tr>\n",
       "    <tr>\n",
       "      <th>Men in Black 3</th>\n",
       "      <td>Men-in-Black-3</td>\n",
       "      <td>May 25, 2012</td>\n",
       "      <td>215000000</td>\n",
       "      <td>179020854.0</td>\n",
       "      <td>6.542135e+08</td>\n",
       "      <td>-16.734487</td>\n",
       "      <td>204.285342</td>\n",
       "    </tr>\n",
       "  </tbody>\n",
       "</table>\n",
       "</div>"
      ],
      "text/plain": [
       "                                                                      Processed Title  \\\n",
       "Avatar                                                                         Avatar   \n",
       "The Dark Knight Rises                                          Dark-Knight-Rises,-The   \n",
       "The Avengers                                                            Avengers,-The   \n",
       "Pirates of the Caribbean: Dead Man's Chest  Pirates-of-the-Caribbean-Dead-Man's-Chest   \n",
       "Men in Black 3                                                         Men-in-Black-3   \n",
       "\n",
       "                                            Release Date  \\\n",
       "Avatar                                      Dec 18, 2009   \n",
       "The Dark Knight Rises                       Jul 20, 2012   \n",
       "The Avengers                                 May 4, 2012   \n",
       "Pirates of the Caribbean: Dead Man's Chest   Jul 7, 2006   \n",
       "Men in Black 3                              May 25, 2012   \n",
       "\n",
       "                                            Production Budget ($)  \\\n",
       "Avatar                                                  425000000   \n",
       "The Dark Knight Rises                                   275000000   \n",
       "The Avengers                                            225000000   \n",
       "Pirates of the Caribbean: Dead Man's Chest              225000000   \n",
       "Men in Black 3                                          215000000   \n",
       "\n",
       "                                            Domestic Gross ($)  \\\n",
       "Avatar                                             760507625.0   \n",
       "The Dark Knight Rises                              448139099.0   \n",
       "The Avengers                                       623279547.0   \n",
       "Pirates of the Caribbean: Dead Man's Chest         423315812.0   \n",
       "Men in Black 3                                     179020854.0   \n",
       "\n",
       "                                            Worldwide Gross ($)  \\\n",
       "Avatar                                             2.776345e+09   \n",
       "The Dark Knight Rises                              1.084439e+09   \n",
       "The Avengers                                       1.517936e+09   \n",
       "Pirates of the Caribbean: Dead Man's Chest         1.066216e+09   \n",
       "Men in Black 3                                     6.542135e+08   \n",
       "\n",
       "                                            Domestic ROI (%)  \\\n",
       "Avatar                                             78.942971   \n",
       "The Dark Knight Rises                              62.959672   \n",
       "The Avengers                                      177.013132   \n",
       "Pirates of the Caribbean: Dead Man's Chest         88.140361   \n",
       "Men in Black 3                                    -16.734487   \n",
       "\n",
       "                                            Worldwide ROI (%)  \n",
       "Avatar                                             553.257713  \n",
       "The Dark Knight Rises                              294.341491  \n",
       "The Avengers                                       574.638176  \n",
       "Pirates of the Caribbean: Dead Man's Chest         373.873694  \n",
       "Men in Black 3                                     204.285342  "
      ]
     },
     "execution_count": 1,
     "metadata": {},
     "output_type": "execute_result"
    }
   ],
   "source": [
    "import pandas as pd\n",
    "import matplotlib.pyplot as plt\n",
    "\n",
    "df = pd.read_csv(\"success_data.csv\", index_col=0)\n",
    "df.head()"
   ]
  },
  {
   "cell_type": "code",
   "execution_count": 2,
   "metadata": {},
   "outputs": [
    {
     "data": {
      "text/plain": [
       "(653, 7)"
      ]
     },
     "execution_count": 2,
     "metadata": {},
     "output_type": "execute_result"
    }
   ],
   "source": [
    "df.shape"
   ]
  },
  {
   "cell_type": "markdown",
   "metadata": {},
   "source": [
    "Let's go with `Worldwide ROI` for now"
   ]
  },
  {
   "cell_type": "code",
   "execution_count": 3,
   "metadata": {},
   "outputs": [
    {
     "data": {
      "image/png": "[encoded data removed]",
      "text/plain": [
       "<Figure size 432x288 with 1 Axes>"
      ]
     },
     "metadata": {},
     "output_type": "display_data"
    }
   ],
   "source": [
    "df[\"Worldwide ROI (%)\"].hist(bins=200)\n",
    "plt.show()"
   ]
  },
  {
   "cell_type": "code",
   "execution_count": 4,
   "metadata": {},
   "outputs": [
    {
     "data": {
      "image/png": "[encoded data removed]",
      "text/plain": [
       "<Figure size 432x288 with 1 Axes>"
      ]
     },
     "metadata": {},
     "output_type": "display_data"
    }
   ],
   "source": [
    "df[\"Worldwide ROI (%)\"][df[\"Worldwide ROI (%)\"] < 5000].hist(bins=100)\n",
    "plt.show()"
   ]
  },
  {
   "cell_type": "markdown",
   "metadata": {},
   "source": [
    "It looks like most of the movies are making about between -100% and 500%. We have also quite few outliers. TODO: Think how to best discretize this. For now, let's just go with sucessfull and unsucessfull, to see the balance."
   ]
  },
  {
   "cell_type": "code",
   "execution_count": 9,
   "metadata": {},
   "outputs": [
    {
     "data": {
      "text/plain": [
       "1    424\n",
       "0    229\n",
       "Name: Success, dtype: int64"
      ]
     },
     "execution_count": 9,
     "metadata": {},
     "output_type": "execute_result"
    }
   ],
   "source": [
    "df[\"Success\"] = df.apply(lambda row: 1 if row[\"Worldwide ROI (%)\"] > 100 else 0, axis=1)\n",
    "df.to_csv('Success_on_worldROI.csv',index=False)"
   ]
  },
  {
   "cell_type": "code",
   "execution_count": 6,
   "metadata": {},
   "outputs": [
    {
     "data": {
      "text/plain": [
       "Processed Title          Speed-Racer\n",
       "Release Date             May 9, 2008\n",
       "Production Budget ($)      120000000\n",
       "Domestic Gross ($)       4.39458e+07\n",
       "Worldwide Gross ($)      9.33945e+07\n",
       "Domestic ROI (%)            -63.3785\n",
       "Worldwide ROI (%)           -22.1713\n",
       "Success                            0\n",
       "Name: Speed Racer, dtype: object"
      ]
     },
     "execution_count": 6,
     "metadata": {},
     "output_type": "execute_result"
    }
   ],
   "source": [
    "df.loc[\"Speed Racer\"]"
   ]
  },
  {
   "cell_type": "code",
   "execution_count": 7,
   "metadata": {},
   "outputs": [
    {
     "data": {
      "text/plain": [
       "1    574\n",
       "0    121\n",
       "Name: Success, dtype: int64"
      ]
     },
     "execution_count": 7,
     "metadata": {},
     "output_type": "execute_result"
    }
   ],
   "source": [
    "df[\"Success\"].value_counts()"
   ]
  },
  {
   "cell_type": "markdown",
   "metadata": {},
   "source": [
    "Well, it is not that bad. I was honestly expecting less unsuccessful movies. So if we use this data and this target, our model will need to beat a"
   ]
  },
  {
   "cell_type": "code",
   "execution_count": 8,
   "metadata": {},
   "outputs": [
    {
     "data": {
      "text/plain": [
       "0.8258992805755395"
      ]
     },
     "execution_count": 8,
     "metadata": {},
     "output_type": "execute_result"
    }
   ],
   "source": [
    "df[\"Success\"].value_counts()[1]/df.shape[0]"
   ]
  },
  {
   "cell_type": "markdown",
   "metadata": {},
   "source": [
    "accuracy (which would be obtained by classifying all of them as sucessful). Also, we need to take into account that in this case, false positives (classifying a script as sucessful when it will not be) is much worse than false negatives. I think movie studios would rather miss out on a few movies that would have been successful, than risk producing many unsuccessful movies. "
   ]
  },
  {
   "cell_type": "markdown",
   "metadata": {},
   "source": [
    "## Smarter discretization"
   ]
  },
  {
   "cell_type": "code",
   "execution_count": 11,
   "metadata": {},
   "outputs": [
    {
     "data": {
      "text/html": [
       "<div>\n",
       "<style scoped>\n",
       "    .dataframe tbody tr th:only-of-type {\n",
       "        vertical-align: middle;\n",
       "    }\n",
       "\n",
       "    .dataframe tbody tr th {\n",
       "        vertical-align: top;\n",
       "    }\n",
       "\n",
       "    .dataframe thead th {\n",
       "        text-align: right;\n",
       "    }\n",
       "</style>\n",
       "<table border=\"1\" class=\"dataframe\">\n",
       "  <thead>\n",
       "    <tr style=\"text-align: right;\">\n",
       "      <th></th>\n",
       "      <th>Processed Title</th>\n",
       "      <th>Release Date</th>\n",
       "      <th>Production Budget ($)</th>\n",
       "      <th>Domestic Gross ($)</th>\n",
       "      <th>Worldwide Gross ($)</th>\n",
       "      <th>Domestic ROI (%)</th>\n",
       "      <th>Worldwide ROI (%)</th>\n",
       "      <th>Success</th>\n",
       "    </tr>\n",
       "  </thead>\n",
       "  <tbody>\n",
       "    <tr>\n",
       "      <th>Avatar</th>\n",
       "      <td>Avatar</td>\n",
       "      <td>Dec 18, 2009</td>\n",
       "      <td>425000000</td>\n",
       "      <td>760507625.0</td>\n",
       "      <td>2.776345e+09</td>\n",
       "      <td>78.942971</td>\n",
       "      <td>553.257713</td>\n",
       "      <td>3</td>\n",
       "    </tr>\n",
       "    <tr>\n",
       "      <th>The Dark Knight Rises</th>\n",
       "      <td>Dark-Knight-Rises,-The</td>\n",
       "      <td>Jul 20, 2012</td>\n",
       "      <td>275000000</td>\n",
       "      <td>448139099.0</td>\n",
       "      <td>1.084439e+09</td>\n",
       "      <td>62.959672</td>\n",
       "      <td>294.341491</td>\n",
       "      <td>3</td>\n",
       "    </tr>\n",
       "    <tr>\n",
       "      <th>The Avengers</th>\n",
       "      <td>Avengers,-The</td>\n",
       "      <td>May 4, 2012</td>\n",
       "      <td>225000000</td>\n",
       "      <td>623279547.0</td>\n",
       "      <td>1.517936e+09</td>\n",
       "      <td>177.013132</td>\n",
       "      <td>574.638176</td>\n",
       "      <td>3</td>\n",
       "    </tr>\n",
       "    <tr>\n",
       "      <th>Pirates of the Caribbean: Dead Man's Chest</th>\n",
       "      <td>Pirates-of-the-Caribbean-Dead-Man's-Chest</td>\n",
       "      <td>Jul 7, 2006</td>\n",
       "      <td>225000000</td>\n",
       "      <td>423315812.0</td>\n",
       "      <td>1.066216e+09</td>\n",
       "      <td>88.140361</td>\n",
       "      <td>373.873694</td>\n",
       "      <td>3</td>\n",
       "    </tr>\n",
       "    <tr>\n",
       "      <th>Men in Black 3</th>\n",
       "      <td>Men-in-Black-3</td>\n",
       "      <td>May 25, 2012</td>\n",
       "      <td>215000000</td>\n",
       "      <td>179020854.0</td>\n",
       "      <td>6.542135e+08</td>\n",
       "      <td>-16.734487</td>\n",
       "      <td>204.285342</td>\n",
       "      <td>3</td>\n",
       "    </tr>\n",
       "  </tbody>\n",
       "</table>\n",
       "</div>"
      ],
      "text/plain": [
       "                                                                      Processed Title  \\\n",
       "Avatar                                                                         Avatar   \n",
       "The Dark Knight Rises                                          Dark-Knight-Rises,-The   \n",
       "The Avengers                                                            Avengers,-The   \n",
       "Pirates of the Caribbean: Dead Man's Chest  Pirates-of-the-Caribbean-Dead-Man's-Chest   \n",
       "Men in Black 3                                                         Men-in-Black-3   \n",
       "\n",
       "                                            Release Date  \\\n",
       "Avatar                                      Dec 18, 2009   \n",
       "The Dark Knight Rises                       Jul 20, 2012   \n",
       "The Avengers                                 May 4, 2012   \n",
       "Pirates of the Caribbean: Dead Man's Chest   Jul 7, 2006   \n",
       "Men in Black 3                              May 25, 2012   \n",
       "\n",
       "                                            Production Budget ($)  \\\n",
       "Avatar                                                  425000000   \n",
       "The Dark Knight Rises                                   275000000   \n",
       "The Avengers                                            225000000   \n",
       "Pirates of the Caribbean: Dead Man's Chest              225000000   \n",
       "Men in Black 3                                          215000000   \n",
       "\n",
       "                                            Domestic Gross ($)  \\\n",
       "Avatar                                             760507625.0   \n",
       "The Dark Knight Rises                              448139099.0   \n",
       "The Avengers                                       623279547.0   \n",
       "Pirates of the Caribbean: Dead Man's Chest         423315812.0   \n",
       "Men in Black 3                                     179020854.0   \n",
       "\n",
       "                                            Worldwide Gross ($)  \\\n",
       "Avatar                                             2.776345e+09   \n",
       "The Dark Knight Rises                              1.084439e+09   \n",
       "The Avengers                                       1.517936e+09   \n",
       "Pirates of the Caribbean: Dead Man's Chest         1.066216e+09   \n",
       "Men in Black 3                                     6.542135e+08   \n",
       "\n",
       "                                            Domestic ROI (%)  \\\n",
       "Avatar                                             78.942971   \n",
       "The Dark Knight Rises                              62.959672   \n",
       "The Avengers                                      177.013132   \n",
       "Pirates of the Caribbean: Dead Man's Chest         88.140361   \n",
       "Men in Black 3                                    -16.734487   \n",
       "\n",
       "                                            Worldwide ROI (%)  Success  \n",
       "Avatar                                             553.257713        3  \n",
       "The Dark Knight Rises                              294.341491        3  \n",
       "The Avengers                                       574.638176        3  \n",
       "Pirates of the Caribbean: Dead Man's Chest         373.873694        3  \n",
       "Men in Black 3                                     204.285342        3  "
      ]
     },
     "execution_count": 11,
     "metadata": {},
     "output_type": "execute_result"
    }
   ],
   "source": [
    "def discretize(row):\n",
    "    if row[\"Worldwide ROI (%)\"] > 100:\n",
    "        return 3\n",
    "    elif 100 > row[\"Worldwide ROI (%)\"] > 25:\n",
    "        return 2\n",
    "    elif 25 > row[\"Worldwide ROI (%)\"] > -25:\n",
    "        return 1\n",
    "    else:\n",
    "        return 0\n",
    "\n",
    "df[\"Success\"] = df.apply(discretize, axis=1)\n",
    "df.head()"
   ]
  },
  {
   "cell_type": "code",
   "execution_count": 12,
   "metadata": {},
   "outputs": [
    {
     "data": {
      "text/plain": [
       "3    424\n",
       "2     83\n",
       "0     76\n",
       "1     70\n",
       "Name: Success, dtype: int64"
      ]
     },
     "execution_count": 12,
     "metadata": {},
     "output_type": "execute_result"
    }
   ],
   "source": [
    "df[\"Success\"].value_counts()"
   ]
  },
  {
   "cell_type": "code",
   "execution_count": null,
   "metadata": {},
   "outputs": [],
   "source": []
  }
 ],
 "metadata": {
  "kernelspec": {
   "display_name": "Python 3",
   "language": "python",
   "name": "python3"
  },
  "language_info": {
   "codemirror_mode": {
    "name": "ipython",
    "version": 3
   },
   "file_extension": ".py",
   "mimetype": "text/x-python",
   "name": "python",
   "nbconvert_exporter": "python",
   "pygments_lexer": "ipython3",
   "version": "3.6.5"
  }
 },
 "nbformat": 4,
 "nbformat_minor": 2
}
