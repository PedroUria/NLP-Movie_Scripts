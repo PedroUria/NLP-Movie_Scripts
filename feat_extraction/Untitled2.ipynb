{
 "cells": [
  {
   "cell_type": "code",
   "execution_count": 1,
   "metadata": {},
   "outputs": [],
   "source": [
    "# there is an adjusted val index.... \n",
    "# he wants to talk about a coefficient "
   ]
  },
  {
   "cell_type": "code",
   "execution_count": 2,
   "metadata": {},
   "outputs": [],
   "source": [
    "# we know how to evaluate a cluster when we have the GRAND TRUTH, or the labels. \n",
    "# SO WHAT TF DO WE DO IF WE DONT' HAVE THE GRAND TRUTH, or labels???\n",
    "\n",
    "# there is an objective criterion we can use. "
   ]
  },
  {
   "cell_type": "code",
   "execution_count": 3,
   "metadata": {},
   "outputs": [],
   "source": [
    "# we can use somethign called an adjusted rand index"
   ]
  },
  {
   "cell_type": "code",
   "execution_count": 4,
   "metadata": {},
   "outputs": [],
   "source": [
    "# The best known thing to use is shilouette coefficient "
   ]
  },
  {
   "cell_type": "code",
   "execution_count": 5,
   "metadata": {},
   "outputs": [],
   "source": [
    "# for a data set D\n",
    "\n",
    "# with n objects \n",
    "\n",
    "# and k partitions..\n",
    "\n",
    "# 1: find the average dsitance between objects in the cluster, a(o)\n",
    "\n",
    "# b(o) = how similar is the object, o to the other clusters\n",
    "\n",
    "# or maybe a(o) is average dsitnace between that point and other objects in the clsuter \n",
    "\n",
    "\n",
    "# s(o)  =  b(o) - a(o) / MAX [ a(o),b(o)]\n",
    "\n",
    "# AND REMEMBER FOLKS THAT JUST FOR ONE OBJECT \n",
    "# YOU SHOULD REALLY TRY TO DO IT FOR ALL OBJECTS \n",
    "# AND GET SOME KIND OF AVERAGE!!!! "
   ]
  },
  {
   "cell_type": "code",
   "execution_count": 6,
   "metadata": {},
   "outputs": [],
   "source": [
    "# so first, he draws 4 circles, which I guess are partions/clsuters \n",
    "\n",
    "#so he expects a(o) to be smaller than b(o), because if things are in a cluster, they should be mroe similar than what is in the clsuter"
   ]
  },
  {
   "cell_type": "code",
   "execution_count": 7,
   "metadata": {},
   "outputs": [],
   "source": [
    "# b(o) should be bigger than a(o)"
   ]
  },
  {
   "cell_type": "code",
   "execution_count": 8,
   "metadata": {},
   "outputs": [],
   "source": [
    "# so if your # is 1 you are confident that b is big a is small it's in RIGHT cluster.... \n",
    "\n",
    "# opposite side is bad... \n",
    "\n",
    "# so the silhouette will fail sometimmes if yhou don't meet right assumptions \n",
    "\n",
    "# it only works if clsuters ar compact ando ther clsuters are fara away...\n",
    "\n",
    "# it wont' work very well with weird shapes like S or soemting\n",
    "\n",
    "# it also won't perform well if you have a very compact clsuter \n",
    "\n",
    "# compared to a spaced out cluster... \n",
    "\n"
   ]
  },
  {
   "cell_type": "code",
   "execution_count": 9,
   "metadata": {},
   "outputs": [],
   "source": [
    "# So... what in the hell do you do if you are doing db-scan and you end up with DENSE... but kinda weird looking clusters.... \n",
    "\n",
    "# like you have what may look like the letter M???? or the ormal numberal III....."
   ]
  },
  {
   "cell_type": "code",
   "execution_count": null,
   "metadata": {},
   "outputs": [],
   "source": []
  }
 ],
 "metadata": {
  "kernelspec": {
   "display_name": "Python 3",
   "language": "python",
   "name": "python3"
  },
  "language_info": {
   "codemirror_mode": {
    "name": "ipython",
    "version": 3
   },
   "file_extension": ".py",
   "mimetype": "text/x-python",
   "name": "python",
   "nbconvert_exporter": "python",
   "pygments_lexer": "ipython3",
   "version": "3.6.5"
  }
 },
 "nbformat": 4,
 "nbformat_minor": 2
}
