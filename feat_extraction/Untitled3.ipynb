{
 "cells": [
  {
   "cell_type": "code",
   "execution_count": 1,
   "metadata": {},
   "outputs": [],
   "source": [
    "# oh so he says point x2 is density-reachable from x0 if nmin = 4.... \n",
    "\n",
    "# so do you keep doing it such that you have at lest n clusers, lol... \n",
    "\n",
    "\n",
    "# so EDGE point is a point tha thass less than mintps"
   ]
  },
  {
   "cell_type": "code",
   "execution_count": 2,
   "metadata": {},
   "outputs": [],
   "source": [
    "# so selim begins to talk about implementation.... "
   ]
  },
  {
   "cell_type": "code",
   "execution_count": 3,
   "metadata": {},
   "outputs": [],
   "source": [
    "# so as you increase the radius ... you get fewer clusters mro eis included... \n",
    "# if you increase minpts... you get fewer clusters... "
   ]
  },
  {
   "cell_type": "code",
   "execution_count": 4,
   "metadata": {},
   "outputs": [],
   "source": [
    "# so he's saying that you can find a good eps and min_Pts which could be easy after scaling... \n",
    "# OH HE'S JUST SAYING JUST DO NORMALIZATION... \n",
    "# with the correct parameters... you can find the best clustering\n",
    "\n",
    "# so you'd need to do a grid search... "
   ]
  },
  {
   "cell_type": "code",
   "execution_count": 5,
   "metadata": {},
   "outputs": [],
   "source": [
    "# QUESTIONS \n",
    "\n",
    "# 1: why keep track of those edge points???? \n",
    "# 2: do I use the noise points????  is it for anomaly detection, ALSO.... when I do the shillouete metric... \n",
    "# are all of the noise points included???"
   ]
  },
  {
   "cell_type": "code",
   "execution_count": 6,
   "metadata": {},
   "outputs": [],
   "source": [
    "# ADJUSTED RAND INDEX TIME... \n",
    "\n",
    "# gotta be carefulw hen talking about classificaiton etc \n",
    "\n",
    "# labels are not important i.e.. cluster 1 2 or 3... \n",
    "\n",
    "# when we have grand truth.... \n",
    "\n",
    "# we use the ARI... \n",
    "\n",
    "# imagine 2 clsuteirngs \n",
    "\n",
    "\n",
    "#  and y... \n",
    "\n",
    "# so nij = # of common objects in Xi and Yj \n",
    "\n",
    "\n",
    "# wait you can have objects in each??? how is that possible???? \n",
    "\n"
   ]
  },
  {
   "cell_type": "code",
   "execution_count": 7,
   "metadata": {},
   "outputs": [],
   "source": [
    "# he is saying you can have the adjusted rand index on a classificaiton index with 5 classes \n",
    "\n",
    "# and yoru clusteirng algorithm may find... 4 clusters... \n",
    "\n",
    "# the num of clsuter doens't need to match number of classes.... \n"
   ]
  },
  {
   "cell_type": "code",
   "execution_count": 8,
   "metadata": {},
   "outputs": [],
   "source": [
    "# so we gotta find a contingency table\n",
    "\n",
    "# when he talks aboutintersection... he just take sthe set of the membershipts??? \n",
    "\n",
    "\n",
    "# so intersection of ith row with jth column... what???? \n",
    "\n",
    "# if you get 1... that's the best... \n",
    "\n",
    "# that means that the classification labels match PERFECTLY with cthe clusters"
   ]
  },
  {
   "cell_type": "code",
   "execution_count": 9,
   "metadata": {},
   "outputs": [],
   "source": [
    "# ther is also someting called NMI which is normalized mutual info score... "
   ]
  },
  {
   "cell_type": "code",
   "execution_count": 10,
   "metadata": {},
   "outputs": [],
   "source": [
    "# so... when you randomly assign objects into clsuters.... rand is better??? "
   ]
  },
  {
   "cell_type": "code",
   "execution_count": 11,
   "metadata": {},
   "outputs": [],
   "source": [
    "\n",
    "# so he did random asignment.... k0means go t.5... with agglomerative clustering.... it got .62... with dbscan it got 1.00\n",
    "\n",
    "#similar with normlaized mutual info score.... \n",
    "\n",
    "# your intention is you "
   ]
  },
  {
   "cell_type": "code",
   "execution_count": 12,
   "metadata": {},
   "outputs": [],
   "source": [
    "# so in his slides he shows the silhouette distance but when you have truth... \n",
    "\n",
    "# so what is MINIMUM average distance.... \n",
    "\n",
    "# OH SO YOU COMPARE AVERAGE DISTANCE FROM ALL OF THE CLUSTERS.... TO YOUR OBJECT\n",
    "\n",
    "# and then it's the average of that closest clsuter to the point that you compare it to. \n",
    "\n"
   ]
  },
  {
   "cell_type": "code",
   "execution_count": 13,
   "metadata": {},
   "outputs": [],
   "source": [
    "# things to note about a(o)\n",
    "\n",
    "# the smaller the value of a(0), the smaller the clsuter\n",
    "\n",
    "# so we might want to change stuff if a(o) is too small??? \n",
    "\n",
    "\n",
    "# so the larger b(o) is the more separated is \n",
    "\n",
    "# so a bigger b(0) means THE CLOSEST CLSUTER TO THE OBJECT \n",
    "# IS STILL PRETTY FAR AWAY.... "
   ]
  },
  {
   "cell_type": "code",
   "execution_count": null,
   "metadata": {},
   "outputs": [],
   "source": [
    "# he will put another assignment up. \n",
    "# he doesn't want it to interfere with the final...\n",
    "# one idea is hve something quick before the final..... \n",
    "\n",
    "# anothe ridea is to have the assignment date after the final.... \n",
    "\n",
    "# he will provide the assignment and will make it the next sunday at midnight. \n",
    "# it shouldn't take more than a couple of hours..... \n",
    "\n",
    "# for tips.... review everyting we have done \n",
    "# especially assignment wise.... and we hve the textbook \n",
    "\n",
    "# most poeple did good on the assignments... \n",
    "\n",
    "# need to KNOW THE THEORY WELL.... but you should have done some assignments....\n",
    "\n",
    "# suggest you know memorizing (I don't memorizing)\n",
    "\n",
    "# "
   ]
  }
 ],
 "metadata": {
  "kernelspec": {
   "display_name": "Python 3",
   "language": "python",
   "name": "python3"
  },
  "language_info": {
   "codemirror_mode": {
    "name": "ipython",
    "version": 3
   },
   "file_extension": ".py",
   "mimetype": "text/x-python",
   "name": "python",
   "nbconvert_exporter": "python",
   "pygments_lexer": "ipython3",
   "version": "3.6.5"
  }
 },
 "nbformat": 4,
 "nbformat_minor": 2
}
