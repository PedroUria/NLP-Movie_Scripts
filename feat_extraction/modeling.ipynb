{
 "cells": [
  {
   "cell_type": "code",
   "execution_count": 1,
   "metadata": {},
   "outputs": [],
   "source": [
    "from sklearn.model_selection import train_test_split\n",
    "from sklearn.preprocessing import StandardScaler\n",
    "import pandas as pd\n",
    "from sklearn.ensemble import RandomForestClassifier\n",
    "import matplotlib.pyplot as plt\n",
    "from sklearn.linear_model import LogisticRegression\n",
    "from sklearn.svm import SVC\n",
    "from sklearn.neighbors import KNeighborsClassifier"
   ]
  },
  {
   "cell_type": "code",
   "execution_count": 2,
   "metadata": {},
   "outputs": [
    {
     "data": {
      "text/html": [
       "<div>\n",
       "<style scoped>\n",
       "    .dataframe tbody tr th:only-of-type {\n",
       "        vertical-align: middle;\n",
       "    }\n",
       "\n",
       "    .dataframe tbody tr th {\n",
       "        vertical-align: top;\n",
       "    }\n",
       "\n",
       "    .dataframe thead th {\n",
       "        text-align: right;\n",
       "    }\n",
       "</style>\n",
       "<table border=\"1\" class=\"dataframe\">\n",
       "  <thead>\n",
       "    <tr style=\"text-align: right;\">\n",
       "      <th></th>\n",
       "      <th>Processed Title</th>\n",
       "      <th>Success</th>\n",
       "      <th>n_unique_words_char_1</th>\n",
       "      <th>n_unique_words_char_2</th>\n",
       "      <th>n_unique_words_char_3</th>\n",
       "      <th>n_unique_words_char_4</th>\n",
       "      <th>n_unique_words_char_5</th>\n",
       "      <th>FK_read_level_char_1</th>\n",
       "      <th>FK_read_level_char_2</th>\n",
       "      <th>FK_read_level_char_3</th>\n",
       "      <th>...</th>\n",
       "      <th>std_of_overall_polarity</th>\n",
       "      <th>wav_polarity</th>\n",
       "      <th>avg_FK</th>\n",
       "      <th>pass_ratio_ch1</th>\n",
       "      <th>pass_ratio_ch2</th>\n",
       "      <th>pass_ratio_ch3</th>\n",
       "      <th>pass_ratio_ch4</th>\n",
       "      <th>pass_ratio_ch5</th>\n",
       "      <th>sign_check_char_mention_polairty</th>\n",
       "      <th>std_of_char_mention_polarity</th>\n",
       "    </tr>\n",
       "    <tr>\n",
       "      <th>Unnamed: 0</th>\n",
       "      <th></th>\n",
       "      <th></th>\n",
       "      <th></th>\n",
       "      <th></th>\n",
       "      <th></th>\n",
       "      <th></th>\n",
       "      <th></th>\n",
       "      <th></th>\n",
       "      <th></th>\n",
       "      <th></th>\n",
       "      <th></th>\n",
       "      <th></th>\n",
       "      <th></th>\n",
       "      <th></th>\n",
       "      <th></th>\n",
       "      <th></th>\n",
       "      <th></th>\n",
       "      <th></th>\n",
       "      <th></th>\n",
       "      <th></th>\n",
       "      <th></th>\n",
       "    </tr>\n",
       "  </thead>\n",
       "  <tbody>\n",
       "    <tr>\n",
       "      <th>Avatar</th>\n",
       "      <td>Avatar</td>\n",
       "      <td>1</td>\n",
       "      <td>670</td>\n",
       "      <td>565</td>\n",
       "      <td>252</td>\n",
       "      <td>425</td>\n",
       "      <td>276</td>\n",
       "      <td>2</td>\n",
       "      <td>2</td>\n",
       "      <td>2</td>\n",
       "      <td>...</td>\n",
       "      <td>0.778124</td>\n",
       "      <td>0.812752</td>\n",
       "      <td>2.4</td>\n",
       "      <td>0.030374</td>\n",
       "      <td>0.035242</td>\n",
       "      <td>0.039370</td>\n",
       "      <td>0.015152</td>\n",
       "      <td>0.040541</td>\n",
       "      <td>0</td>\n",
       "      <td>0.780684</td>\n",
       "    </tr>\n",
       "    <tr>\n",
       "      <th>The Dark Knight Rises</th>\n",
       "      <td>Dark-Knight-Rises,-The</td>\n",
       "      <td>1</td>\n",
       "      <td>531</td>\n",
       "      <td>514</td>\n",
       "      <td>506</td>\n",
       "      <td>418</td>\n",
       "      <td>434</td>\n",
       "      <td>2</td>\n",
       "      <td>2</td>\n",
       "      <td>3</td>\n",
       "      <td>...</td>\n",
       "      <td>0.931835</td>\n",
       "      <td>-0.130804</td>\n",
       "      <td>2.2</td>\n",
       "      <td>0.049057</td>\n",
       "      <td>0.026549</td>\n",
       "      <td>0.059172</td>\n",
       "      <td>0.053691</td>\n",
       "      <td>0.031447</td>\n",
       "      <td>0</td>\n",
       "      <td>0.964138</td>\n",
       "    </tr>\n",
       "    <tr>\n",
       "      <th>The Avengers</th>\n",
       "      <td>Avengers,-The</td>\n",
       "      <td>1</td>\n",
       "      <td>560</td>\n",
       "      <td>623</td>\n",
       "      <td>359</td>\n",
       "      <td>425</td>\n",
       "      <td>205</td>\n",
       "      <td>2</td>\n",
       "      <td>3</td>\n",
       "      <td>3</td>\n",
       "      <td>...</td>\n",
       "      <td>0.775803</td>\n",
       "      <td>0.683503</td>\n",
       "      <td>3.0</td>\n",
       "      <td>0.038462</td>\n",
       "      <td>0.021944</td>\n",
       "      <td>0.024590</td>\n",
       "      <td>0.030075</td>\n",
       "      <td>0.054545</td>\n",
       "      <td>0</td>\n",
       "      <td>0.787237</td>\n",
       "    </tr>\n",
       "    <tr>\n",
       "      <th>Pirates of the Caribbean: Dead Man's Chest</th>\n",
       "      <td>Pirates-of-the-Caribbean-Dead-Man's-Chest</td>\n",
       "      <td>1</td>\n",
       "      <td>629</td>\n",
       "      <td>373</td>\n",
       "      <td>285</td>\n",
       "      <td>378</td>\n",
       "      <td>281</td>\n",
       "      <td>2</td>\n",
       "      <td>1</td>\n",
       "      <td>1</td>\n",
       "      <td>...</td>\n",
       "      <td>0.778359</td>\n",
       "      <td>0.523430</td>\n",
       "      <td>1.8</td>\n",
       "      <td>0.039275</td>\n",
       "      <td>0.028986</td>\n",
       "      <td>0.044776</td>\n",
       "      <td>0.037879</td>\n",
       "      <td>0.041096</td>\n",
       "      <td>0</td>\n",
       "      <td>0.621058</td>\n",
       "    </tr>\n",
       "    <tr>\n",
       "      <th>Men in Black 3</th>\n",
       "      <td>Men-in-Black-3</td>\n",
       "      <td>1</td>\n",
       "      <td>1206</td>\n",
       "      <td>867</td>\n",
       "      <td>234</td>\n",
       "      <td>209</td>\n",
       "      <td>185</td>\n",
       "      <td>2</td>\n",
       "      <td>3</td>\n",
       "      <td>2</td>\n",
       "      <td>...</td>\n",
       "      <td>0.784953</td>\n",
       "      <td>0.903355</td>\n",
       "      <td>2.8</td>\n",
       "      <td>0.024590</td>\n",
       "      <td>0.033613</td>\n",
       "      <td>0.033333</td>\n",
       "      <td>0.035714</td>\n",
       "      <td>0.078947</td>\n",
       "      <td>0</td>\n",
       "      <td>0.796159</td>\n",
       "    </tr>\n",
       "  </tbody>\n",
       "</table>\n",
       "<p>5 rows × 84 columns</p>\n",
       "</div>"
      ],
      "text/plain": [
       "                                                                      Processed Title  \\\n",
       "Unnamed: 0                                                                              \n",
       "Avatar                                                                         Avatar   \n",
       "The Dark Knight Rises                                          Dark-Knight-Rises,-The   \n",
       "The Avengers                                                            Avengers,-The   \n",
       "Pirates of the Caribbean: Dead Man's Chest  Pirates-of-the-Caribbean-Dead-Man's-Chest   \n",
       "Men in Black 3                                                         Men-in-Black-3   \n",
       "\n",
       "                                            Success  n_unique_words_char_1  \\\n",
       "Unnamed: 0                                                                   \n",
       "Avatar                                            1                    670   \n",
       "The Dark Knight Rises                             1                    531   \n",
       "The Avengers                                      1                    560   \n",
       "Pirates of the Caribbean: Dead Man's Chest        1                    629   \n",
       "Men in Black 3                                    1                   1206   \n",
       "\n",
       "                                            n_unique_words_char_2  \\\n",
       "Unnamed: 0                                                          \n",
       "Avatar                                                        565   \n",
       "The Dark Knight Rises                                         514   \n",
       "The Avengers                                                  623   \n",
       "Pirates of the Caribbean: Dead Man's Chest                    373   \n",
       "Men in Black 3                                                867   \n",
       "\n",
       "                                            n_unique_words_char_3  \\\n",
       "Unnamed: 0                                                          \n",
       "Avatar                                                        252   \n",
       "The Dark Knight Rises                                         506   \n",
       "The Avengers                                                  359   \n",
       "Pirates of the Caribbean: Dead Man's Chest                    285   \n",
       "Men in Black 3                                                234   \n",
       "\n",
       "                                            n_unique_words_char_4  \\\n",
       "Unnamed: 0                                                          \n",
       "Avatar                                                        425   \n",
       "The Dark Knight Rises                                         418   \n",
       "The Avengers                                                  425   \n",
       "Pirates of the Caribbean: Dead Man's Chest                    378   \n",
       "Men in Black 3                                                209   \n",
       "\n",
       "                                            n_unique_words_char_5  \\\n",
       "Unnamed: 0                                                          \n",
       "Avatar                                                        276   \n",
       "The Dark Knight Rises                                         434   \n",
       "The Avengers                                                  205   \n",
       "Pirates of the Caribbean: Dead Man's Chest                    281   \n",
       "Men in Black 3                                                185   \n",
       "\n",
       "                                            FK_read_level_char_1  \\\n",
       "Unnamed: 0                                                         \n",
       "Avatar                                                         2   \n",
       "The Dark Knight Rises                                          2   \n",
       "The Avengers                                                   2   \n",
       "Pirates of the Caribbean: Dead Man's Chest                     2   \n",
       "Men in Black 3                                                 2   \n",
       "\n",
       "                                            FK_read_level_char_2  \\\n",
       "Unnamed: 0                                                         \n",
       "Avatar                                                         2   \n",
       "The Dark Knight Rises                                          2   \n",
       "The Avengers                                                   3   \n",
       "Pirates of the Caribbean: Dead Man's Chest                     1   \n",
       "Men in Black 3                                                 3   \n",
       "\n",
       "                                            FK_read_level_char_3  ...  \\\n",
       "Unnamed: 0                                                        ...   \n",
       "Avatar                                                         2  ...   \n",
       "The Dark Knight Rises                                          3  ...   \n",
       "The Avengers                                                   3  ...   \n",
       "Pirates of the Caribbean: Dead Man's Chest                     1  ...   \n",
       "Men in Black 3                                                 2  ...   \n",
       "\n",
       "                                            std_of_overall_polarity  \\\n",
       "Unnamed: 0                                                            \n",
       "Avatar                                                     0.778124   \n",
       "The Dark Knight Rises                                      0.931835   \n",
       "The Avengers                                               0.775803   \n",
       "Pirates of the Caribbean: Dead Man's Chest                 0.778359   \n",
       "Men in Black 3                                             0.784953   \n",
       "\n",
       "                                            wav_polarity  avg_FK  \\\n",
       "Unnamed: 0                                                         \n",
       "Avatar                                          0.812752     2.4   \n",
       "The Dark Knight Rises                          -0.130804     2.2   \n",
       "The Avengers                                    0.683503     3.0   \n",
       "Pirates of the Caribbean: Dead Man's Chest      0.523430     1.8   \n",
       "Men in Black 3                                  0.903355     2.8   \n",
       "\n",
       "                                            pass_ratio_ch1  pass_ratio_ch2  \\\n",
       "Unnamed: 0                                                                   \n",
       "Avatar                                            0.030374        0.035242   \n",
       "The Dark Knight Rises                             0.049057        0.026549   \n",
       "The Avengers                                      0.038462        0.021944   \n",
       "Pirates of the Caribbean: Dead Man's Chest        0.039275        0.028986   \n",
       "Men in Black 3                                    0.024590        0.033613   \n",
       "\n",
       "                                            pass_ratio_ch3  pass_ratio_ch4  \\\n",
       "Unnamed: 0                                                                   \n",
       "Avatar                                            0.039370        0.015152   \n",
       "The Dark Knight Rises                             0.059172        0.053691   \n",
       "The Avengers                                      0.024590        0.030075   \n",
       "Pirates of the Caribbean: Dead Man's Chest        0.044776        0.037879   \n",
       "Men in Black 3                                    0.033333        0.035714   \n",
       "\n",
       "                                            pass_ratio_ch5  \\\n",
       "Unnamed: 0                                                   \n",
       "Avatar                                            0.040541   \n",
       "The Dark Knight Rises                             0.031447   \n",
       "The Avengers                                      0.054545   \n",
       "Pirates of the Caribbean: Dead Man's Chest        0.041096   \n",
       "Men in Black 3                                    0.078947   \n",
       "\n",
       "                                            sign_check_char_mention_polairty  \\\n",
       "Unnamed: 0                                                                     \n",
       "Avatar                                                                     0   \n",
       "The Dark Knight Rises                                                      0   \n",
       "The Avengers                                                               0   \n",
       "Pirates of the Caribbean: Dead Man's Chest                                 0   \n",
       "Men in Black 3                                                             0   \n",
       "\n",
       "                                            std_of_char_mention_polarity  \n",
       "Unnamed: 0                                                                \n",
       "Avatar                                                          0.780684  \n",
       "The Dark Knight Rises                                           0.964138  \n",
       "The Avengers                                                    0.787237  \n",
       "Pirates of the Caribbean: Dead Man's Chest                      0.621058  \n",
       "Men in Black 3                                                  0.796159  \n",
       "\n",
       "[5 rows x 84 columns]"
      ]
     },
     "execution_count": 2,
     "metadata": {},
     "output_type": "execute_result"
    }
   ],
   "source": [
    "df = pd.read_csv(\"movies_with_feats_use_me.csv\", index_col=0)\n",
    "del df[\"Unnamed: 0.1\"]\n",
    "df.head()"
   ]
  },
  {
   "cell_type": "code",
   "execution_count": 3,
   "metadata": {},
   "outputs": [],
   "source": [
    "drop = list(df.columns[:24]) + list(df.columns[25:56]) + list(df.columns[57:67]) + list(df.columns[68:73]) + list(df.columns[77:82])\n",
    "df_1 = df.drop(drop, axis=1)\n",
    "X = df_1\n",
    "y = df[\"Success\"]"
   ]
  },
  {
   "cell_type": "code",
   "execution_count": 4,
   "metadata": {},
   "outputs": [
    {
     "name": "stdout",
     "output_type": "stream",
     "text": [
      "(653, 9)\n"
     ]
    },
    {
     "data": {
      "text/plain": [
       "(653, 11)"
      ]
     },
     "execution_count": 4,
     "metadata": {},
     "output_type": "execute_result"
    }
   ],
   "source": [
    "X[\"sign_check_char_mention_polairty\"] = X[\"sign_check_char_mention_polairty\"].astype(object)\n",
    "print(X.shape)\n",
    "X = pd.get_dummies(X)\n",
    "X.shape"
   ]
  },
  {
   "cell_type": "code",
   "execution_count": 5,
   "metadata": {},
   "outputs": [
    {
     "data": {
      "text/plain": [
       "(653,)"
      ]
     },
     "execution_count": 5,
     "metadata": {},
     "output_type": "execute_result"
    }
   ],
   "source": [
    "y.shape"
   ]
  },
  {
   "cell_type": "code",
   "execution_count": 6,
   "metadata": {},
   "outputs": [
    {
     "name": "stderr",
     "output_type": "stream",
     "text": [
      "/Users/Pedro./anaconda3/lib/python3.7/site-packages/sklearn/preprocessing/data.py:645: DataConversionWarning: Data with input dtype uint8, float64 were all converted to float64 by StandardScaler.\n",
      "  return self.partial_fit(X, y)\n",
      "/Users/Pedro./anaconda3/lib/python3.7/site-packages/sklearn/base.py:464: DataConversionWarning: Data with input dtype uint8, float64 were all converted to float64 by StandardScaler.\n",
      "  return self.fit(X, **fit_params).transform(X)\n",
      "/Users/Pedro./anaconda3/lib/python3.7/site-packages/ipykernel_launcher.py:4: DataConversionWarning: Data with input dtype uint8, float64 were all converted to float64 by StandardScaler.\n",
      "  after removing the cwd from sys.path.\n"
     ]
    }
   ],
   "source": [
    "X_train, X_test, y_train, y_test = train_test_split(X, y, test_size=0.2, random_state=0, stratify = y)\n",
    "st = StandardScaler()\n",
    "X_train = st.fit_transform(X_train)\n",
    "X_test = st.transform(X_test)"
   ]
  },
  {
   "cell_type": "code",
   "execution_count": 7,
   "metadata": {},
   "outputs": [
    {
     "data": {
      "text/plain": [
       "(1    108\n",
       " 0     23\n",
       " Name: Success, dtype: int64, 0.824)"
      ]
     },
     "execution_count": 7,
     "metadata": {},
     "output_type": "execute_result"
    }
   ],
   "source": [
    "y_test.value_counts(), 0.824"
   ]
  },
  {
   "cell_type": "code",
   "execution_count": 8,
   "metadata": {},
   "outputs": [
    {
     "name": "stderr",
     "output_type": "stream",
     "text": [
      "/Users/Pedro./anaconda3/lib/python3.7/site-packages/sklearn/linear_model/logistic.py:433: FutureWarning: Default solver will be changed to 'lbfgs' in 0.22. Specify a solver to silence this warning.\n",
      "  FutureWarning)\n"
     ]
    },
    {
     "data": {
      "text/plain": [
       "0.8244274809160306"
      ]
     },
     "execution_count": 8,
     "metadata": {},
     "output_type": "execute_result"
    }
   ],
   "source": [
    "logreg = LogisticRegression()\n",
    "logreg.fit(X_train, y_train)\n",
    "logreg.score(X_test, y_test)"
   ]
  },
  {
   "cell_type": "code",
   "execution_count": 9,
   "metadata": {},
   "outputs": [
    {
     "data": {
      "text/plain": [
       "array([1, 1, 1, 1, 1, 1, 1, 1, 1, 1, 1, 1, 1, 1, 1, 1, 1, 1, 1, 1, 1, 1,\n",
       "       1, 1, 1, 1, 1, 1, 1, 1, 1, 1, 1, 1, 1, 1, 1, 1, 1, 1, 1, 1, 1, 1,\n",
       "       1, 1, 1, 1, 1, 1, 1, 1, 1, 1, 1, 1, 1, 1, 1, 1, 1, 1, 1, 1, 1, 1,\n",
       "       1, 1, 1, 1, 1, 1, 1, 1, 1, 1, 1, 1, 1, 1, 1, 1, 1, 1, 1, 1, 1, 1,\n",
       "       1, 1, 1, 1, 1, 1, 1, 1, 1, 1, 1, 1, 1, 1, 1, 1, 1, 1, 1, 1, 1, 1,\n",
       "       1, 1, 1, 1, 1, 1, 1, 1, 1, 1, 1, 1, 1, 1, 1, 1, 1, 1, 1, 1, 1])"
      ]
     },
     "execution_count": 9,
     "metadata": {},
     "output_type": "execute_result"
    }
   ],
   "source": [
    "logreg.predict(X_test)"
   ]
  },
  {
   "cell_type": "code",
   "execution_count": 10,
   "metadata": {},
   "outputs": [
    {
     "data": {
      "text/html": [
       "<div>\n",
       "<style scoped>\n",
       "    .dataframe tbody tr th:only-of-type {\n",
       "        vertical-align: middle;\n",
       "    }\n",
       "\n",
       "    .dataframe tbody tr th {\n",
       "        vertical-align: top;\n",
       "    }\n",
       "\n",
       "    .dataframe thead th {\n",
       "        text-align: right;\n",
       "    }\n",
       "</style>\n",
       "<table border=\"1\" class=\"dataframe\">\n",
       "  <thead>\n",
       "    <tr style=\"text-align: right;\">\n",
       "      <th>Predicted</th>\n",
       "      <th>1</th>\n",
       "    </tr>\n",
       "    <tr>\n",
       "      <th>True</th>\n",
       "      <th></th>\n",
       "    </tr>\n",
       "  </thead>\n",
       "  <tbody>\n",
       "    <tr>\n",
       "      <th>0</th>\n",
       "      <td>23</td>\n",
       "    </tr>\n",
       "    <tr>\n",
       "      <th>1</th>\n",
       "      <td>108</td>\n",
       "    </tr>\n",
       "  </tbody>\n",
       "</table>\n",
       "</div>"
      ],
      "text/plain": [
       "Predicted    1\n",
       "True          \n",
       "0           23\n",
       "1          108"
      ]
     },
     "execution_count": 10,
     "metadata": {},
     "output_type": "execute_result"
    }
   ],
   "source": [
    "pd.crosstab(y_test, logreg.predict(X_test), rownames=['True'], colnames=['Predicted'])"
   ]
  },
  {
   "cell_type": "code",
   "execution_count": 11,
   "metadata": {},
   "outputs": [
    {
     "name": "stdout",
     "output_type": "stream",
     "text": [
      "lr\n",
      "mlp\n",
      "dt\n",
      "rf\n",
      "svc\n",
      "knn\n",
      "gnb\n",
      "ada\n",
      "[0.8381978833381634, {'clf__min_samples_leaf': 1, 'clf__min_samples_split': 2, 'clf__n_estimators': 2}, <class 'sklearn.ensemble.forest.RandomForestClassifier'>]\n",
      "\n",
      "[0.8369585048745467, {'clf__C': 100, 'clf__gamma': 'auto', 'clf__kernel': 'poly'}, <class 'sklearn.svm.classes.SVC'>]\n",
      "\n",
      "[0.836098220041647, {'clf__n_neighbors': 3}, <class 'sklearn.neighbors.classification.KNeighborsClassifier'>]\n",
      "\n",
      "[0.8291975370590673, {'clf__min_samples_leaf': 1, 'clf__min_samples_split': 2}, <class 'sklearn.tree.tree.DecisionTreeClassifier'>]\n",
      "\n",
      "[0.8275862068965517, {'clf__C': 0.0001, 'clf__multi_class': 'ovr', 'clf__solver': 'newton-cg'}, <class 'sklearn.linear_model.logistic.LogisticRegression'>]\n",
      "\n",
      "[0.8275862068965517, {'clf__activation': 'logistic', 'clf__hidden_layer_sizes': 10}, <class 'sklearn.neural_network.multilayer_perceptron.MLPClassifier'>]\n",
      "\n",
      "[0.8275862068965517, {'clf__algorithm': 'SAMME', 'clf__base_estimator': DecisionTreeClassifier(class_weight=None, criterion='gini', max_depth=1,\n",
      "            max_features=None, max_leaf_nodes=None,\n",
      "            min_impurity_decrease=0.0, min_impurity_split=None,\n",
      "            min_samples_leaf=1, min_samples_split=2,\n",
      "            min_weight_fraction_leaf=0.0, presort=False, random_state=None,\n",
      "            splitter='best'), 'clf__learning_rate': 0.01, 'clf__n_estimators': 20}, <class 'sklearn.ensemble.weight_boosting.AdaBoostClassifier'>]\n",
      "\n",
      "[0.8243365924119367, {'clf__var_smoothing': 1e-10}, <class 'sklearn.naive_bayes.GaussianNB'>]\n",
      "\n"
     ]
    }
   ],
   "source": [
    "from sklearn.linear_model import LogisticRegression\n",
    "from sklearn.neural_network import MLPClassifier\n",
    "from sklearn.tree import DecisionTreeClassifier\n",
    "from sklearn.ensemble import RandomForestClassifier, GradientBoostingClassifier, AdaBoostClassifier\n",
    "from sklearn.svm import SVC\n",
    "from sklearn.neighbors import KNeighborsClassifier\n",
    "from sklearn.naive_bayes import GaussianNB\n",
    "\n",
    "clfs = {'lr': LogisticRegression(random_state=0),\n",
    "        'mlp': MLPClassifier(random_state=0),\n",
    "        'dt': DecisionTreeClassifier(random_state=0),\n",
    "        'rf': RandomForestClassifier(random_state=0),\n",
    "        'svc': SVC(random_state=0),\n",
    "        'knn': KNeighborsClassifier(),\n",
    "        'gnb': GaussianNB(),\n",
    "        \"ada\": AdaBoostClassifier(random_state=0),\n",
    "       }\n",
    "\n",
    "from sklearn.pipeline import Pipeline\n",
    "from sklearn.preprocessing import StandardScaler\n",
    "\n",
    "pipe_clfs = {}\n",
    "\n",
    "for name, clf in clfs.items():\n",
    "    pipe_clfs[name] = Pipeline([('StandardScaler', StandardScaler()), ('clf', clf)])\n",
    "    \n",
    "param_grids = {}\n",
    "\n",
    "C_range = [10 ** i for i in range(-4, 5)]\n",
    "param_grid = [{'clf__multi_class': ['ovr'], \n",
    "               'clf__solver': ['newton-cg', 'lbfgs', 'liblinear', 'sag', 'saga'],\n",
    "               'clf__C': C_range},\n",
    "              \n",
    "              {'clf__multi_class': ['multinomial'],\n",
    "               'clf__solver': ['newton-cg', 'lbfgs', 'sag', 'saga'],\n",
    "               'clf__C': C_range}]\n",
    "\n",
    "param_grids['lr'] = param_grid\n",
    "param_grid = [{'clf__hidden_layer_sizes': [10, 100, 200],\n",
    "               'clf__activation': ['identity', 'logistic', 'tanh', 'relu']}]\n",
    "\n",
    "param_grids['mlp'] = param_grid\n",
    "param_grid = [{'clf__min_samples_split': [2, 10, 30],\n",
    "               'clf__min_samples_leaf': [1, 10, 30]}]\n",
    "param_grids['dt'] = param_grid\n",
    "\n",
    "param_grid = [{'clf__n_estimators': [2, 10, 30],\n",
    "               'clf__min_samples_split': [2, 10, 30],\n",
    "               'clf__min_samples_leaf': [1, 10, 30]}]\n",
    "param_grids['rf'] = param_grid\n",
    "\n",
    "param_grid = [{'clf__C': [0.01, 0.1, 1, 10, 100],\n",
    "               'clf__gamma': ['auto', 'scale'],\n",
    "               'clf__kernel': ['linear', 'poly', 'rbf', 'sigmoid']}]\n",
    "param_grids['svc'] = param_grid\n",
    "\n",
    "param_grid = [{'clf__n_neighbors': list(range(1, 11))}]\n",
    "param_grids['knn'] = param_grid\n",
    "\n",
    "param_grid = [{'clf__var_smoothing': [10 ** i for i in range(-10, -7)]}]\n",
    "param_grids['gnb'] = param_grid\n",
    "\n",
    "param_grid = [{'clf__base_estimator': [DecisionTreeClassifier(max_depth=1), LogisticRegression(random_state=0), \n",
    "                                      ], \"clf__n_estimators\": [i*10 for i in range(2, 7)], \n",
    "              \"clf__learning_rate\": [0.01, 0.1, 1], \"clf__algorithm\": [\"SAMME\", \"SAMME.R\"]}]\n",
    "param_grids['ada'] = param_grid\n",
    "\n",
    "#param_grid = [{'clf__var_smoothing': [10 ** i for i in range(-10, -7)]}]\n",
    "#param_grids['gdb'] = param_grid\n",
    "\n",
    "import warnings\n",
    "warnings.filterwarnings('ignore')\n",
    "\n",
    "from sklearn.model_selection import GridSearchCV\n",
    "from sklearn.model_selection import StratifiedKFold\n",
    "\n",
    "# The list of [best_score_, best_params_, best_estimator_]\n",
    "best_score_param_estimators = []\n",
    "\n",
    "# For each classifier\n",
    "for name in pipe_clfs.keys():\n",
    "    # GridSearchCV\n",
    "    # Implement me\n",
    "    gs = GridSearchCV(estimator=pipe_clfs[name],\n",
    "                      param_grid=param_grids[name],\n",
    "                      scoring='precision',\n",
    "                      n_jobs=-1,\n",
    "                      cv=StratifiedKFold(n_splits=10,\n",
    "                                         shuffle=True,\n",
    "                                         random_state=0))\n",
    "    # Fit the pipeline\n",
    "    # Implement me\n",
    "    gs = gs.fit(X_train, y_train)\n",
    "    \n",
    "    print(name)\n",
    "    \n",
    "    # Update best_score_param_estimators\n",
    "    best_score_param_estimators.append([gs.best_score_, gs.best_params_, gs.best_estimator_])\n",
    "    \n",
    "# Sort best_score_param_estimators in descending order of the best_score_\n",
    "# Implement me\n",
    "best_score_param_estimators = sorted(best_score_param_estimators, key=lambda x : x[0], reverse=True)\n",
    "\n",
    "# For each [best_score_, best_params_, best_estimator_]\n",
    "for best_score_param_estimator in best_score_param_estimators:\n",
    "    # Print out [best_score_, best_params_, best_estimator_], where best_estimator_ is a pipeline\n",
    "    # Since we only print out the type of classifier of the pipeline\n",
    "    print([best_score_param_estimator[0], best_score_param_estimator[1], type(best_score_param_estimator[2].named_steps['clf'])], end='\\n\\n')"
   ]
  },
  {
   "cell_type": "code",
   "execution_count": 12,
   "metadata": {},
   "outputs": [
    {
     "data": {
      "text/plain": [
       "0.7709923664122137"
      ]
     },
     "execution_count": 12,
     "metadata": {},
     "output_type": "execute_result"
    }
   ],
   "source": [
    "best_score_param_estimator[2].fit(X_train, y_train)\n",
    "best_score_param_estimator[2].score(X_test, y_test)"
   ]
  },
  {
   "cell_type": "code",
   "execution_count": 13,
   "metadata": {},
   "outputs": [
    {
     "data": {
      "text/plain": [
       "array([1, 0, 1, 1, 0, 1, 1, 1, 1, 1, 1, 1, 1, 1, 1, 1, 1, 1, 0, 1, 1, 1,\n",
       "       1, 1, 1, 1, 1, 1, 1, 1, 1, 1, 1, 1, 1, 1, 1, 1, 0, 1, 1, 1, 1, 1,\n",
       "       0, 1, 1, 1, 1, 1, 1, 1, 1, 1, 0, 1, 1, 0, 1, 1, 1, 1, 0, 1, 1, 1,\n",
       "       1, 1, 1, 1, 1, 1, 1, 1, 1, 1, 1, 1, 0, 1, 1, 1, 1, 1, 1, 1, 1, 1,\n",
       "       1, 1, 1, 1, 1, 1, 1, 1, 1, 1, 1, 1, 1, 1, 0, 1, 1, 1, 1, 1, 1, 1,\n",
       "       1, 1, 1, 0, 0, 1, 1, 1, 0, 1, 0, 1, 1, 1, 1, 1, 1, 0, 1, 1, 1])"
      ]
     },
     "execution_count": 13,
     "metadata": {},
     "output_type": "execute_result"
    }
   ],
   "source": [
    "best_score_param_estimator[2].predict(X_test)"
   ]
  },
  {
   "cell_type": "code",
   "execution_count": 14,
   "metadata": {},
   "outputs": [
    {
     "data": {
      "text/html": [
       "<div>\n",
       "<style scoped>\n",
       "    .dataframe tbody tr th:only-of-type {\n",
       "        vertical-align: middle;\n",
       "    }\n",
       "\n",
       "    .dataframe tbody tr th {\n",
       "        vertical-align: top;\n",
       "    }\n",
       "\n",
       "    .dataframe thead th {\n",
       "        text-align: right;\n",
       "    }\n",
       "</style>\n",
       "<table border=\"1\" class=\"dataframe\">\n",
       "  <thead>\n",
       "    <tr style=\"text-align: right;\">\n",
       "      <th>Predicted</th>\n",
       "      <th>0</th>\n",
       "      <th>1</th>\n",
       "    </tr>\n",
       "    <tr>\n",
       "      <th>True</th>\n",
       "      <th></th>\n",
       "      <th></th>\n",
       "    </tr>\n",
       "  </thead>\n",
       "  <tbody>\n",
       "    <tr>\n",
       "      <th>0</th>\n",
       "      <td>9</td>\n",
       "      <td>14</td>\n",
       "    </tr>\n",
       "    <tr>\n",
       "      <th>1</th>\n",
       "      <td>37</td>\n",
       "      <td>71</td>\n",
       "    </tr>\n",
       "  </tbody>\n",
       "</table>\n",
       "</div>"
      ],
      "text/plain": [
       "Predicted   0   1\n",
       "True             \n",
       "0           9  14\n",
       "1          37  71"
      ]
     },
     "execution_count": 14,
     "metadata": {},
     "output_type": "execute_result"
    }
   ],
   "source": [
    "pd.crosstab(y_test, best_score_param_estimators[0][2].predict(X_test), rownames=['True'], colnames=['Predicted'])"
   ]
  },
  {
   "cell_type": "code",
   "execution_count": 15,
   "metadata": {},
   "outputs": [
    {
     "data": {
      "text/html": [
       "<div>\n",
       "<style scoped>\n",
       "    .dataframe tbody tr th:only-of-type {\n",
       "        vertical-align: middle;\n",
       "    }\n",
       "\n",
       "    .dataframe tbody tr th {\n",
       "        vertical-align: top;\n",
       "    }\n",
       "\n",
       "    .dataframe thead th {\n",
       "        text-align: right;\n",
       "    }\n",
       "</style>\n",
       "<table border=\"1\" class=\"dataframe\">\n",
       "  <thead>\n",
       "    <tr style=\"text-align: right;\">\n",
       "      <th>Predicted</th>\n",
       "      <th>0</th>\n",
       "      <th>1</th>\n",
       "    </tr>\n",
       "    <tr>\n",
       "      <th>True</th>\n",
       "      <th></th>\n",
       "      <th></th>\n",
       "    </tr>\n",
       "  </thead>\n",
       "  <tbody>\n",
       "    <tr>\n",
       "      <th>0</th>\n",
       "      <td>6</td>\n",
       "      <td>17</td>\n",
       "    </tr>\n",
       "    <tr>\n",
       "      <th>1</th>\n",
       "      <td>10</td>\n",
       "      <td>98</td>\n",
       "    </tr>\n",
       "  </tbody>\n",
       "</table>\n",
       "</div>"
      ],
      "text/plain": [
       "Predicted   0   1\n",
       "True             \n",
       "0           6  17\n",
       "1          10  98"
      ]
     },
     "execution_count": 15,
     "metadata": {},
     "output_type": "execute_result"
    }
   ],
   "source": [
    "pd.crosstab(y_test, best_score_param_estimators[1][2].predict(X_test), rownames=['True'], colnames=['Predicted'])"
   ]
  },
  {
   "cell_type": "code",
   "execution_count": 16,
   "metadata": {},
   "outputs": [
    {
     "data": {
      "text/html": [
       "<div>\n",
       "<style scoped>\n",
       "    .dataframe tbody tr th:only-of-type {\n",
       "        vertical-align: middle;\n",
       "    }\n",
       "\n",
       "    .dataframe tbody tr th {\n",
       "        vertical-align: top;\n",
       "    }\n",
       "\n",
       "    .dataframe thead th {\n",
       "        text-align: right;\n",
       "    }\n",
       "</style>\n",
       "<table border=\"1\" class=\"dataframe\">\n",
       "  <thead>\n",
       "    <tr style=\"text-align: right;\">\n",
       "      <th>Predicted</th>\n",
       "      <th>0</th>\n",
       "      <th>1</th>\n",
       "    </tr>\n",
       "    <tr>\n",
       "      <th>True</th>\n",
       "      <th></th>\n",
       "      <th></th>\n",
       "    </tr>\n",
       "  </thead>\n",
       "  <tbody>\n",
       "    <tr>\n",
       "      <th>0</th>\n",
       "      <td>1</td>\n",
       "      <td>22</td>\n",
       "    </tr>\n",
       "    <tr>\n",
       "      <th>1</th>\n",
       "      <td>9</td>\n",
       "      <td>99</td>\n",
       "    </tr>\n",
       "  </tbody>\n",
       "</table>\n",
       "</div>"
      ],
      "text/plain": [
       "Predicted  0   1\n",
       "True            \n",
       "0          1  22\n",
       "1          9  99"
      ]
     },
     "execution_count": 16,
     "metadata": {},
     "output_type": "execute_result"
    }
   ],
   "source": [
    "pd.crosstab(y_test, best_score_param_estimators[2][2].predict(X_test), rownames=['True'], colnames=['Predicted'])"
   ]
  },
  {
   "cell_type": "code",
   "execution_count": 17,
   "metadata": {},
   "outputs": [
    {
     "data": {
      "text/html": [
       "<div>\n",
       "<style scoped>\n",
       "    .dataframe tbody tr th:only-of-type {\n",
       "        vertical-align: middle;\n",
       "    }\n",
       "\n",
       "    .dataframe tbody tr th {\n",
       "        vertical-align: top;\n",
       "    }\n",
       "\n",
       "    .dataframe thead th {\n",
       "        text-align: right;\n",
       "    }\n",
       "</style>\n",
       "<table border=\"1\" class=\"dataframe\">\n",
       "  <thead>\n",
       "    <tr style=\"text-align: right;\">\n",
       "      <th>Predicted</th>\n",
       "      <th>0</th>\n",
       "      <th>1</th>\n",
       "    </tr>\n",
       "    <tr>\n",
       "      <th>True</th>\n",
       "      <th></th>\n",
       "      <th></th>\n",
       "    </tr>\n",
       "  </thead>\n",
       "  <tbody>\n",
       "    <tr>\n",
       "      <th>0</th>\n",
       "      <td>4</td>\n",
       "      <td>19</td>\n",
       "    </tr>\n",
       "    <tr>\n",
       "      <th>1</th>\n",
       "      <td>25</td>\n",
       "      <td>83</td>\n",
       "    </tr>\n",
       "  </tbody>\n",
       "</table>\n",
       "</div>"
      ],
      "text/plain": [
       "Predicted   0   1\n",
       "True             \n",
       "0           4  19\n",
       "1          25  83"
      ]
     },
     "execution_count": 17,
     "metadata": {},
     "output_type": "execute_result"
    }
   ],
   "source": [
    "pd.crosstab(y_test, best_score_param_estimators[3][2].predict(X_test), rownames=['True'], colnames=['Predicted'])"
   ]
  },
  {
   "cell_type": "code",
   "execution_count": 18,
   "metadata": {},
   "outputs": [
    {
     "data": {
      "text/html": [
       "<div>\n",
       "<style scoped>\n",
       "    .dataframe tbody tr th:only-of-type {\n",
       "        vertical-align: middle;\n",
       "    }\n",
       "\n",
       "    .dataframe tbody tr th {\n",
       "        vertical-align: top;\n",
       "    }\n",
       "\n",
       "    .dataframe thead th {\n",
       "        text-align: right;\n",
       "    }\n",
       "</style>\n",
       "<table border=\"1\" class=\"dataframe\">\n",
       "  <thead>\n",
       "    <tr style=\"text-align: right;\">\n",
       "      <th>Predicted</th>\n",
       "      <th>1</th>\n",
       "    </tr>\n",
       "    <tr>\n",
       "      <th>True</th>\n",
       "      <th></th>\n",
       "    </tr>\n",
       "  </thead>\n",
       "  <tbody>\n",
       "    <tr>\n",
       "      <th>0</th>\n",
       "      <td>23</td>\n",
       "    </tr>\n",
       "    <tr>\n",
       "      <th>1</th>\n",
       "      <td>108</td>\n",
       "    </tr>\n",
       "  </tbody>\n",
       "</table>\n",
       "</div>"
      ],
      "text/plain": [
       "Predicted    1\n",
       "True          \n",
       "0           23\n",
       "1          108"
      ]
     },
     "execution_count": 18,
     "metadata": {},
     "output_type": "execute_result"
    }
   ],
   "source": [
    "pd.crosstab(y_test, best_score_param_estimators[4][2].predict(X_test), rownames=['True'], colnames=['Predicted'])"
   ]
  },
  {
   "cell_type": "code",
   "execution_count": 19,
   "metadata": {},
   "outputs": [
    {
     "data": {
      "text/html": [
       "<div>\n",
       "<style scoped>\n",
       "    .dataframe tbody tr th:only-of-type {\n",
       "        vertical-align: middle;\n",
       "    }\n",
       "\n",
       "    .dataframe tbody tr th {\n",
       "        vertical-align: top;\n",
       "    }\n",
       "\n",
       "    .dataframe thead th {\n",
       "        text-align: right;\n",
       "    }\n",
       "</style>\n",
       "<table border=\"1\" class=\"dataframe\">\n",
       "  <thead>\n",
       "    <tr style=\"text-align: right;\">\n",
       "      <th>Predicted</th>\n",
       "      <th>1</th>\n",
       "    </tr>\n",
       "    <tr>\n",
       "      <th>True</th>\n",
       "      <th></th>\n",
       "    </tr>\n",
       "  </thead>\n",
       "  <tbody>\n",
       "    <tr>\n",
       "      <th>0</th>\n",
       "      <td>23</td>\n",
       "    </tr>\n",
       "    <tr>\n",
       "      <th>1</th>\n",
       "      <td>108</td>\n",
       "    </tr>\n",
       "  </tbody>\n",
       "</table>\n",
       "</div>"
      ],
      "text/plain": [
       "Predicted    1\n",
       "True          \n",
       "0           23\n",
       "1          108"
      ]
     },
     "execution_count": 19,
     "metadata": {},
     "output_type": "execute_result"
    }
   ],
   "source": [
    "pd.crosstab(y_test, best_score_param_estimators[5][2].predict(X_test), rownames=['True'], colnames=['Predicted'])"
   ]
  },
  {
   "cell_type": "code",
   "execution_count": 20,
   "metadata": {},
   "outputs": [],
   "source": [
    "from imblearn.over_sampling import RandomOverSampler\n",
    "ros = RandomOverSampler(random_state=0)\n",
    "X_resampled, y_resampled = ros.fit_resample(X, y)\n",
    "X_train_resampled, X_test_resampled, y_train_resampled, y_test_resampled = train_test_split(X,\n",
    "                                                                                            y, test_size=0.2, random_state=0, stratify = y)\n"
   ]
  },
  {
   "cell_type": "code",
   "execution_count": 21,
   "metadata": {},
   "outputs": [
    {
     "name": "stdout",
     "output_type": "stream",
     "text": [
      "lr\n",
      "mlp\n",
      "dt\n",
      "rf\n",
      "svc\n",
      "knn\n",
      "gnb\n",
      "ada\n",
      "[0.8381978833381634, {'clf__min_samples_leaf': 1, 'clf__min_samples_split': 2, 'clf__n_estimators': 2}, <class 'sklearn.ensemble.forest.RandomForestClassifier'>]\n",
      "\n",
      "[0.8369585048745467, {'clf__C': 100, 'clf__gamma': 'auto', 'clf__kernel': 'poly'}, <class 'sklearn.svm.classes.SVC'>]\n",
      "\n",
      "[0.836098220041647, {'clf__n_neighbors': 3}, <class 'sklearn.neighbors.classification.KNeighborsClassifier'>]\n",
      "\n",
      "[0.8291975370590673, {'clf__min_samples_leaf': 1, 'clf__min_samples_split': 2}, <class 'sklearn.tree.tree.DecisionTreeClassifier'>]\n",
      "\n",
      "[0.8275862068965517, {'clf__C': 0.0001, 'clf__multi_class': 'ovr', 'clf__solver': 'newton-cg'}, <class 'sklearn.linear_model.logistic.LogisticRegression'>]\n",
      "\n",
      "[0.8275862068965517, {'clf__activation': 'logistic', 'clf__hidden_layer_sizes': 10}, <class 'sklearn.neural_network.multilayer_perceptron.MLPClassifier'>]\n",
      "\n",
      "[0.8275862068965517, {'clf__algorithm': 'SAMME', 'clf__base_estimator': DecisionTreeClassifier(class_weight=None, criterion='gini', max_depth=1,\n",
      "            max_features=None, max_leaf_nodes=None,\n",
      "            min_impurity_decrease=0.0, min_impurity_split=None,\n",
      "            min_samples_leaf=1, min_samples_split=2,\n",
      "            min_weight_fraction_leaf=0.0, presort=False, random_state=None,\n",
      "            splitter='best'), 'clf__learning_rate': 0.01, 'clf__n_estimators': 20}, <class 'sklearn.ensemble.weight_boosting.AdaBoostClassifier'>]\n",
      "\n",
      "[0.8243365924119367, {'clf__var_smoothing': 1e-10}, <class 'sklearn.naive_bayes.GaussianNB'>]\n",
      "\n"
     ]
    }
   ],
   "source": [
    "from sklearn.linear_model import LogisticRegression\n",
    "from sklearn.neural_network import MLPClassifier\n",
    "from sklearn.tree import DecisionTreeClassifier\n",
    "from sklearn.ensemble import RandomForestClassifier, GradientBoostingClassifier, AdaBoostClassifier\n",
    "from sklearn.svm import SVC\n",
    "from sklearn.neighbors import KNeighborsClassifier\n",
    "from sklearn.naive_bayes import GaussianNB\n",
    "\n",
    "clfs = {'lr': LogisticRegression(random_state=0),\n",
    "        'mlp': MLPClassifier(random_state=0),\n",
    "        'dt': DecisionTreeClassifier(random_state=0),\n",
    "        'rf': RandomForestClassifier(random_state=0),\n",
    "        'svc': SVC(random_state=0),\n",
    "        'knn': KNeighborsClassifier(),\n",
    "        'gnb': GaussianNB(),\n",
    "        \"ada\": AdaBoostClassifier(random_state=0),\n",
    "       }\n",
    "\n",
    "from sklearn.pipeline import Pipeline\n",
    "from sklearn.preprocessing import StandardScaler\n",
    "\n",
    "pipe_clfs = {}\n",
    "\n",
    "for name, clf in clfs.items():\n",
    "    pipe_clfs[name] = Pipeline([('StandardScaler', StandardScaler()), ('clf', clf)])\n",
    "    \n",
    "param_grids = {}\n",
    "\n",
    "C_range = [10 ** i for i in range(-4, 5)]\n",
    "param_grid = [{'clf__multi_class': ['ovr'], \n",
    "               'clf__solver': ['newton-cg', 'lbfgs', 'liblinear', 'sag', 'saga'],\n",
    "               'clf__C': C_range},\n",
    "              \n",
    "              {'clf__multi_class': ['multinomial'],\n",
    "               'clf__solver': ['newton-cg', 'lbfgs', 'sag', 'saga'],\n",
    "               'clf__C': C_range}]\n",
    "\n",
    "param_grids['lr'] = param_grid\n",
    "param_grid = [{'clf__hidden_layer_sizes': [10, 100, 200],\n",
    "               'clf__activation': ['identity', 'logistic', 'tanh', 'relu']}]\n",
    "\n",
    "param_grids['mlp'] = param_grid\n",
    "param_grid = [{'clf__min_samples_split': [2, 10, 30],\n",
    "               'clf__min_samples_leaf': [1, 10, 30]}]\n",
    "param_grids['dt'] = param_grid\n",
    "\n",
    "param_grid = [{'clf__n_estimators': [2, 10, 30],\n",
    "               'clf__min_samples_split': [2, 10, 30],\n",
    "               'clf__min_samples_leaf': [1, 10, 30]}]\n",
    "param_grids['rf'] = param_grid\n",
    "\n",
    "param_grid = [{'clf__C': [0.01, 0.1, 1, 10, 100],\n",
    "               'clf__gamma': ['auto', 'scale'],\n",
    "               'clf__kernel': ['linear', 'poly', 'rbf', 'sigmoid']}]\n",
    "param_grids['svc'] = param_grid\n",
    "\n",
    "param_grid = [{'clf__n_neighbors': list(range(1, 11))}]\n",
    "param_grids['knn'] = param_grid\n",
    "\n",
    "param_grid = [{'clf__var_smoothing': [10 ** i for i in range(-10, -7)]}]\n",
    "param_grids['gnb'] = param_grid\n",
    "\n",
    "param_grid = [{'clf__base_estimator': [DecisionTreeClassifier(max_depth=1), LogisticRegression(random_state=0), \n",
    "                                      ], \"clf__n_estimators\": [i*10 for i in range(2, 7)], \n",
    "              \"clf__learning_rate\": [0.01, 0.1, 1], \"clf__algorithm\": [\"SAMME\", \"SAMME.R\"]}]\n",
    "param_grids['ada'] = param_grid\n",
    "\n",
    "#param_grid = [{'clf__var_smoothing': [10 ** i for i in range(-10, -7)]}]\n",
    "#param_grids['gdb'] = param_grid\n",
    "\n",
    "import warnings\n",
    "warnings.filterwarnings('ignore')\n",
    "\n",
    "from sklearn.model_selection import GridSearchCV\n",
    "from sklearn.model_selection import StratifiedKFold\n",
    "\n",
    "# The list of [best_score_, best_params_, best_estimator_]\n",
    "best_score_param_estimators = []\n",
    "\n",
    "# For each classifier\n",
    "for name in pipe_clfs.keys():\n",
    "    # GridSearchCV\n",
    "    # Implement me\n",
    "    gs = GridSearchCV(estimator=pipe_clfs[name],\n",
    "                      param_grid=param_grids[name],\n",
    "                      scoring='precision',\n",
    "                      n_jobs=-1,\n",
    "                      cv=StratifiedKFold(n_splits=10,\n",
    "                                         shuffle=True,\n",
    "                                         random_state=0))\n",
    "    # Fit the pipeline\n",
    "    # Implement me\n",
    "    gs = gs.fit(X_train_resampled, y_train_resampled)\n",
    "    \n",
    "    print(name)\n",
    "    \n",
    "    # Update best_score_param_estimators\n",
    "    best_score_param_estimators.append([gs.best_score_, gs.best_params_, gs.best_estimator_])\n",
    "    \n",
    "# Sort best_score_param_estimators in descending order of the best_score_\n",
    "# Implement me\n",
    "best_score_param_estimators = sorted(best_score_param_estimators, key=lambda x : x[0], reverse=True)\n",
    "\n",
    "# For each [best_score_, best_params_, best_estimator_]\n",
    "for best_score_param_estimator in best_score_param_estimators:\n",
    "    # Print out [best_score_, best_params_, best_estimator_], where best_estimator_ is a pipeline\n",
    "    # Since we only print out the type of classifier of the pipeline\n",
    "    print([best_score_param_estimator[0], best_score_param_estimator[1], type(best_score_param_estimator[2].named_steps['clf'])], end='\\n\\n')"
   ]
  },
  {
   "cell_type": "code",
   "execution_count": 31,
   "metadata": {},
   "outputs": [
    {
     "data": {
      "text/html": [
       "<div>\n",
       "<style scoped>\n",
       "    .dataframe tbody tr th:only-of-type {\n",
       "        vertical-align: middle;\n",
       "    }\n",
       "\n",
       "    .dataframe tbody tr th {\n",
       "        vertical-align: top;\n",
       "    }\n",
       "\n",
       "    .dataframe thead th {\n",
       "        text-align: right;\n",
       "    }\n",
       "</style>\n",
       "<table border=\"1\" class=\"dataframe\">\n",
       "  <thead>\n",
       "    <tr style=\"text-align: right;\">\n",
       "      <th>Predicted</th>\n",
       "      <th>0</th>\n",
       "      <th>1</th>\n",
       "    </tr>\n",
       "    <tr>\n",
       "      <th>True</th>\n",
       "      <th></th>\n",
       "      <th></th>\n",
       "    </tr>\n",
       "  </thead>\n",
       "  <tbody>\n",
       "    <tr>\n",
       "      <th>0</th>\n",
       "      <td>9</td>\n",
       "      <td>14</td>\n",
       "    </tr>\n",
       "    <tr>\n",
       "      <th>1</th>\n",
       "      <td>37</td>\n",
       "      <td>71</td>\n",
       "    </tr>\n",
       "  </tbody>\n",
       "</table>\n",
       "</div>"
      ],
      "text/plain": [
       "Predicted   0   1\n",
       "True             \n",
       "0           9  14\n",
       "1          37  71"
      ]
     },
     "execution_count": 31,
     "metadata": {},
     "output_type": "execute_result"
    }
   ],
   "source": [
    "best_score_param_estimators[0][2].fit(X_train_resampled, y_train_resampled)\n",
    "pd.crosstab(y_test_resampled, best_score_param_estimators[0][2].predict(X_test_resampled), rownames=['True'], colnames=['Predicted'])"
   ]
  },
  {
   "cell_type": "code",
   "execution_count": 32,
   "metadata": {},
   "outputs": [
    {
     "data": {
      "text/plain": [
       "0.6106870229007634"
      ]
     },
     "execution_count": 32,
     "metadata": {},
     "output_type": "execute_result"
    }
   ],
   "source": [
    "best_score_param_estimators[0][2].score(X_test_resampled, y_test_resampled)"
   ]
  },
  {
   "cell_type": "code",
   "execution_count": 33,
   "metadata": {},
   "outputs": [
    {
     "data": {
      "text/html": [
       "<div>\n",
       "<style scoped>\n",
       "    .dataframe tbody tr th:only-of-type {\n",
       "        vertical-align: middle;\n",
       "    }\n",
       "\n",
       "    .dataframe tbody tr th {\n",
       "        vertical-align: top;\n",
       "    }\n",
       "\n",
       "    .dataframe thead th {\n",
       "        text-align: right;\n",
       "    }\n",
       "</style>\n",
       "<table border=\"1\" class=\"dataframe\">\n",
       "  <thead>\n",
       "    <tr style=\"text-align: right;\">\n",
       "      <th>Predicted</th>\n",
       "      <th>0</th>\n",
       "      <th>1</th>\n",
       "    </tr>\n",
       "    <tr>\n",
       "      <th>True</th>\n",
       "      <th></th>\n",
       "      <th></th>\n",
       "    </tr>\n",
       "  </thead>\n",
       "  <tbody>\n",
       "    <tr>\n",
       "      <th>0</th>\n",
       "      <td>6</td>\n",
       "      <td>17</td>\n",
       "    </tr>\n",
       "    <tr>\n",
       "      <th>1</th>\n",
       "      <td>10</td>\n",
       "      <td>98</td>\n",
       "    </tr>\n",
       "  </tbody>\n",
       "</table>\n",
       "</div>"
      ],
      "text/plain": [
       "Predicted   0   1\n",
       "True             \n",
       "0           6  17\n",
       "1          10  98"
      ]
     },
     "execution_count": 33,
     "metadata": {},
     "output_type": "execute_result"
    }
   ],
   "source": [
    "best_score_param_estimators[1][2].fit(X_train_resampled, y_train_resampled)\n",
    "pd.crosstab(y_test_resampled, best_score_param_estimators[1][2].predict(X_test_resampled), rownames=['True'], colnames=['Predicted'])"
   ]
  },
  {
   "cell_type": "code",
   "execution_count": 34,
   "metadata": {},
   "outputs": [
    {
     "data": {
      "text/plain": [
       "0.7938931297709924"
      ]
     },
     "execution_count": 34,
     "metadata": {},
     "output_type": "execute_result"
    }
   ],
   "source": [
    "best_score_param_estimators[1][2].score(X_test_resampled, y_test_resampled)"
   ]
  },
  {
   "cell_type": "code",
   "execution_count": 36,
   "metadata": {},
   "outputs": [
    {
     "data": {
      "text/plain": [
       "1    108\n",
       "0     23\n",
       "Name: Success, dtype: int64"
      ]
     },
     "execution_count": 36,
     "metadata": {},
     "output_type": "execute_result"
    }
   ],
   "source": [
    "y_test_resampled.value_counts()"
   ]
  },
  {
   "cell_type": "code",
   "execution_count": 24,
   "metadata": {},
   "outputs": [
    {
     "data": {
      "text/html": [
       "<div>\n",
       "<style scoped>\n",
       "    .dataframe tbody tr th:only-of-type {\n",
       "        vertical-align: middle;\n",
       "    }\n",
       "\n",
       "    .dataframe tbody tr th {\n",
       "        vertical-align: top;\n",
       "    }\n",
       "\n",
       "    .dataframe thead th {\n",
       "        text-align: right;\n",
       "    }\n",
       "</style>\n",
       "<table border=\"1\" class=\"dataframe\">\n",
       "  <thead>\n",
       "    <tr style=\"text-align: right;\">\n",
       "      <th>Predicted</th>\n",
       "      <th>0</th>\n",
       "      <th>1</th>\n",
       "    </tr>\n",
       "    <tr>\n",
       "      <th>True</th>\n",
       "      <th></th>\n",
       "      <th></th>\n",
       "    </tr>\n",
       "  </thead>\n",
       "  <tbody>\n",
       "    <tr>\n",
       "      <th>0</th>\n",
       "      <td>2</td>\n",
       "      <td>21</td>\n",
       "    </tr>\n",
       "    <tr>\n",
       "      <th>1</th>\n",
       "      <td>4</td>\n",
       "      <td>104</td>\n",
       "    </tr>\n",
       "  </tbody>\n",
       "</table>\n",
       "</div>"
      ],
      "text/plain": [
       "Predicted  0    1\n",
       "True             \n",
       "0          2   21\n",
       "1          4  104"
      ]
     },
     "execution_count": 24,
     "metadata": {},
     "output_type": "execute_result"
    }
   ],
   "source": [
    "pd.crosstab(y_test, best_score_param_estimators[2][2].predict(X_test), rownames=['True'], colnames=['Predicted'])"
   ]
  },
  {
   "cell_type": "code",
   "execution_count": 25,
   "metadata": {},
   "outputs": [
    {
     "data": {
      "text/html": [
       "<div>\n",
       "<style scoped>\n",
       "    .dataframe tbody tr th:only-of-type {\n",
       "        vertical-align: middle;\n",
       "    }\n",
       "\n",
       "    .dataframe tbody tr th {\n",
       "        vertical-align: top;\n",
       "    }\n",
       "\n",
       "    .dataframe thead th {\n",
       "        text-align: right;\n",
       "    }\n",
       "</style>\n",
       "<table border=\"1\" class=\"dataframe\">\n",
       "  <thead>\n",
       "    <tr style=\"text-align: right;\">\n",
       "      <th>Predicted</th>\n",
       "      <th>0</th>\n",
       "      <th>1</th>\n",
       "    </tr>\n",
       "    <tr>\n",
       "      <th>True</th>\n",
       "      <th></th>\n",
       "      <th></th>\n",
       "    </tr>\n",
       "  </thead>\n",
       "  <tbody>\n",
       "    <tr>\n",
       "      <th>0</th>\n",
       "      <td>8</td>\n",
       "      <td>15</td>\n",
       "    </tr>\n",
       "    <tr>\n",
       "      <th>1</th>\n",
       "      <td>46</td>\n",
       "      <td>62</td>\n",
       "    </tr>\n",
       "  </tbody>\n",
       "</table>\n",
       "</div>"
      ],
      "text/plain": [
       "Predicted   0   1\n",
       "True             \n",
       "0           8  15\n",
       "1          46  62"
      ]
     },
     "execution_count": 25,
     "metadata": {},
     "output_type": "execute_result"
    }
   ],
   "source": [
    "pd.crosstab(y_test, best_score_param_estimators[3][2].predict(X_test), rownames=['True'], colnames=['Predicted'])"
   ]
  },
  {
   "cell_type": "code",
   "execution_count": 26,
   "metadata": {},
   "outputs": [
    {
     "data": {
      "text/html": [
       "<div>\n",
       "<style scoped>\n",
       "    .dataframe tbody tr th:only-of-type {\n",
       "        vertical-align: middle;\n",
       "    }\n",
       "\n",
       "    .dataframe tbody tr th {\n",
       "        vertical-align: top;\n",
       "    }\n",
       "\n",
       "    .dataframe thead th {\n",
       "        text-align: right;\n",
       "    }\n",
       "</style>\n",
       "<table border=\"1\" class=\"dataframe\">\n",
       "  <thead>\n",
       "    <tr style=\"text-align: right;\">\n",
       "      <th>Predicted</th>\n",
       "      <th>1</th>\n",
       "    </tr>\n",
       "    <tr>\n",
       "      <th>True</th>\n",
       "      <th></th>\n",
       "    </tr>\n",
       "  </thead>\n",
       "  <tbody>\n",
       "    <tr>\n",
       "      <th>0</th>\n",
       "      <td>23</td>\n",
       "    </tr>\n",
       "    <tr>\n",
       "      <th>1</th>\n",
       "      <td>108</td>\n",
       "    </tr>\n",
       "  </tbody>\n",
       "</table>\n",
       "</div>"
      ],
      "text/plain": [
       "Predicted    1\n",
       "True          \n",
       "0           23\n",
       "1          108"
      ]
     },
     "execution_count": 26,
     "metadata": {},
     "output_type": "execute_result"
    }
   ],
   "source": [
    "pd.crosstab(y_test, best_score_param_estimators[4][2].predict(X_test), rownames=['True'], colnames=['Predicted'])"
   ]
  },
  {
   "cell_type": "code",
   "execution_count": 27,
   "metadata": {},
   "outputs": [
    {
     "data": {
      "text/html": [
       "<div>\n",
       "<style scoped>\n",
       "    .dataframe tbody tr th:only-of-type {\n",
       "        vertical-align: middle;\n",
       "    }\n",
       "\n",
       "    .dataframe tbody tr th {\n",
       "        vertical-align: top;\n",
       "    }\n",
       "\n",
       "    .dataframe thead th {\n",
       "        text-align: right;\n",
       "    }\n",
       "</style>\n",
       "<table border=\"1\" class=\"dataframe\">\n",
       "  <thead>\n",
       "    <tr style=\"text-align: right;\">\n",
       "      <th>Predicted</th>\n",
       "      <th>1</th>\n",
       "    </tr>\n",
       "    <tr>\n",
       "      <th>True</th>\n",
       "      <th></th>\n",
       "    </tr>\n",
       "  </thead>\n",
       "  <tbody>\n",
       "    <tr>\n",
       "      <th>0</th>\n",
       "      <td>23</td>\n",
       "    </tr>\n",
       "    <tr>\n",
       "      <th>1</th>\n",
       "      <td>108</td>\n",
       "    </tr>\n",
       "  </tbody>\n",
       "</table>\n",
       "</div>"
      ],
      "text/plain": [
       "Predicted    1\n",
       "True          \n",
       "0           23\n",
       "1          108"
      ]
     },
     "execution_count": 27,
     "metadata": {},
     "output_type": "execute_result"
    }
   ],
   "source": [
    "pd.crosstab(y_test, best_score_param_estimators[5][2].predict(X_test), rownames=['True'], colnames=['Predicted'])"
   ]
  },
  {
   "cell_type": "code",
   "execution_count": null,
   "metadata": {},
   "outputs": [],
   "source": []
  },
  {
   "cell_type": "code",
   "execution_count": null,
   "metadata": {},
   "outputs": [],
   "source": []
  },
  {
   "cell_type": "code",
   "execution_count": null,
   "metadata": {},
   "outputs": [],
   "source": []
  },
  {
   "cell_type": "code",
   "execution_count": null,
   "metadata": {},
   "outputs": [],
   "source": []
  },
  {
   "cell_type": "code",
   "execution_count": null,
   "metadata": {},
   "outputs": [],
   "source": []
  },
  {
   "cell_type": "code",
   "execution_count": null,
   "metadata": {},
   "outputs": [],
   "source": []
  },
  {
   "cell_type": "code",
   "execution_count": null,
   "metadata": {},
   "outputs": [],
   "source": []
  },
  {
   "cell_type": "code",
   "execution_count": null,
   "metadata": {},
   "outputs": [],
   "source": []
  },
  {
   "cell_type": "code",
   "execution_count": null,
   "metadata": {},
   "outputs": [],
   "source": []
  },
  {
   "cell_type": "code",
   "execution_count": null,
   "metadata": {},
   "outputs": [],
   "source": []
  },
  {
   "cell_type": "code",
   "execution_count": 32,
   "metadata": {},
   "outputs": [
    {
     "name": "stdout",
     "output_type": "stream",
     "text": [
      "lr\n",
      "mlp\n",
      "dt\n",
      "rf\n",
      "svc\n",
      "knn\n",
      "gnb\n",
      "ada\n",
      "[1.0, {'clf__C': 0.0001, 'clf__multi_class': 'ovr', 'clf__solver': 'newton-cg'}, <class 'sklearn.linear_model.logistic.LogisticRegression'>]\n",
      "\n",
      "[1.0, {'clf__activation': 'logistic', 'clf__hidden_layer_sizes': 10}, <class 'sklearn.neural_network.multilayer_perceptron.MLPClassifier'>]\n",
      "\n",
      "[1.0, {'clf__min_samples_leaf': 10, 'clf__min_samples_split': 2, 'clf__n_estimators': 10}, <class 'sklearn.ensemble.forest.RandomForestClassifier'>]\n",
      "\n",
      "[1.0, {'clf__C': 0.01, 'clf__gamma': 'auto', 'clf__kernel': 'linear'}, <class 'sklearn.svm.classes.SVC'>]\n",
      "\n",
      "[1.0, {'clf__algorithm': 'SAMME', 'clf__base_estimator': DecisionTreeClassifier(class_weight=None, criterion='gini', max_depth=1,\n",
      "            max_features=None, max_leaf_nodes=None,\n",
      "            min_impurity_decrease=0.0, min_impurity_split=None,\n",
      "            min_samples_leaf=1, min_samples_split=2,\n",
      "            min_weight_fraction_leaf=0.0, presort=False, random_state=None,\n",
      "            splitter='best'), 'clf__learning_rate': 0.01, 'clf__n_estimators': 20}, <class 'sklearn.ensemble.weight_boosting.AdaBoostClassifier'>]\n",
      "\n",
      "[0.9814666310255723, {'clf__n_neighbors': 9}, <class 'sklearn.neighbors.classification.KNeighborsClassifier'>]\n",
      "\n",
      "[0.9583181453670627, {'clf__min_samples_leaf': 30, 'clf__min_samples_split': 2}, <class 'sklearn.tree.tree.DecisionTreeClassifier'>]\n",
      "\n",
      "[0.9351787724883154, {'clf__var_smoothing': 1e-10}, <class 'sklearn.naive_bayes.GaussianNB'>]\n",
      "\n"
     ]
    }
   ],
   "source": [
    "from sklearn.linear_model import LogisticRegression\n",
    "from sklearn.neural_network import MLPClassifier\n",
    "from sklearn.tree import DecisionTreeClassifier\n",
    "from sklearn.ensemble import RandomForestClassifier, GradientBoostingClassifier, AdaBoostClassifier\n",
    "from sklearn.svm import SVC\n",
    "from sklearn.neighbors import KNeighborsClassifier\n",
    "from sklearn.naive_bayes import GaussianNB\n",
    "\n",
    "clfs = {'lr': LogisticRegression(random_state=0),\n",
    "        'mlp': MLPClassifier(random_state=0),\n",
    "        'dt': DecisionTreeClassifier(random_state=0),\n",
    "        'rf': RandomForestClassifier(random_state=0),\n",
    "        'svc': SVC(random_state=0),\n",
    "        'knn': KNeighborsClassifier(),\n",
    "        'gnb': GaussianNB(),\n",
    "        \"ada\": AdaBoostClassifier(random_state=0),\n",
    "       }\n",
    "\n",
    "from sklearn.pipeline import Pipeline\n",
    "from sklearn.preprocessing import StandardScaler\n",
    "\n",
    "pipe_clfs = {}\n",
    "\n",
    "for name, clf in clfs.items():\n",
    "    pipe_clfs[name] = Pipeline([('StandardScaler', StandardScaler()), ('clf', clf)])\n",
    "    \n",
    "param_grids = {}\n",
    "\n",
    "C_range = [10 ** i for i in range(-4, 5)]\n",
    "param_grid = [{'clf__multi_class': ['ovr'], \n",
    "               'clf__solver': ['newton-cg', 'lbfgs', 'liblinear', 'sag', 'saga'],\n",
    "               'clf__C': C_range},\n",
    "              \n",
    "              {'clf__multi_class': ['multinomial'],\n",
    "               'clf__solver': ['newton-cg', 'lbfgs', 'sag', 'saga'],\n",
    "               'clf__C': C_range}]\n",
    "\n",
    "param_grids['lr'] = param_grid\n",
    "param_grid = [{'clf__hidden_layer_sizes': [10, 100, 200],\n",
    "               'clf__activation': ['identity', 'logistic', 'tanh', 'relu']}]\n",
    "\n",
    "param_grids['mlp'] = param_grid\n",
    "param_grid = [{'clf__min_samples_split': [2, 10, 30],\n",
    "               'clf__min_samples_leaf': [1, 10, 30]}]\n",
    "param_grids['dt'] = param_grid\n",
    "\n",
    "param_grid = [{'clf__n_estimators': [2, 10, 30],\n",
    "               'clf__min_samples_split': [2, 10, 30],\n",
    "               'clf__min_samples_leaf': [1, 10, 30]}]\n",
    "param_grids['rf'] = param_grid\n",
    "\n",
    "param_grid = [{'clf__C': [0.01, 0.1, 1, 10, 100],\n",
    "               'clf__gamma': ['auto', 'scale'],\n",
    "               'clf__kernel': ['linear', 'poly', 'rbf', 'sigmoid']}]\n",
    "param_grids['svc'] = param_grid\n",
    "\n",
    "param_grid = [{'clf__n_neighbors': list(range(1, 11))}]\n",
    "param_grids['knn'] = param_grid\n",
    "\n",
    "param_grid = [{'clf__var_smoothing': [10 ** i for i in range(-10, -7)]}]\n",
    "param_grids['gnb'] = param_grid\n",
    "\n",
    "param_grid = [{'clf__base_estimator': [DecisionTreeClassifier(max_depth=1), LogisticRegression(random_state=0), \n",
    "                                      ], \"clf__n_estimators\": [i*10 for i in range(2, 7)], \n",
    "              \"clf__learning_rate\": [0.01, 0.1, 1], \"clf__algorithm\": [\"SAMME\", \"SAMME.R\"]}]\n",
    "param_grids['ada'] = param_grid\n",
    "\n",
    "#param_grid = [{'clf__var_smoothing': [10 ** i for i in range(-10, -7)]}]\n",
    "#param_grids['gdb'] = param_grid\n",
    "\n",
    "import warnings\n",
    "warnings.filterwarnings('ignore')\n",
    "\n",
    "from sklearn.model_selection import GridSearchCV\n",
    "from sklearn.model_selection import StratifiedKFold\n",
    "\n",
    "# The list of [best_score_, best_params_, best_estimator_]\n",
    "best_score_param_estimators = []\n",
    "\n",
    "# For each classifier\n",
    "for name in pipe_clfs.keys():\n",
    "    # GridSearchCV\n",
    "    # Implement me\n",
    "    gs = GridSearchCV(estimator=pipe_clfs[name],\n",
    "                      param_grid=param_grids[name],\n",
    "                      scoring='recall',\n",
    "                      n_jobs=-1,\n",
    "                      cv=StratifiedKFold(n_splits=10,\n",
    "                                         shuffle=True,\n",
    "                                         random_state=0))\n",
    "    # Fit the pipeline\n",
    "    # Implement me\n",
    "    gs = gs.fit(X_train, y_train)\n",
    "    \n",
    "    print(name)\n",
    "    \n",
    "    # Update best_score_param_estimators\n",
    "    best_score_param_estimators.append([gs.best_score_, gs.best_params_, gs.best_estimator_])\n",
    "    \n",
    "# Sort best_score_param_estimators in descending order of the best_score_\n",
    "# Implement me\n",
    "best_score_param_estimators = sorted(best_score_param_estimators, key=lambda x : x[0], reverse=True)\n",
    "\n",
    "# For each [best_score_, best_params_, best_estimator_]\n",
    "for best_score_param_estimator in best_score_param_estimators:\n",
    "    # Print out [best_score_, best_params_, best_estimator_], where best_estimator_ is a pipeline\n",
    "    # Since we only print out the type of classifier of the pipeline\n",
    "    print([best_score_param_estimator[0], best_score_param_estimator[1], type(best_score_param_estimator[2].named_steps['clf'])], end='\\n\\n')"
   ]
  },
  {
   "cell_type": "code",
   "execution_count": null,
   "metadata": {},
   "outputs": [],
   "source": []
  },
  {
   "cell_type": "code",
   "execution_count": null,
   "metadata": {},
   "outputs": [],
   "source": []
  },
  {
   "cell_type": "code",
   "execution_count": null,
   "metadata": {},
   "outputs": [],
   "source": []
  },
  {
   "cell_type": "code",
   "execution_count": null,
   "metadata": {},
   "outputs": [],
   "source": []
  },
  {
   "cell_type": "code",
   "execution_count": 15,
   "metadata": {},
   "outputs": [
    {
     "data": {
      "text/plain": [
       "array([1, 0, 1, 1, 0, 1, 1, 1, 1, 1, 1, 1, 1, 1, 1, 1, 1, 1, 0, 1, 1, 1,\n",
       "       1, 1, 1, 1, 1, 1, 1, 1, 1, 1, 1, 1, 1, 1, 1, 1, 0, 1, 1, 1, 1, 1,\n",
       "       0, 1, 1, 1, 1, 1, 1, 1, 1, 1, 0, 1, 1, 0, 1, 1, 1, 1, 0, 1, 1, 1,\n",
       "       1, 1, 1, 1, 1, 1, 1, 1, 1, 1, 1, 1, 0, 1, 1, 1, 1, 1, 1, 1, 1, 1,\n",
       "       1, 1, 1, 1, 1, 1, 1, 1, 1, 1, 1, 1, 1, 1, 0, 1, 1, 1, 1, 1, 1, 1,\n",
       "       1, 1, 1, 0, 0, 1, 1, 1, 0, 1, 0, 1, 1, 1, 1, 1, 1, 0, 1, 1, 1])"
      ]
     },
     "execution_count": 15,
     "metadata": {},
     "output_type": "execute_result"
    }
   ],
   "source": [
    "best_score_param_estimator[2].predict(X_test)"
   ]
  },
  {
   "cell_type": "code",
   "execution_count": 77,
   "metadata": {},
   "outputs": [],
   "source": [
    "from imblearn.over_sampling import RandomOverSampler\n",
    "ros = RandomOverSampler(random_state=0)\n",
    "X_resampled, y_resampled = ros.fit_resample(X, y)"
   ]
  },
  {
   "cell_type": "code",
   "execution_count": 78,
   "metadata": {},
   "outputs": [
    {
     "ename": "ValueError",
     "evalue": "Found input variables with inconsistent numbers of samples: [1080, 653]",
     "output_type": "error",
     "traceback": [
      "\u001b[0;31m---------------------------------------------------------------------------\u001b[0m",
      "\u001b[0;31mValueError\u001b[0m                                Traceback (most recent call last)",
      "\u001b[0;32m<ipython-input-78-3617b66ee090>\u001b[0m in \u001b[0;36m<module>\u001b[0;34m\u001b[0m\n\u001b[0;32m----> 1\u001b[0;31m \u001b[0mX_train\u001b[0m\u001b[0;34m,\u001b[0m \u001b[0mX_test\u001b[0m\u001b[0;34m,\u001b[0m \u001b[0my_train\u001b[0m\u001b[0;34m,\u001b[0m \u001b[0my_test\u001b[0m \u001b[0;34m=\u001b[0m \u001b[0mtrain_test_split\u001b[0m\u001b[0;34m(\u001b[0m\u001b[0mX_resampled\u001b[0m\u001b[0;34m,\u001b[0m \u001b[0my_resampled\u001b[0m\u001b[0;34m,\u001b[0m \u001b[0mtest_size\u001b[0m\u001b[0;34m=\u001b[0m\u001b[0;36m0.2\u001b[0m\u001b[0;34m,\u001b[0m \u001b[0mrandom_state\u001b[0m\u001b[0;34m=\u001b[0m\u001b[0;36m0\u001b[0m\u001b[0;34m,\u001b[0m \u001b[0mstratify\u001b[0m \u001b[0;34m=\u001b[0m \u001b[0my\u001b[0m\u001b[0;34m)\u001b[0m\u001b[0;34m\u001b[0m\u001b[0;34m\u001b[0m\u001b[0m\n\u001b[0m\u001b[1;32m      2\u001b[0m \u001b[0mlogreg\u001b[0m \u001b[0;34m=\u001b[0m \u001b[0mLogisticRegression\u001b[0m\u001b[0;34m(\u001b[0m\u001b[0;34m)\u001b[0m\u001b[0;34m\u001b[0m\u001b[0;34m\u001b[0m\u001b[0m\n\u001b[1;32m      3\u001b[0m \u001b[0mlogreg\u001b[0m\u001b[0;34m.\u001b[0m\u001b[0mfit\u001b[0m\u001b[0;34m(\u001b[0m\u001b[0mX_train\u001b[0m\u001b[0;34m,\u001b[0m \u001b[0my_train\u001b[0m\u001b[0;34m)\u001b[0m\u001b[0;34m\u001b[0m\u001b[0;34m\u001b[0m\u001b[0m\n\u001b[1;32m      4\u001b[0m \u001b[0mlogreg\u001b[0m\u001b[0;34m.\u001b[0m\u001b[0mscore\u001b[0m\u001b[0;34m(\u001b[0m\u001b[0mX_test\u001b[0m\u001b[0;34m,\u001b[0m \u001b[0my_test\u001b[0m\u001b[0;34m)\u001b[0m\u001b[0;34m\u001b[0m\u001b[0;34m\u001b[0m\u001b[0m\n",
      "\u001b[0;32m~/anaconda3/lib/python3.7/site-packages/sklearn/model_selection/_split.py\u001b[0m in \u001b[0;36mtrain_test_split\u001b[0;34m(*arrays, **options)\u001b[0m\n\u001b[1;32m   2207\u001b[0m                      random_state=random_state)\n\u001b[1;32m   2208\u001b[0m \u001b[0;34m\u001b[0m\u001b[0m\n\u001b[0;32m-> 2209\u001b[0;31m         \u001b[0mtrain\u001b[0m\u001b[0;34m,\u001b[0m \u001b[0mtest\u001b[0m \u001b[0;34m=\u001b[0m \u001b[0mnext\u001b[0m\u001b[0;34m(\u001b[0m\u001b[0mcv\u001b[0m\u001b[0;34m.\u001b[0m\u001b[0msplit\u001b[0m\u001b[0;34m(\u001b[0m\u001b[0mX\u001b[0m\u001b[0;34m=\u001b[0m\u001b[0marrays\u001b[0m\u001b[0;34m[\u001b[0m\u001b[0;36m0\u001b[0m\u001b[0;34m]\u001b[0m\u001b[0;34m,\u001b[0m \u001b[0my\u001b[0m\u001b[0;34m=\u001b[0m\u001b[0mstratify\u001b[0m\u001b[0;34m)\u001b[0m\u001b[0;34m)\u001b[0m\u001b[0;34m\u001b[0m\u001b[0;34m\u001b[0m\u001b[0m\n\u001b[0m\u001b[1;32m   2210\u001b[0m \u001b[0;34m\u001b[0m\u001b[0m\n\u001b[1;32m   2211\u001b[0m     return list(chain.from_iterable((safe_indexing(a, train),\n",
      "\u001b[0;32m~/anaconda3/lib/python3.7/site-packages/sklearn/model_selection/_split.py\u001b[0m in \u001b[0;36msplit\u001b[0;34m(self, X, y, groups)\u001b[0m\n\u001b[1;32m   1312\u001b[0m         \u001b[0mto\u001b[0m \u001b[0man\u001b[0m \u001b[0minteger\u001b[0m\u001b[0;34m.\u001b[0m\u001b[0;34m\u001b[0m\u001b[0;34m\u001b[0m\u001b[0m\n\u001b[1;32m   1313\u001b[0m         \"\"\"\n\u001b[0;32m-> 1314\u001b[0;31m         \u001b[0mX\u001b[0m\u001b[0;34m,\u001b[0m \u001b[0my\u001b[0m\u001b[0;34m,\u001b[0m \u001b[0mgroups\u001b[0m \u001b[0;34m=\u001b[0m \u001b[0mindexable\u001b[0m\u001b[0;34m(\u001b[0m\u001b[0mX\u001b[0m\u001b[0;34m,\u001b[0m \u001b[0my\u001b[0m\u001b[0;34m,\u001b[0m \u001b[0mgroups\u001b[0m\u001b[0;34m)\u001b[0m\u001b[0;34m\u001b[0m\u001b[0;34m\u001b[0m\u001b[0m\n\u001b[0m\u001b[1;32m   1315\u001b[0m         \u001b[0;32mfor\u001b[0m \u001b[0mtrain\u001b[0m\u001b[0;34m,\u001b[0m \u001b[0mtest\u001b[0m \u001b[0;32min\u001b[0m \u001b[0mself\u001b[0m\u001b[0;34m.\u001b[0m\u001b[0m_iter_indices\u001b[0m\u001b[0;34m(\u001b[0m\u001b[0mX\u001b[0m\u001b[0;34m,\u001b[0m \u001b[0my\u001b[0m\u001b[0;34m,\u001b[0m \u001b[0mgroups\u001b[0m\u001b[0;34m)\u001b[0m\u001b[0;34m:\u001b[0m\u001b[0;34m\u001b[0m\u001b[0;34m\u001b[0m\u001b[0m\n\u001b[1;32m   1316\u001b[0m             \u001b[0;32myield\u001b[0m \u001b[0mtrain\u001b[0m\u001b[0;34m,\u001b[0m \u001b[0mtest\u001b[0m\u001b[0;34m\u001b[0m\u001b[0;34m\u001b[0m\u001b[0m\n",
      "\u001b[0;32m~/anaconda3/lib/python3.7/site-packages/sklearn/utils/validation.py\u001b[0m in \u001b[0;36mindexable\u001b[0;34m(*iterables)\u001b[0m\n\u001b[1;32m    258\u001b[0m         \u001b[0;32melse\u001b[0m\u001b[0;34m:\u001b[0m\u001b[0;34m\u001b[0m\u001b[0;34m\u001b[0m\u001b[0m\n\u001b[1;32m    259\u001b[0m             \u001b[0mresult\u001b[0m\u001b[0;34m.\u001b[0m\u001b[0mappend\u001b[0m\u001b[0;34m(\u001b[0m\u001b[0mnp\u001b[0m\u001b[0;34m.\u001b[0m\u001b[0marray\u001b[0m\u001b[0;34m(\u001b[0m\u001b[0mX\u001b[0m\u001b[0;34m)\u001b[0m\u001b[0;34m)\u001b[0m\u001b[0;34m\u001b[0m\u001b[0;34m\u001b[0m\u001b[0m\n\u001b[0;32m--> 260\u001b[0;31m     \u001b[0mcheck_consistent_length\u001b[0m\u001b[0;34m(\u001b[0m\u001b[0;34m*\u001b[0m\u001b[0mresult\u001b[0m\u001b[0;34m)\u001b[0m\u001b[0;34m\u001b[0m\u001b[0;34m\u001b[0m\u001b[0m\n\u001b[0m\u001b[1;32m    261\u001b[0m     \u001b[0;32mreturn\u001b[0m \u001b[0mresult\u001b[0m\u001b[0;34m\u001b[0m\u001b[0;34m\u001b[0m\u001b[0m\n\u001b[1;32m    262\u001b[0m \u001b[0;34m\u001b[0m\u001b[0m\n",
      "\u001b[0;32m~/anaconda3/lib/python3.7/site-packages/sklearn/utils/validation.py\u001b[0m in \u001b[0;36mcheck_consistent_length\u001b[0;34m(*arrays)\u001b[0m\n\u001b[1;32m    233\u001b[0m     \u001b[0;32mif\u001b[0m \u001b[0mlen\u001b[0m\u001b[0;34m(\u001b[0m\u001b[0muniques\u001b[0m\u001b[0;34m)\u001b[0m \u001b[0;34m>\u001b[0m \u001b[0;36m1\u001b[0m\u001b[0;34m:\u001b[0m\u001b[0;34m\u001b[0m\u001b[0;34m\u001b[0m\u001b[0m\n\u001b[1;32m    234\u001b[0m         raise ValueError(\"Found input variables with inconsistent numbers of\"\n\u001b[0;32m--> 235\u001b[0;31m                          \" samples: %r\" % [int(l) for l in lengths])\n\u001b[0m\u001b[1;32m    236\u001b[0m \u001b[0;34m\u001b[0m\u001b[0m\n\u001b[1;32m    237\u001b[0m \u001b[0;34m\u001b[0m\u001b[0m\n",
      "\u001b[0;31mValueError\u001b[0m: Found input variables with inconsistent numbers of samples: [1080, 653]"
     ]
    }
   ],
   "source": [
    "X_train, X_test, y_train, y_test = train_test_split(X_resampled, y_resampled, test_size=0.2, random_state=0, stratify = y)\n",
    "logreg = LogisticRegression()\n",
    "logreg.fit(X_train, y_train)\n",
    "logreg.score(X_test, y_test)"
   ]
  },
  {
   "cell_type": "code",
   "execution_count": null,
   "metadata": {},
   "outputs": [],
   "source": []
  },
  {
   "cell_type": "code",
   "execution_count": null,
   "metadata": {},
   "outputs": [],
   "source": []
  },
  {
   "cell_type": "code",
   "execution_count": null,
   "metadata": {},
   "outputs": [],
   "source": []
  },
  {
   "cell_type": "code",
   "execution_count": null,
   "metadata": {},
   "outputs": [],
   "source": []
  },
  {
   "cell_type": "code",
   "execution_count": null,
   "metadata": {},
   "outputs": [],
   "source": []
  },
  {
   "cell_type": "code",
   "execution_count": null,
   "metadata": {},
   "outputs": [],
   "source": []
  },
  {
   "cell_type": "code",
   "execution_count": 11,
   "metadata": {},
   "outputs": [
    {
     "data": {
      "text/html": [
       "<div>\n",
       "<style scoped>\n",
       "    .dataframe tbody tr th:only-of-type {\n",
       "        vertical-align: middle;\n",
       "    }\n",
       "\n",
       "    .dataframe tbody tr th {\n",
       "        vertical-align: top;\n",
       "    }\n",
       "\n",
       "    .dataframe thead th {\n",
       "        text-align: right;\n",
       "    }\n",
       "</style>\n",
       "<table border=\"1\" class=\"dataframe\">\n",
       "  <thead>\n",
       "    <tr style=\"text-align: right;\">\n",
       "      <th></th>\n",
       "      <th>Processed Title</th>\n",
       "      <th>Success</th>\n",
       "      <th>n_unique_words_char_1</th>\n",
       "      <th>n_unique_words_char_2</th>\n",
       "      <th>n_unique_words_char_3</th>\n",
       "      <th>n_unique_words_char_4</th>\n",
       "      <th>n_unique_words_char_5</th>\n",
       "      <th>FK_read_level_char_1</th>\n",
       "      <th>FK_read_level_char_2</th>\n",
       "      <th>FK_read_level_char_3</th>\n",
       "      <th>...</th>\n",
       "      <th>pass_ratio_ch4</th>\n",
       "      <th>pass_ratio_ch5</th>\n",
       "      <th>sign_check_char_mention_polairty</th>\n",
       "      <th>std_of_char_mention_polarity</th>\n",
       "      <th>main_char_rel_diag_length</th>\n",
       "      <th>stdvs_unique_words_above_mean</th>\n",
       "      <th>FK_read_level_mean_char</th>\n",
       "      <th>stdvs_n_stop_words_above_mean</th>\n",
       "      <th>stdvs_n_curse_words_above_mean</th>\n",
       "      <th>stdvs_n_mentions_others_above_mean</th>\n",
       "    </tr>\n",
       "    <tr>\n",
       "      <th>Unnamed: 0</th>\n",
       "      <th></th>\n",
       "      <th></th>\n",
       "      <th></th>\n",
       "      <th></th>\n",
       "      <th></th>\n",
       "      <th></th>\n",
       "      <th></th>\n",
       "      <th></th>\n",
       "      <th></th>\n",
       "      <th></th>\n",
       "      <th></th>\n",
       "      <th></th>\n",
       "      <th></th>\n",
       "      <th></th>\n",
       "      <th></th>\n",
       "      <th></th>\n",
       "      <th></th>\n",
       "      <th></th>\n",
       "      <th></th>\n",
       "      <th></th>\n",
       "      <th></th>\n",
       "    </tr>\n",
       "  </thead>\n",
       "  <tbody>\n",
       "    <tr>\n",
       "      <th>Avatar</th>\n",
       "      <td>Avatar</td>\n",
       "      <td>1</td>\n",
       "      <td>670</td>\n",
       "      <td>565</td>\n",
       "      <td>252</td>\n",
       "      <td>425</td>\n",
       "      <td>276</td>\n",
       "      <td>2</td>\n",
       "      <td>2</td>\n",
       "      <td>2</td>\n",
       "      <td>...</td>\n",
       "      <td>0.015152</td>\n",
       "      <td>0.040541</td>\n",
       "      <td>0</td>\n",
       "      <td>0.780684</td>\n",
       "      <td>39.537232</td>\n",
       "      <td>-0.090538</td>\n",
       "      <td>2.4</td>\n",
       "      <td>0.063141</td>\n",
       "      <td>0.106202</td>\n",
       "      <td>-0.541956</td>\n",
       "    </tr>\n",
       "    <tr>\n",
       "      <th>The Dark Knight Rises</th>\n",
       "      <td>Dark-Knight-Rises,-The</td>\n",
       "      <td>1</td>\n",
       "      <td>531</td>\n",
       "      <td>514</td>\n",
       "      <td>506</td>\n",
       "      <td>418</td>\n",
       "      <td>434</td>\n",
       "      <td>2</td>\n",
       "      <td>2</td>\n",
       "      <td>3</td>\n",
       "      <td>...</td>\n",
       "      <td>0.053691</td>\n",
       "      <td>0.031447</td>\n",
       "      <td>0</td>\n",
       "      <td>0.964138</td>\n",
       "      <td>23.705825</td>\n",
       "      <td>0.255438</td>\n",
       "      <td>2.2</td>\n",
       "      <td>0.789323</td>\n",
       "      <td>-0.686754</td>\n",
       "      <td>-0.176310</td>\n",
       "    </tr>\n",
       "    <tr>\n",
       "      <th>The Avengers</th>\n",
       "      <td>Avengers,-The</td>\n",
       "      <td>1</td>\n",
       "      <td>560</td>\n",
       "      <td>623</td>\n",
       "      <td>359</td>\n",
       "      <td>425</td>\n",
       "      <td>205</td>\n",
       "      <td>2</td>\n",
       "      <td>3</td>\n",
       "      <td>3</td>\n",
       "      <td>...</td>\n",
       "      <td>0.030075</td>\n",
       "      <td>0.054545</td>\n",
       "      <td>0</td>\n",
       "      <td>0.787237</td>\n",
       "      <td>30.146047</td>\n",
       "      <td>-0.118151</td>\n",
       "      <td>3.0</td>\n",
       "      <td>-0.004098</td>\n",
       "      <td>-0.709410</td>\n",
       "      <td>-0.438622</td>\n",
       "    </tr>\n",
       "    <tr>\n",
       "      <th>Pirates of the Caribbean: Dead Man's Chest</th>\n",
       "      <td>Pirates-of-the-Caribbean-Dead-Man's-Chest</td>\n",
       "      <td>1</td>\n",
       "      <td>629</td>\n",
       "      <td>373</td>\n",
       "      <td>285</td>\n",
       "      <td>378</td>\n",
       "      <td>281</td>\n",
       "      <td>2</td>\n",
       "      <td>1</td>\n",
       "      <td>1</td>\n",
       "      <td>...</td>\n",
       "      <td>0.037879</td>\n",
       "      <td>0.041096</td>\n",
       "      <td>0</td>\n",
       "      <td>0.621058</td>\n",
       "      <td>36.743621</td>\n",
       "      <td>-0.481995</td>\n",
       "      <td>1.8</td>\n",
       "      <td>-0.057889</td>\n",
       "      <td>-0.732066</td>\n",
       "      <td>-0.867858</td>\n",
       "    </tr>\n",
       "    <tr>\n",
       "      <th>Men in Black 3</th>\n",
       "      <td>Men-in-Black-3</td>\n",
       "      <td>1</td>\n",
       "      <td>1206</td>\n",
       "      <td>867</td>\n",
       "      <td>234</td>\n",
       "      <td>209</td>\n",
       "      <td>185</td>\n",
       "      <td>2</td>\n",
       "      <td>3</td>\n",
       "      <td>2</td>\n",
       "      <td>...</td>\n",
       "      <td>0.035714</td>\n",
       "      <td>0.078947</td>\n",
       "      <td>0</td>\n",
       "      <td>0.796159</td>\n",
       "      <td>57.328163</td>\n",
       "      <td>0.742729</td>\n",
       "      <td>2.8</td>\n",
       "      <td>0.533814</td>\n",
       "      <td>-0.437539</td>\n",
       "      <td>1.349863</td>\n",
       "    </tr>\n",
       "  </tbody>\n",
       "</table>\n",
       "<p>5 rows × 90 columns</p>\n",
       "</div>"
      ],
      "text/plain": [
       "                                                                      Processed Title  \\\n",
       "Unnamed: 0                                                                              \n",
       "Avatar                                                                         Avatar   \n",
       "The Dark Knight Rises                                          Dark-Knight-Rises,-The   \n",
       "The Avengers                                                            Avengers,-The   \n",
       "Pirates of the Caribbean: Dead Man's Chest  Pirates-of-the-Caribbean-Dead-Man's-Chest   \n",
       "Men in Black 3                                                         Men-in-Black-3   \n",
       "\n",
       "                                            Success  n_unique_words_char_1  \\\n",
       "Unnamed: 0                                                                   \n",
       "Avatar                                            1                    670   \n",
       "The Dark Knight Rises                             1                    531   \n",
       "The Avengers                                      1                    560   \n",
       "Pirates of the Caribbean: Dead Man's Chest        1                    629   \n",
       "Men in Black 3                                    1                   1206   \n",
       "\n",
       "                                            n_unique_words_char_2  \\\n",
       "Unnamed: 0                                                          \n",
       "Avatar                                                        565   \n",
       "The Dark Knight Rises                                         514   \n",
       "The Avengers                                                  623   \n",
       "Pirates of the Caribbean: Dead Man's Chest                    373   \n",
       "Men in Black 3                                                867   \n",
       "\n",
       "                                            n_unique_words_char_3  \\\n",
       "Unnamed: 0                                                          \n",
       "Avatar                                                        252   \n",
       "The Dark Knight Rises                                         506   \n",
       "The Avengers                                                  359   \n",
       "Pirates of the Caribbean: Dead Man's Chest                    285   \n",
       "Men in Black 3                                                234   \n",
       "\n",
       "                                            n_unique_words_char_4  \\\n",
       "Unnamed: 0                                                          \n",
       "Avatar                                                        425   \n",
       "The Dark Knight Rises                                         418   \n",
       "The Avengers                                                  425   \n",
       "Pirates of the Caribbean: Dead Man's Chest                    378   \n",
       "Men in Black 3                                                209   \n",
       "\n",
       "                                            n_unique_words_char_5  \\\n",
       "Unnamed: 0                                                          \n",
       "Avatar                                                        276   \n",
       "The Dark Knight Rises                                         434   \n",
       "The Avengers                                                  205   \n",
       "Pirates of the Caribbean: Dead Man's Chest                    281   \n",
       "Men in Black 3                                                185   \n",
       "\n",
       "                                            FK_read_level_char_1  \\\n",
       "Unnamed: 0                                                         \n",
       "Avatar                                                         2   \n",
       "The Dark Knight Rises                                          2   \n",
       "The Avengers                                                   2   \n",
       "Pirates of the Caribbean: Dead Man's Chest                     2   \n",
       "Men in Black 3                                                 2   \n",
       "\n",
       "                                            FK_read_level_char_2  \\\n",
       "Unnamed: 0                                                         \n",
       "Avatar                                                         2   \n",
       "The Dark Knight Rises                                          2   \n",
       "The Avengers                                                   3   \n",
       "Pirates of the Caribbean: Dead Man's Chest                     1   \n",
       "Men in Black 3                                                 3   \n",
       "\n",
       "                                            FK_read_level_char_3  ...  \\\n",
       "Unnamed: 0                                                        ...   \n",
       "Avatar                                                         2  ...   \n",
       "The Dark Knight Rises                                          3  ...   \n",
       "The Avengers                                                   3  ...   \n",
       "Pirates of the Caribbean: Dead Man's Chest                     1  ...   \n",
       "Men in Black 3                                                 2  ...   \n",
       "\n",
       "                                            pass_ratio_ch4  pass_ratio_ch5  \\\n",
       "Unnamed: 0                                                                   \n",
       "Avatar                                            0.015152        0.040541   \n",
       "The Dark Knight Rises                             0.053691        0.031447   \n",
       "The Avengers                                      0.030075        0.054545   \n",
       "Pirates of the Caribbean: Dead Man's Chest        0.037879        0.041096   \n",
       "Men in Black 3                                    0.035714        0.078947   \n",
       "\n",
       "                                            sign_check_char_mention_polairty  \\\n",
       "Unnamed: 0                                                                     \n",
       "Avatar                                                                     0   \n",
       "The Dark Knight Rises                                                      0   \n",
       "The Avengers                                                               0   \n",
       "Pirates of the Caribbean: Dead Man's Chest                                 0   \n",
       "Men in Black 3                                                             0   \n",
       "\n",
       "                                            std_of_char_mention_polarity  \\\n",
       "Unnamed: 0                                                                 \n",
       "Avatar                                                          0.780684   \n",
       "The Dark Knight Rises                                           0.964138   \n",
       "The Avengers                                                    0.787237   \n",
       "Pirates of the Caribbean: Dead Man's Chest                      0.621058   \n",
       "Men in Black 3                                                  0.796159   \n",
       "\n",
       "                                            main_char_rel_diag_length  \\\n",
       "Unnamed: 0                                                              \n",
       "Avatar                                                      39.537232   \n",
       "The Dark Knight Rises                                       23.705825   \n",
       "The Avengers                                                30.146047   \n",
       "Pirates of the Caribbean: Dead Man's Chest                  36.743621   \n",
       "Men in Black 3                                              57.328163   \n",
       "\n",
       "                                            stdvs_unique_words_above_mean  \\\n",
       "Unnamed: 0                                                                  \n",
       "Avatar                                                          -0.090538   \n",
       "The Dark Knight Rises                                            0.255438   \n",
       "The Avengers                                                    -0.118151   \n",
       "Pirates of the Caribbean: Dead Man's Chest                      -0.481995   \n",
       "Men in Black 3                                                   0.742729   \n",
       "\n",
       "                                            FK_read_level_mean_char  \\\n",
       "Unnamed: 0                                                            \n",
       "Avatar                                                          2.4   \n",
       "The Dark Knight Rises                                           2.2   \n",
       "The Avengers                                                    3.0   \n",
       "Pirates of the Caribbean: Dead Man's Chest                      1.8   \n",
       "Men in Black 3                                                  2.8   \n",
       "\n",
       "                                            stdvs_n_stop_words_above_mean  \\\n",
       "Unnamed: 0                                                                  \n",
       "Avatar                                                           0.063141   \n",
       "The Dark Knight Rises                                            0.789323   \n",
       "The Avengers                                                    -0.004098   \n",
       "Pirates of the Caribbean: Dead Man's Chest                      -0.057889   \n",
       "Men in Black 3                                                   0.533814   \n",
       "\n",
       "                                            stdvs_n_curse_words_above_mean  \\\n",
       "Unnamed: 0                                                                   \n",
       "Avatar                                                            0.106202   \n",
       "The Dark Knight Rises                                            -0.686754   \n",
       "The Avengers                                                     -0.709410   \n",
       "Pirates of the Caribbean: Dead Man's Chest                       -0.732066   \n",
       "Men in Black 3                                                   -0.437539   \n",
       "\n",
       "                                            stdvs_n_mentions_others_above_mean  \n",
       "Unnamed: 0                                                                      \n",
       "Avatar                                                               -0.541956  \n",
       "The Dark Knight Rises                                                -0.176310  \n",
       "The Avengers                                                         -0.438622  \n",
       "Pirates of the Caribbean: Dead Man's Chest                           -0.867858  \n",
       "Men in Black 3                                                        1.349863  \n",
       "\n",
       "[5 rows x 90 columns]"
      ]
     },
     "execution_count": 11,
     "metadata": {},
     "output_type": "execute_result"
    }
   ],
   "source": [
    "import pandas as pd\n",
    "df = pd.read_csv(\"movies_with_feats_pedro.csv\", index_col=0)\n",
    "del df[\"Unnamed: 0.1\"]\n",
    "df.head()"
   ]
  },
  {
   "cell_type": "code",
   "execution_count": 12,
   "metadata": {},
   "outputs": [],
   "source": [
    "X = df.drop([\"Processed Title\", \"Success\"], axis=1)\n",
    "y = df[\"Success\"]"
   ]
  },
  {
   "cell_type": "code",
   "execution_count": 5,
   "metadata": {},
   "outputs": [],
   "source": [
    "from scipy.stats import pointbiserialr\n",
    "\n",
    "corr = {}\n",
    "for feature in X.columns:\n",
    "    try:\n",
    "        corr[feature] = pointbiserialr(X[feature].values, y.values)\n",
    "    except:\n",
    "        print(feature)\n",
    "        \n",
    "import operator\n",
    "sorted_corr = sorted(corr.items(), key=operator.itemgetter(1))"
   ]
  },
  {
   "cell_type": "code",
   "execution_count": 6,
   "metadata": {},
   "outputs": [],
   "source": [
    "X.drop([\"polarity_of_mentions_char_1\", \"polarity_of_mentions_char_2\", \"polarity_of_mentions_char_3\",\n",
    "       \"polarity_of_mentions_char_4\", \"polarity_of_mentions_char_5\"], axis=1, inplace=True)"
   ]
  },
  {
   "cell_type": "code",
   "execution_count": 7,
   "metadata": {},
   "outputs": [],
   "source": [
    "import operator\n",
    "sorted_corr = sorted(corr.items(), key=operator.itemgetter(1))"
   ]
  },
  {
   "cell_type": "code",
   "execution_count": 8,
   "metadata": {},
   "outputs": [
    {
     "data": {
      "text/plain": [
       "[('pass_ratio_ch2',\n",
       "  PointbiserialrResult(correlation=-0.11371215076451544, pvalue=0.00361821707226399)),\n",
       " ('std_of_overall_polarity',\n",
       "  PointbiserialrResult(correlation=-0.06819862262879554, pvalue=0.08160870817513242)),\n",
       " ('n_unique_words_char_5',\n",
       "  PointbiserialrResult(correlation=-0.0625966891567367, pvalue=0.11002292942385287)),\n",
       " ('num_pass_sents_char_2',\n",
       "  PointbiserialrResult(correlation=-0.05359501936621161, pvalue=0.17133738384685857)),\n",
       " ('passive_ratio',\n",
       "  PointbiserialrResult(correlation=-0.051792981697795296, pvalue=0.18621398239352427)),\n",
       " ('std_of_char_mention_polarity',\n",
       "  PointbiserialrResult(correlation=-0.050885822636434465, pvalue=0.19405393590290626)),\n",
       " ('neg_polarity_of_mentions_char_3',\n",
       "  PointbiserialrResult(correlation=-0.04710670979464909, pvalue=0.2293172027015947)),\n",
       " ('FK_read_level_char_5',\n",
       "  PointbiserialrResult(correlation=-0.04528818150896306, pvalue=0.24781870811718298)),\n",
       " ('neg_polarity_of_mentions_char_4',\n",
       "  PointbiserialrResult(correlation=-0.04200382235086118, pvalue=0.28382040685837756)),\n",
       " ('n_unique_words_char_4',\n",
       "  PointbiserialrResult(correlation=-0.03874851294258124, pvalue=0.32283516640503307)),\n",
       " ('neg_polarity_of_mentions_char_2',\n",
       "  PointbiserialrResult(correlation=-0.03805373980896949, pvalue=0.3315937393371925)),\n",
       " ('tot_pass_sents',\n",
       "  PointbiserialrResult(correlation=-0.03783952501932155, pvalue=0.3343248374583033)),\n",
       " ('num_pass_sents_char_5',\n",
       "  PointbiserialrResult(correlation=-0.03406823817781353, pvalue=0.3847598954114344)),\n",
       " ('n_stop_words_char_1',\n",
       "  PointbiserialrResult(correlation=-0.03393543214711749, pvalue=0.3866166575082901)),\n",
       " ('num_pass_sents_char_4',\n",
       "  PointbiserialrResult(correlation=-0.032658406047483754, pvalue=0.4047478393002508)),\n",
       " ('FK_read_level_char_1',\n",
       "  PointbiserialrResult(correlation=-0.030644662185880838, pvalue=0.4343480975903704)),\n",
       " ('n_stop_words_char_5',\n",
       "  PointbiserialrResult(correlation=-0.03030031843942312, pvalue=0.4395317063771129)),\n",
       " ('tot_unique_per_sent',\n",
       "  PointbiserialrResult(correlation=-0.02959959878504549, pvalue=0.4501887318874388)),\n",
       " ('n_stop_words_char_4',\n",
       "  PointbiserialrResult(correlation=-0.029229520841396534, pvalue=0.45587555604604946)),\n",
       " ('stdvs_unique_words_above_mean',\n",
       "  PointbiserialrResult(correlation=-0.029066590164864327, pvalue=0.4583919661018908)),\n",
       " ('n_unique_words_char_3',\n",
       "  PointbiserialrResult(correlation=-0.02722681524243632, pvalue=0.48733979821553275)),\n",
       " ('n_unique_words_char_1',\n",
       "  PointbiserialrResult(correlation=-0.025277604750962013, pvalue=0.5190529471974927)),\n",
       " ('unique_per_sent_char_3',\n",
       "  PointbiserialrResult(correlation=-0.02438859665495384, pvalue=0.5338620542571133)),\n",
       " ('num_sents_char_1',\n",
       "  PointbiserialrResult(correlation=-0.023392224552672303, pvalue=0.5507089465521386)),\n",
       " ('stdvs_n_stop_words_above_mean',\n",
       "  PointbiserialrResult(correlation=-0.022858406499023296, pvalue=0.5598410091404884)),\n",
       " ('neg_polarity_of_mentions_char_5',\n",
       "  PointbiserialrResult(correlation=-0.02253058073539233, pvalue=0.5654852230760362)),\n",
       " ('unique_per_sent_char_2',\n",
       "  PointbiserialrResult(correlation=-0.020521464184913032, pvalue=0.6006589636099002)),\n",
       " ('main_char_rel_diag_length',\n",
       "  PointbiserialrResult(correlation=-0.020267308882347273, pvalue=0.6051778731323746)),\n",
       " ('n_coref_sents_char_4',\n",
       "  PointbiserialrResult(correlation=-0.01927510898407452, pvalue=0.6229628977930297)),\n",
       " ('pass_ratio_ch1',\n",
       "  PointbiserialrResult(correlation=-0.01832759004479126, pvalue=0.6401545569862668)),\n",
       " ('unique_per_sent_char_1',\n",
       "  PointbiserialrResult(correlation=-0.017887573118738728, pvalue=0.648204920624049)),\n",
       " ('stop_per_sent_char_2',\n",
       "  PointbiserialrResult(correlation=-0.017647166668704625, pvalue=0.6526207682599143)),\n",
       " ('neg_polarity_of_mentions_char_1',\n",
       "  PointbiserialrResult(correlation=-0.016593666988337318, pvalue=0.6721135662305506)),\n",
       " ('num_sents_char_4',\n",
       "  PointbiserialrResult(correlation=-0.016488293678384454, pvalue=0.6740757080462256)),\n",
       " ('n_stop_words_char_3',\n",
       "  PointbiserialrResult(correlation=-0.016289985404524945, pvalue=0.677774374633276)),\n",
       " ('avg_FK',\n",
       "  PointbiserialrResult(correlation=-0.016080046671040633, pvalue=0.6816984214314794)),\n",
       " ('FK_read_level_mean_char',\n",
       "  PointbiserialrResult(correlation=-0.016080046671040633, pvalue=0.6816984214314794)),\n",
       " ('pass_ratio_ch4',\n",
       "  PointbiserialrResult(correlation=-0.014201720384881765, pvalue=0.7171788172321876)),\n",
       " ('num_pass_sents_char_1',\n",
       "  PointbiserialrResult(correlation=-0.014100084181616849, pvalue=0.7191169726987994)),\n",
       " ('pass_ratio_ch5',\n",
       "  PointbiserialrResult(correlation=-0.011270248641729366, pvalue=0.7737633765464869)),\n",
       " ('num_sents_char_3',\n",
       "  PointbiserialrResult(correlation=-0.01080813347456007, pvalue=0.782802713189499)),\n",
       " ('n_coref_sents_char_2',\n",
       "  PointbiserialrResult(correlation=-0.01030408196674112, pvalue=0.7926957854728238)),\n",
       " ('tot_sents',\n",
       "  PointbiserialrResult(correlation=-0.008552679145817262, pvalue=0.8273206080192808)),\n",
       " ('tot_stop_per_sent',\n",
       "  PointbiserialrResult(correlation=-0.0075889934301798115, pvalue=0.8465209334890124)),\n",
       " ('pass_ratio_ch3',\n",
       "  PointbiserialrResult(correlation=-0.006475306654426937, pvalue=0.8688229169203983)),\n",
       " ('n_coref_sents_char_1',\n",
       "  PointbiserialrResult(correlation=-0.001845770562560454, pvalue=0.9624524613411355)),\n",
       " ('num_pass_sents_char_3',\n",
       "  PointbiserialrResult(correlation=0.0020073164544305495, pvalue=0.9591689666270888)),\n",
       " ('stdvs_n_curse_words_above_mean',\n",
       "  PointbiserialrResult(correlation=0.002138773866867405, pvalue=0.9564975414837202)),\n",
       " ('tot_coref_sents',\n",
       "  PointbiserialrResult(correlation=0.0022891381975636707, pvalue=0.9534424968499469)),\n",
       " ('stop_per_sent_char_1',\n",
       "  PointbiserialrResult(correlation=0.004073638812887883, pvalue=0.9172501331367438)),\n",
       " ('compound_polarity_of_mentions_char_4',\n",
       "  PointbiserialrResult(correlation=0.004097932292102623, pvalue=0.9167584324037378)),\n",
       " ('pos_polarity_of_mentions_char_5',\n",
       "  PointbiserialrResult(correlation=0.004530284219257186, pvalue=0.9080131047432876)),\n",
       " ('FK_read_level_char_2',\n",
       "  PointbiserialrResult(correlation=0.0053111456235885235, pvalue=0.8922472224850923)),\n",
       " ('num_sents_char_5',\n",
       "  PointbiserialrResult(correlation=0.008127530146451829, pvalue=0.8357792365432979)),\n",
       " ('FK_read_level_char_3',\n",
       "  PointbiserialrResult(correlation=0.012352635901832347, pvalue=0.7527124318197245)),\n",
       " ('pct_coref_sents',\n",
       "  PointbiserialrResult(correlation=0.012429943876274715, pvalue=0.7512156875574927)),\n",
       " ('FK_read_level_char_4',\n",
       "  PointbiserialrResult(correlation=0.013710848766092463, pvalue=0.7265560951108554)),\n",
       " ('stop_per_sent_char_3',\n",
       "  PointbiserialrResult(correlation=0.015422756173555098, pvalue=0.6940393323956198)),\n",
       " ('n_coref_sents_char_3',\n",
       "  PointbiserialrResult(correlation=0.01598355972068308, pvalue=0.6835047898522615)),\n",
       " ('stdvs_n_mentions_others_above_mean',\n",
       "  PointbiserialrResult(correlation=0.01972188948011315, pvalue=0.6149264118458949)),\n",
       " ('n_unique_words_char_2',\n",
       "  PointbiserialrResult(correlation=0.020827878029428506, pvalue=0.5952312153694842)),\n",
       " ('unique_per_sent_char_4',\n",
       "  PointbiserialrResult(correlation=0.02146470096697188, pvalue=0.5840227386010892)),\n",
       " ('num_sents_char_2',\n",
       "  PointbiserialrResult(correlation=0.021856403694659375, pvalue=0.577177591181665)),\n",
       " ('pos_polarity_of_mentions_char_4',\n",
       "  PointbiserialrResult(correlation=0.02195989822824683, pvalue=0.575375304828946)),\n",
       " ('overall_polarity_char_3',\n",
       "  PointbiserialrResult(correlation=0.023245140721158228, pvalue=0.553217805557114)),\n",
       " ('compound_polarity_of_mentions_char_1',\n",
       "  PointbiserialrResult(correlation=0.025478437530573245, pvalue=0.515737022410291)),\n",
       " ('n_stop_words_char_2',\n",
       "  PointbiserialrResult(correlation=0.028935598377969884, pvalue=0.460420713679104)),\n",
       " ('overall_polarity_char_1',\n",
       "  PointbiserialrResult(correlation=0.03062234065194251, pvalue=0.43468304509843614)),\n",
       " ('stop_per_sent_char_4',\n",
       "  PointbiserialrResult(correlation=0.03349569495237371, pvalue=0.39280345976636055)),\n",
       " ('compound_polarity_of_mentions_char_3',\n",
       "  PointbiserialrResult(correlation=0.03503444959206917, pvalue=0.3714156786353596)),\n",
       " ('unique_per_sent_char_5',\n",
       "  PointbiserialrResult(correlation=0.036920867006238534, pvalue=0.3462006265901547)),\n",
       " ('overall_polarity_char_4',\n",
       "  PointbiserialrResult(correlation=0.04287672028657046, pvalue=0.2739243396000242)),\n",
       " ('pos_polarity_of_mentions_char_3',\n",
       "  PointbiserialrResult(correlation=0.04291659184710132, pvalue=0.27347800328165744)),\n",
       " ('n_coref_sents_char_5',\n",
       "  PointbiserialrResult(correlation=0.04514808259796794, pvalue=0.24928611275038973)),\n",
       " ('stop_per_sent_char_5',\n",
       "  PointbiserialrResult(correlation=0.04813670221617681, pvalue=0.21928400992435254)),\n",
       " ('pos_polarity_of_mentions_char_2',\n",
       "  PointbiserialrResult(correlation=0.049405669299741384, pvalue=0.20736038213119312)),\n",
       " ('overall_polarity_char_5',\n",
       "  PointbiserialrResult(correlation=0.05155577879978894, pvalue=0.18824104720109458)),\n",
       " ('compound_polarity_of_mentions_char_5',\n",
       "  PointbiserialrResult(correlation=0.05378153632926945, pvalue=0.16984980833261695)),\n",
       " ('wav_polarity',\n",
       "  PointbiserialrResult(correlation=0.05897946066734955, pvalue=0.13217595805624804)),\n",
       " ('pos_polarity_of_mentions_char_1',\n",
       "  PointbiserialrResult(correlation=0.0592639484639471, pvalue=0.13031743731698986)),\n",
       " ('compound_polarity_of_mentions_char_2',\n",
       "  PointbiserialrResult(correlation=0.06305073767233481, pvalue=0.10746228202365055)),\n",
       " ('sign_check_char_mention_polairty',\n",
       "  PointbiserialrResult(correlation=0.06939777381848908, pvalue=0.07637454330268004)),\n",
       " ('overall_polarity_char_2',\n",
       "  PointbiserialrResult(correlation=0.07773382447981679, pvalue=0.04707786357790659))]"
      ]
     },
     "execution_count": 8,
     "metadata": {},
     "output_type": "execute_result"
    }
   ],
   "source": [
    "sorted_corr"
   ]
  },
  {
   "cell_type": "code",
   "execution_count": 9,
   "metadata": {},
   "outputs": [
    {
     "ename": "NameError",
     "evalue": "name 'X_train' is not defined",
     "output_type": "error",
     "traceback": [
      "\u001b[0;31m---------------------------------------------------------------------------\u001b[0m",
      "\u001b[0;31mNameError\u001b[0m                                 Traceback (most recent call last)",
      "\u001b[0;32m<ipython-input-9-06913b424b2a>\u001b[0m in \u001b[0;36m<module>\u001b[0;34m\u001b[0m\n\u001b[1;32m     91\u001b[0m     \u001b[0;31m# Fit the pipeline\u001b[0m\u001b[0;34m\u001b[0m\u001b[0;34m\u001b[0m\u001b[0;34m\u001b[0m\u001b[0m\n\u001b[1;32m     92\u001b[0m     \u001b[0;31m# Implement me\u001b[0m\u001b[0;34m\u001b[0m\u001b[0;34m\u001b[0m\u001b[0;34m\u001b[0m\u001b[0m\n\u001b[0;32m---> 93\u001b[0;31m     \u001b[0mgs\u001b[0m \u001b[0;34m=\u001b[0m \u001b[0mgs\u001b[0m\u001b[0;34m.\u001b[0m\u001b[0mfit\u001b[0m\u001b[0;34m(\u001b[0m\u001b[0mX_train\u001b[0m\u001b[0;34m,\u001b[0m \u001b[0my_train\u001b[0m\u001b[0;34m)\u001b[0m\u001b[0;34m\u001b[0m\u001b[0;34m\u001b[0m\u001b[0m\n\u001b[0m\u001b[1;32m     94\u001b[0m \u001b[0;34m\u001b[0m\u001b[0m\n\u001b[1;32m     95\u001b[0m     \u001b[0mprint\u001b[0m\u001b[0;34m(\u001b[0m\u001b[0mname\u001b[0m\u001b[0;34m)\u001b[0m\u001b[0;34m\u001b[0m\u001b[0;34m\u001b[0m\u001b[0m\n",
      "\u001b[0;31mNameError\u001b[0m: name 'X_train' is not defined"
     ]
    }
   ],
   "source": [
    "from sklearn.linear_model import LogisticRegression\n",
    "from sklearn.neural_network import MLPClassifier\n",
    "from sklearn.tree import DecisionTreeClassifier\n",
    "from sklearn.ensemble import RandomForestClassifier, GradientBoostingClassifier, AdaBoostClassifier\n",
    "from sklearn.svm import SVC\n",
    "from sklearn.neighbors import KNeighborsClassifier\n",
    "from sklearn.naive_bayes import GaussianNB\n",
    "\n",
    "clfs = {'lr': LogisticRegression(random_state=0),\n",
    "        'mlp': MLPClassifier(random_state=0),\n",
    "        'dt': DecisionTreeClassifier(random_state=0),\n",
    "        'rf': RandomForestClassifier(random_state=0),\n",
    "        'svc': SVC(random_state=0),\n",
    "        'knn': KNeighborsClassifier(),\n",
    "        'gnb': GaussianNB(),\n",
    "        \"ada\": AdaBoostClassifier(random_state=0),\n",
    "       }\n",
    "\n",
    "from sklearn.pipeline import Pipeline\n",
    "from sklearn.preprocessing import StandardScaler\n",
    "\n",
    "pipe_clfs = {}\n",
    "\n",
    "for name, clf in clfs.items():\n",
    "    pipe_clfs[name] = Pipeline([('StandardScaler', StandardScaler()), ('clf', clf)])\n",
    "    \n",
    "param_grids = {}\n",
    "\n",
    "C_range = [10 ** i for i in range(-4, 5)]\n",
    "param_grid = [{'clf__multi_class': ['ovr'], \n",
    "               'clf__solver': ['newton-cg', 'lbfgs', 'liblinear', 'sag', 'saga'],\n",
    "               'clf__C': C_range},\n",
    "              \n",
    "              {'clf__multi_class': ['multinomial'],\n",
    "               'clf__solver': ['newton-cg', 'lbfgs', 'sag', 'saga'],\n",
    "               'clf__C': C_range}]\n",
    "\n",
    "param_grids['lr'] = param_grid\n",
    "param_grid = [{'clf__hidden_layer_sizes': [10, 100, 200],\n",
    "               'clf__activation': ['identity', 'logistic', 'tanh', 'relu']}]\n",
    "\n",
    "param_grids['mlp'] = param_grid\n",
    "param_grid = [{'clf__min_samples_split': [2, 10, 30],\n",
    "               'clf__min_samples_leaf': [1, 10, 30]}]\n",
    "param_grids['dt'] = param_grid\n",
    "\n",
    "param_grid = [{'clf__n_estimators': [2, 10, 30],\n",
    "               'clf__min_samples_split': [2, 10, 30],\n",
    "               'clf__min_samples_leaf': [1, 10, 30]}]\n",
    "param_grids['rf'] = param_grid\n",
    "\n",
    "param_grid = [{'clf__C': [0.01, 0.1, 1, 10, 100],\n",
    "               'clf__gamma': ['auto', 'scale'],\n",
    "               'clf__kernel': ['linear', 'poly', 'rbf', 'sigmoid']}]\n",
    "param_grids['svc'] = param_grid\n",
    "\n",
    "param_grid = [{'clf__n_neighbors': list(range(1, 11))}]\n",
    "param_grids['knn'] = param_grid\n",
    "\n",
    "param_grid = [{'clf__var_smoothing': [10 ** i for i in range(-10, -7)]}]\n",
    "param_grids['gnb'] = param_grid\n",
    "\n",
    "param_grid = [{'clf__base_estimator': [DecisionTreeClassifier(max_depth=1), LogisticRegression(random_state=0), \n",
    "                                      ], \"clf__n_estimators\": [i*10 for i in range(2, 7)], \n",
    "              \"clf__learning_rate\": [0.01, 0.1, 1], \"clf__algorithm\": [\"SAMME\", \"SAMME.R\"]}]\n",
    "param_grids['ada'] = param_grid\n",
    "\n",
    "#param_grid = [{'clf__var_smoothing': [10 ** i for i in range(-10, -7)]}]\n",
    "#param_grids['gdb'] = param_grid\n",
    "\n",
    "import warnings\n",
    "warnings.filterwarnings('ignore')\n",
    "\n",
    "from sklearn.model_selection import GridSearchCV\n",
    "from sklearn.model_selection import StratifiedKFold\n",
    "\n",
    "# The list of [best_score_, best_params_, best_estimator_]\n",
    "best_score_param_estimators = []\n",
    "\n",
    "# For each classifier\n",
    "for name in pipe_clfs.keys():\n",
    "    # GridSearchCV\n",
    "    # Implement me\n",
    "    gs = GridSearchCV(estimator=pipe_clfs[name],\n",
    "                      param_grid=param_grids[name],\n",
    "                      scoring='accuracy',\n",
    "                      n_jobs=-1,\n",
    "                      cv=StratifiedKFold(n_splits=10,\n",
    "                                         shuffle=True,\n",
    "                                         random_state=0))\n",
    "    # Fit the pipeline\n",
    "    # Implement me\n",
    "    gs = gs.fit(X_train, y_train)\n",
    "    \n",
    "    print(name)\n",
    "    \n",
    "    # Update best_score_param_estimators\n",
    "    best_score_param_estimators.append([gs.best_score_, gs.best_params_, gs.best_estimator_])\n",
    "    \n",
    "# Sort best_score_param_estimators in descending order of the best_score_\n",
    "# Implement me\n",
    "best_score_param_estimators = sorted(best_score_param_estimators, key=lambda x : x[0], reverse=True)\n",
    "\n",
    "# For each [best_score_, best_params_, best_estimator_]\n",
    "for best_score_param_estimator in best_score_param_estimators:\n",
    "    # Print out [best_score_, best_params_, best_estimator_], where best_estimator_ is a pipeline\n",
    "    # Since we only print out the type of classifier of the pipeline\n",
    "    print([best_score_param_estimator[0], best_score_param_estimator[1], type(best_score_param_estimator[2].named_steps['clf'])], end='\\n\\n')"
   ]
  },
  {
   "cell_type": "code",
   "execution_count": 10,
   "metadata": {},
   "outputs": [],
   "source": [
    "from imblearn.over_sampling import RandomOverSampler\n",
    "ros = RandomOverSampler(random_state=0)\n",
    "X_resampled, y_resampled = ros.fit_resample(X, y)"
   ]
  },
  {
   "cell_type": "code",
   "execution_count": 12,
   "metadata": {},
   "outputs": [
    {
     "data": {
      "text/plain": [
       "0.6481481481481481"
      ]
     },
     "execution_count": 12,
     "metadata": {},
     "output_type": "execute_result"
    }
   ],
   "source": [
    "from sklearn.model_selection import train_test_split\n",
    "from sklearn.linear_model import LogisticRegression\n",
    "X_train, X_test, y_train, y_test = train_test_split(X_resampled, y_resampled, test_size=0.2, random_state=0, stratify = y_resampled)\n",
    "logreg = LogisticRegression()\n",
    "logreg.fit(X_train, y_train)\n",
    "logreg.score(X_test, y_test)"
   ]
  },
  {
   "cell_type": "code",
   "execution_count": null,
   "metadata": {},
   "outputs": [],
   "source": []
  },
  {
   "cell_type": "code",
   "execution_count": null,
   "metadata": {},
   "outputs": [],
   "source": []
  },
  {
   "cell_type": "code",
   "execution_count": null,
   "metadata": {},
   "outputs": [],
   "source": []
  },
  {
   "cell_type": "code",
   "execution_count": null,
   "metadata": {},
   "outputs": [],
   "source": []
  },
  {
   "cell_type": "code",
   "execution_count": 50,
   "metadata": {},
   "outputs": [
    {
     "data": {
      "text/plain": [
       "0.7088122605363985"
      ]
     },
     "execution_count": 50,
     "metadata": {},
     "output_type": "execute_result"
    }
   ],
   "source": [
    "X_train, X_test, y_train, y_test = train_test_split(X, y, test_size=0.2, random_state=0, stratify = y)\n",
    "st = StandardScaler()\n",
    "X_train = st.fit_transform(X_train)\n",
    "X_test = st.transform(X_test)\n",
    "best_score_param_estimator[2].fit(X_train, y_train)\n",
    "best_score_param_estimator[2].score(X_train, y_train)"
   ]
  },
  {
   "cell_type": "code",
   "execution_count": 51,
   "metadata": {},
   "outputs": [
    {
     "data": {
      "text/plain": [
       "Pipeline(memory=None,\n",
       "     steps=[('StandardScaler', StandardScaler(copy=True, with_mean=True, with_std=True)), ('clf', GaussianNB(priors=None, var_smoothing=1e-10))])"
      ]
     },
     "execution_count": 51,
     "metadata": {},
     "output_type": "execute_result"
    }
   ],
   "source": [
    "best_score_param_estimator[2]"
   ]
  },
  {
   "cell_type": "code",
   "execution_count": 53,
   "metadata": {},
   "outputs": [
    {
     "data": {
      "text/plain": [
       "0.5648854961832062"
      ]
     },
     "execution_count": 53,
     "metadata": {},
     "output_type": "execute_result"
    }
   ],
   "source": [
    "model = GaussianNB(priors=None, var_smoothing=1e-10)\n",
    "model.fit(X_train, y_train)\n",
    "model.score(X_test, y_test)"
   ]
  },
  {
   "cell_type": "code",
   "execution_count": 54,
   "metadata": {},
   "outputs": [
    {
     "data": {
      "text/plain": [
       "0.7786259541984732"
      ]
     },
     "execution_count": 54,
     "metadata": {},
     "output_type": "execute_result"
    }
   ],
   "source": [
    "lr = LogisticRegression()\n",
    "lr.fit(X_train, y_train)\n",
    "lr.score(X_test, y_test)"
   ]
  },
  {
   "cell_type": "code",
   "execution_count": null,
   "metadata": {},
   "outputs": [],
   "source": []
  },
  {
   "cell_type": "code",
   "execution_count": 66,
   "metadata": {},
   "outputs": [],
   "source": [
    "best_feats = [feat_tuple[0] for feat_tuple in sorted_corr[:6] + sorted_corr[-7:]]"
   ]
  },
  {
   "cell_type": "code",
   "execution_count": 69,
   "metadata": {},
   "outputs": [],
   "source": [
    "X = df[best_feats]\n",
    "X_train, X_test, y_train, y_test = train_test_split(X, y, test_size=0.2, random_state=0, stratify = y)\n",
    "#st = StandardScaler()\n",
    "#X_train = st.fit_transform(X_train)\n",
    "#X_test = st.transform(X_test)\n",
    "#lr = LogisticRegression()\n",
    "#lr.fit(X_train, y_train)\n",
    "#lr.score(X_test, y_test)"
   ]
  },
  {
   "cell_type": "code",
   "execution_count": 70,
   "metadata": {},
   "outputs": [
    {
     "name": "stdout",
     "output_type": "stream",
     "text": [
      "lr\n",
      "mlp\n",
      "dt\n",
      "rf\n",
      "svc\n",
      "knn\n",
      "gnb\n",
      "ada\n",
      "[0.8295019157088123, {'clf__C': 0.1, 'clf__multi_class': 'multinomial', 'clf__solver': 'newton-cg'}, <class 'sklearn.linear_model.logistic.LogisticRegression'>]\n",
      "\n",
      "[0.8295019157088123, {'clf__algorithm': 'SAMME.R', 'clf__base_estimator': LogisticRegression(C=1.0, class_weight=None, dual=False, fit_intercept=True,\n",
      "          intercept_scaling=1, max_iter=100, multi_class='warn',\n",
      "          n_jobs=None, penalty='l2', random_state=0, solver='warn',\n",
      "          tol=0.0001, verbose=0, warm_start=False), 'clf__learning_rate': 1, 'clf__n_estimators': 30}, <class 'sklearn.ensemble.weight_boosting.AdaBoostClassifier'>]\n",
      "\n",
      "[0.8275862068965517, {'clf__activation': 'identity', 'clf__hidden_layer_sizes': 10}, <class 'sklearn.neural_network.multilayer_perceptron.MLPClassifier'>]\n",
      "\n",
      "[0.8275862068965517, {'clf__min_samples_leaf': 30, 'clf__min_samples_split': 2}, <class 'sklearn.tree.tree.DecisionTreeClassifier'>]\n",
      "\n",
      "[0.8275862068965517, {'clf__min_samples_leaf': 10, 'clf__min_samples_split': 2, 'clf__n_estimators': 10}, <class 'sklearn.ensemble.forest.RandomForestClassifier'>]\n",
      "\n",
      "[0.8275862068965517, {'clf__C': 0.01, 'clf__gamma': 'auto', 'clf__kernel': 'linear'}, <class 'sklearn.svm.classes.SVC'>]\n",
      "\n",
      "[0.8199233716475096, {'clf__n_neighbors': 10}, <class 'sklearn.neighbors.classification.KNeighborsClassifier'>]\n",
      "\n",
      "[0.7835249042145593, {'clf__var_smoothing': 1e-10}, <class 'sklearn.naive_bayes.GaussianNB'>]\n",
      "\n"
     ]
    }
   ],
   "source": [
    "from sklearn.linear_model import LogisticRegression\n",
    "from sklearn.neural_network import MLPClassifier\n",
    "from sklearn.tree import DecisionTreeClassifier\n",
    "from sklearn.ensemble import RandomForestClassifier, GradientBoostingClassifier, AdaBoostClassifier\n",
    "from sklearn.svm import SVC\n",
    "from sklearn.neighbors import KNeighborsClassifier\n",
    "from sklearn.naive_bayes import GaussianNB\n",
    "\n",
    "clfs = {'lr': LogisticRegression(random_state=0),\n",
    "        'mlp': MLPClassifier(random_state=0),\n",
    "        'dt': DecisionTreeClassifier(random_state=0),\n",
    "        'rf': RandomForestClassifier(random_state=0),\n",
    "        'svc': SVC(random_state=0),\n",
    "        'knn': KNeighborsClassifier(),\n",
    "        'gnb': GaussianNB(),\n",
    "        \"ada\": AdaBoostClassifier(random_state=0),\n",
    "       }\n",
    "\n",
    "from sklearn.pipeline import Pipeline\n",
    "from sklearn.preprocessing import StandardScaler\n",
    "\n",
    "pipe_clfs = {}\n",
    "\n",
    "for name, clf in clfs.items():\n",
    "    pipe_clfs[name] = Pipeline([('StandardScaler', StandardScaler()), ('clf', clf)])\n",
    "    \n",
    "param_grids = {}\n",
    "\n",
    "C_range = [10 ** i for i in range(-4, 5)]\n",
    "param_grid = [{'clf__multi_class': ['ovr'], \n",
    "               'clf__solver': ['newton-cg', 'lbfgs', 'liblinear', 'sag', 'saga'],\n",
    "               'clf__C': C_range},\n",
    "              \n",
    "              {'clf__multi_class': ['multinomial'],\n",
    "               'clf__solver': ['newton-cg', 'lbfgs', 'sag', 'saga'],\n",
    "               'clf__C': C_range}]\n",
    "\n",
    "param_grids['lr'] = param_grid\n",
    "param_grid = [{'clf__hidden_layer_sizes': [10, 100, 200],\n",
    "               'clf__activation': ['identity', 'logistic', 'tanh', 'relu']}]\n",
    "\n",
    "param_grids['mlp'] = param_grid\n",
    "param_grid = [{'clf__min_samples_split': [2, 10, 30],\n",
    "               'clf__min_samples_leaf': [1, 10, 30]}]\n",
    "param_grids['dt'] = param_grid\n",
    "\n",
    "param_grid = [{'clf__n_estimators': [2, 10, 30],\n",
    "               'clf__min_samples_split': [2, 10, 30],\n",
    "               'clf__min_samples_leaf': [1, 10, 30]}]\n",
    "param_grids['rf'] = param_grid\n",
    "\n",
    "param_grid = [{'clf__C': [0.01, 0.1, 1, 10, 100],\n",
    "               'clf__gamma': ['auto', 'scale'],\n",
    "               'clf__kernel': ['linear', 'poly', 'rbf', 'sigmoid']}]\n",
    "param_grids['svc'] = param_grid\n",
    "\n",
    "param_grid = [{'clf__n_neighbors': list(range(1, 11))}]\n",
    "param_grids['knn'] = param_grid\n",
    "\n",
    "param_grid = [{'clf__var_smoothing': [10 ** i for i in range(-10, -7)]}]\n",
    "param_grids['gnb'] = param_grid\n",
    "\n",
    "param_grid = [{'clf__base_estimator': [DecisionTreeClassifier(max_depth=1), LogisticRegression(random_state=0), \n",
    "                                      ], \"clf__n_estimators\": [i*10 for i in range(2, 7)], \n",
    "              \"clf__learning_rate\": [0.01, 0.1, 1], \"clf__algorithm\": [\"SAMME\", \"SAMME.R\"]}]\n",
    "param_grids['ada'] = param_grid\n",
    "\n",
    "#param_grid = [{'clf__var_smoothing': [10 ** i for i in range(-10, -7)]}]\n",
    "#param_grids['gdb'] = param_grid\n",
    "\n",
    "import warnings\n",
    "warnings.filterwarnings('ignore')\n",
    "\n",
    "from sklearn.model_selection import GridSearchCV\n",
    "from sklearn.model_selection import StratifiedKFold\n",
    "\n",
    "# The list of [best_score_, best_params_, best_estimator_]\n",
    "best_score_param_estimators = []\n",
    "\n",
    "# For each classifier\n",
    "for name in pipe_clfs.keys():\n",
    "    # GridSearchCV\n",
    "    # Implement me\n",
    "    gs = GridSearchCV(estimator=pipe_clfs[name],\n",
    "                      param_grid=param_grids[name],\n",
    "                      scoring='accuracy',\n",
    "                      n_jobs=-1,\n",
    "                      cv=StratifiedKFold(n_splits=10,\n",
    "                                         shuffle=True,\n",
    "                                         random_state=0))\n",
    "    # Fit the pipeline\n",
    "    # Implement me\n",
    "    gs = gs.fit(X_train, y_train)\n",
    "    \n",
    "    print(name)\n",
    "    \n",
    "    # Update best_score_param_estimators\n",
    "    best_score_param_estimators.append([gs.best_score_, gs.best_params_, gs.best_estimator_])\n",
    "    \n",
    "# Sort best_score_param_estimators in descending order of the best_score_\n",
    "# Implement me\n",
    "best_score_param_estimators = sorted(best_score_param_estimators, key=lambda x : x[0], reverse=True)\n",
    "\n",
    "# For each [best_score_, best_params_, best_estimator_]\n",
    "for best_score_param_estimator in best_score_param_estimators:\n",
    "    # Print out [best_score_, best_params_, best_estimator_], where best_estimator_ is a pipeline\n",
    "    # Since we only print out the type of classifier of the pipeline\n",
    "    print([best_score_param_estimator[0], best_score_param_estimator[1], type(best_score_param_estimator[2].named_steps['clf'])], end='\\n\\n')"
   ]
  },
  {
   "cell_type": "code",
   "execution_count": 72,
   "metadata": {},
   "outputs": [
    {
     "data": {
      "text/plain": [
       "0.816793893129771"
      ]
     },
     "execution_count": 72,
     "metadata": {},
     "output_type": "execute_result"
    }
   ],
   "source": [
    "lr = LogisticRegression(C= 0.1, multi_class=\"multinomial\", solver=\"newton-cg\")\n",
    "st = StandardScaler()\n",
    "X_train = st.fit_transform(X_train)\n",
    "X_test = st.transform(X_test)\n",
    "lr.fit(X_train, y_train)\n",
    "lr.score(X_test, y_test)"
   ]
  },
  {
   "cell_type": "code",
   "execution_count": 73,
   "metadata": {},
   "outputs": [
    {
     "data": {
      "text/plain": [
       "array([1, 1, 1, 1, 1, 1, 1, 1, 1, 1, 1, 1, 1, 1, 1, 1, 1, 1, 1, 1, 1, 1,\n",
       "       1, 1, 1, 1, 1, 1, 1, 1, 1, 1, 1, 1, 1, 1, 1, 1, 1, 1, 1, 1, 1, 1,\n",
       "       1, 1, 1, 1, 1, 1, 1, 1, 1, 1, 0, 1, 1, 1, 1, 1, 1, 1, 1, 1, 1, 1,\n",
       "       1, 1, 1, 1, 1, 1, 1, 1, 1, 1, 1, 1, 1, 1, 1, 1, 1, 1, 1, 1, 1, 1,\n",
       "       1, 1, 1, 1, 1, 1, 1, 1, 1, 1, 1, 1, 1, 1, 1, 1, 1, 1, 1, 1, 1, 1,\n",
       "       1, 1, 1, 1, 1, 1, 1, 1, 1, 1, 1, 1, 1, 1, 1, 1, 1, 1, 1, 1, 1])"
      ]
     },
     "execution_count": 73,
     "metadata": {},
     "output_type": "execute_result"
    }
   ],
   "source": [
    "lr.predict(X_test)"
   ]
  },
  {
   "cell_type": "code",
   "execution_count": null,
   "metadata": {},
   "outputs": [],
   "source": []
  },
  {
   "cell_type": "code",
   "execution_count": 75,
   "metadata": {},
   "outputs": [
    {
     "name": "stdout",
     "output_type": "stream",
     "text": [
      "lr\n",
      "mlp\n",
      "dt\n",
      "rf\n",
      "svc\n",
      "knn\n",
      "gnb\n",
      "ada\n",
      "[0.8295019157088123, {'clf__C': 0.1, 'clf__multi_class': 'multinomial', 'clf__solver': 'newton-cg'}, <class 'sklearn.linear_model.logistic.LogisticRegression'>]\n",
      "\n",
      "[0.8295019157088123, {'clf__algorithm': 'SAMME.R', 'clf__base_estimator': LogisticRegression(C=1.0, class_weight=None, dual=False, fit_intercept=True,\n",
      "          intercept_scaling=1, max_iter=100, multi_class='warn',\n",
      "          n_jobs=None, penalty='l2', random_state=0, solver='warn',\n",
      "          tol=0.0001, verbose=0, warm_start=False), 'clf__learning_rate': 1, 'clf__n_estimators': 30}, <class 'sklearn.ensemble.weight_boosting.AdaBoostClassifier'>]\n",
      "\n",
      "[0.8275862068965517, {'clf__activation': 'identity', 'clf__hidden_layer_sizes': 10}, <class 'sklearn.neural_network.multilayer_perceptron.MLPClassifier'>]\n",
      "\n",
      "[0.8275862068965517, {'clf__min_samples_leaf': 30, 'clf__min_samples_split': 2}, <class 'sklearn.tree.tree.DecisionTreeClassifier'>]\n",
      "\n",
      "[0.8275862068965517, {'clf__min_samples_leaf': 10, 'clf__min_samples_split': 2, 'clf__n_estimators': 10}, <class 'sklearn.ensemble.forest.RandomForestClassifier'>]\n",
      "\n",
      "[0.8275862068965517, {'clf__C': 0.01, 'clf__gamma': 'auto', 'clf__kernel': 'linear'}, <class 'sklearn.svm.classes.SVC'>]\n",
      "\n",
      "[0.8199233716475096, {'clf__n_neighbors': 10}, <class 'sklearn.neighbors.classification.KNeighborsClassifier'>]\n",
      "\n",
      "[0.7835249042145593, {'clf__var_smoothing': 1e-10}, <class 'sklearn.naive_bayes.GaussianNB'>]\n",
      "\n"
     ]
    }
   ],
   "source": [
    "from sklearn.linear_model import LogisticRegression\n",
    "from sklearn.neural_network import MLPClassifier\n",
    "from sklearn.tree import DecisionTreeClassifier\n",
    "from sklearn.ensemble import RandomForestClassifier, GradientBoostingClassifier, AdaBoostClassifier\n",
    "from sklearn.svm import SVC\n",
    "from sklearn.neighbors import KNeighborsClassifier\n",
    "from sklearn.naive_bayes import GaussianNB\n",
    "\n",
    "clfs = {'lr': LogisticRegression(random_state=0),\n",
    "        'mlp': MLPClassifier(random_state=0),\n",
    "        'dt': DecisionTreeClassifier(random_state=0),\n",
    "        'rf': RandomForestClassifier(random_state=0),\n",
    "        'svc': SVC(random_state=0),\n",
    "        'knn': KNeighborsClassifier(),\n",
    "        'gnb': GaussianNB(),\n",
    "        \"ada\": AdaBoostClassifier(random_state=0),\n",
    "       }\n",
    "\n",
    "from sklearn.pipeline import Pipeline\n",
    "from sklearn.preprocessing import StandardScaler\n",
    "\n",
    "pipe_clfs = {}\n",
    "\n",
    "for name, clf in clfs.items():\n",
    "    pipe_clfs[name] = Pipeline([('StandardScaler', StandardScaler()), ('clf', clf)])\n",
    "    \n",
    "param_grids = {}\n",
    "\n",
    "C_range = [10 ** i for i in range(-4, 5)]\n",
    "param_grid = [{'clf__multi_class': ['ovr'], \n",
    "               'clf__solver': ['newton-cg', 'lbfgs', 'liblinear', 'sag', 'saga'],\n",
    "               'clf__C': C_range},\n",
    "              \n",
    "              {'clf__multi_class': ['multinomial'],\n",
    "               'clf__solver': ['newton-cg', 'lbfgs', 'sag', 'saga'],\n",
    "               'clf__C': C_range}]\n",
    "\n",
    "param_grids['lr'] = param_grid\n",
    "param_grid = [{'clf__hidden_layer_sizes': [10, 100, 200],\n",
    "               'clf__activation': ['identity', 'logistic', 'tanh', 'relu']}]\n",
    "\n",
    "param_grids['mlp'] = param_grid\n",
    "param_grid = [{'clf__min_samples_split': [2, 10, 30],\n",
    "               'clf__min_samples_leaf': [1, 10, 30]}]\n",
    "param_grids['dt'] = param_grid\n",
    "\n",
    "param_grid = [{'clf__n_estimators': [2, 10, 30],\n",
    "               'clf__min_samples_split': [2, 10, 30],\n",
    "               'clf__min_samples_leaf': [1, 10, 30]}]\n",
    "param_grids['rf'] = param_grid\n",
    "\n",
    "param_grid = [{'clf__C': [0.01, 0.1, 1, 10, 100],\n",
    "               'clf__gamma': ['auto', 'scale'],\n",
    "               'clf__kernel': ['linear', 'poly', 'rbf', 'sigmoid']}]\n",
    "param_grids['svc'] = param_grid\n",
    "\n",
    "param_grid = [{'clf__n_neighbors': list(range(1, 11))}]\n",
    "param_grids['knn'] = param_grid\n",
    "\n",
    "param_grid = [{'clf__var_smoothing': [10 ** i for i in range(-10, -7)]}]\n",
    "param_grids['gnb'] = param_grid\n",
    "\n",
    "param_grid = [{'clf__base_estimator': [DecisionTreeClassifier(max_depth=1), LogisticRegression(random_state=0), \n",
    "                                      ], \"clf__n_estimators\": [i*10 for i in range(2, 7)], \n",
    "              \"clf__learning_rate\": [0.01, 0.1, 1], \"clf__algorithm\": [\"SAMME\", \"SAMME.R\"]}]\n",
    "param_grids['ada'] = param_grid\n",
    "\n",
    "#param_grid = [{'clf__var_smoothing': [10 ** i for i in range(-10, -7)]}]\n",
    "#param_grids['gdb'] = param_grid\n",
    "\n",
    "import warnings\n",
    "warnings.filterwarnings('ignore')\n",
    "\n",
    "from sklearn.model_selection import GridSearchCV\n",
    "from sklearn.model_selection import StratifiedKFold\n",
    "\n",
    "# The list of [best_score_, best_params_, best_estimator_]\n",
    "best_score_param_estimators = []\n",
    "\n",
    "# For each classifier\n",
    "for name in pipe_clfs.keys():\n",
    "    # GridSearchCV\n",
    "    # Implement me\n",
    "    gs = GridSearchCV(estimator=pipe_clfs[name],\n",
    "                      param_grid=param_grids[name],\n",
    "                      scoring='accuracy',\n",
    "                      n_jobs=-1,\n",
    "                      cv=StratifiedKFold(n_splits=10,\n",
    "                                         shuffle=True,\n",
    "                                         random_state=0))\n",
    "    # Fit the pipeline\n",
    "    # Implement me\n",
    "    gs = gs.fit(X_train, y_train)\n",
    "    \n",
    "    print(name)\n",
    "    \n",
    "    # Update best_score_param_estimators\n",
    "    best_score_param_estimators.append([gs.best_score_, gs.best_params_, gs.best_estimator_])\n",
    "    \n",
    "# Sort best_score_param_estimators in descending order of the best_score_\n",
    "# Implement me\n",
    "best_score_param_estimators = sorted(best_score_param_estimators, key=lambda x : x[0], reverse=True)\n",
    "\n",
    "# For each [best_score_, best_params_, best_estimator_]\n",
    "for best_score_param_estimator in best_score_param_estimators:\n",
    "    # Print out [best_score_, best_params_, best_estimator_], where best_estimator_ is a pipeline\n",
    "    # Since we only print out the type of classifier of the pipeline\n",
    "    print([best_score_param_estimator[0], best_score_param_estimator[1], type(best_score_param_estimator[2].named_steps['clf'])], end='\\n\\n')"
   ]
  },
  {
   "cell_type": "code",
   "execution_count": null,
   "metadata": {},
   "outputs": [],
   "source": []
  },
  {
   "cell_type": "code",
   "execution_count": null,
   "metadata": {},
   "outputs": [],
   "source": []
  },
  {
   "cell_type": "code",
   "execution_count": null,
   "metadata": {},
   "outputs": [],
   "source": []
  },
  {
   "cell_type": "code",
   "execution_count": null,
   "metadata": {},
   "outputs": [],
   "source": []
  },
  {
   "cell_type": "code",
   "execution_count": null,
   "metadata": {},
   "outputs": [],
   "source": []
  },
  {
   "cell_type": "code",
   "execution_count": null,
   "metadata": {},
   "outputs": [],
   "source": []
  },
  {
   "cell_type": "code",
   "execution_count": null,
   "metadata": {},
   "outputs": [],
   "source": []
  },
  {
   "cell_type": "code",
   "execution_count": 150,
   "metadata": {},
   "outputs": [],
   "source": [
    "import os\n",
    "path = os.getcwd()[:os.getcwd().find(\"feat_extraction\")] + \"success_data.csv\"\n",
    "df = pd.read_csv(path, index_col=0)\n"
   ]
  },
  {
   "cell_type": "code",
   "execution_count": 151,
   "metadata": {},
   "outputs": [],
   "source": [
    "mn = df[\"Domestic ROI (%)\"].mean()\n",
    "std = df[\"Domestic ROI (%)\"].std()"
   ]
  },
  {
   "cell_type": "code",
   "execution_count": 152,
   "metadata": {},
   "outputs": [
    {
     "data": {
      "text/plain": [
       "(653, 7)"
      ]
     },
     "execution_count": 152,
     "metadata": {},
     "output_type": "execute_result"
    }
   ],
   "source": [
    "df.shape"
   ]
  },
  {
   "cell_type": "code",
   "execution_count": 153,
   "metadata": {},
   "outputs": [],
   "source": [
    "list_to_keep = []\n",
    "for i in range(df.shape[0]):\n",
    "    if df.iloc[i][\"Domestic ROI (%)\"] > 2*(std - mn) or df.iloc[i][\"Domestic ROI (%)\"] < -2*(std - mn):\n",
    "        pass\n",
    "    else:\n",
    "        list_to_keep.append(df.iloc[i][\"Processed Title\"])"
   ]
  },
  {
   "cell_type": "code",
   "execution_count": 154,
   "metadata": {},
   "outputs": [
    {
     "data": {
      "text/plain": [
       "(636, 7)"
      ]
     },
     "execution_count": 154,
     "metadata": {},
     "output_type": "execute_result"
    }
   ],
   "source": [
    "df = df[df[\"Processed Title\"].isin(list_to_keep)]\n",
    "df.shape"
   ]
  },
  {
   "cell_type": "code",
   "execution_count": 155,
   "metadata": {},
   "outputs": [],
   "source": [
    "#df = pd.read_csv(path, index_col=0)\n",
    "\n",
    "def discretize(row):\n",
    "    if row[\"Domestic ROI (%)\"] > 70:\n",
    "        return 1\n",
    "    #elif 70 > row[\"Domestic ROI (%)\"] > 25:\n",
    "    #    return 1\n",
    "    else:\n",
    "        return 0\n",
    "\n",
    "df[\"Success\"] = df.apply(discretize, axis=1)\n",
    "df1 = pd.read_csv(\"movies_with_feats_use_me.csv\", index_col=0)\n",
    "del df1[\"Unnamed: 0.1\"]\n",
    "df1.head()\n",
    "df1 = df1[df1[\"Processed Title\"].isin(list_to_keep)]"
   ]
  },
  {
   "cell_type": "code",
   "execution_count": 156,
   "metadata": {},
   "outputs": [
    {
     "data": {
      "text/plain": [
       "0    369\n",
       "1    267\n",
       "Name: Success, dtype: int64"
      ]
     },
     "execution_count": 156,
     "metadata": {},
     "output_type": "execute_result"
    }
   ],
   "source": [
    "y = df[\"Success\"]\n",
    "y.value_counts()"
   ]
  },
  {
   "cell_type": "code",
   "execution_count": 66,
   "metadata": {},
   "outputs": [
    {
     "data": {
      "image/png": "[encoded data removed]",
      "text/plain": [
       "<Figure size 432x288 with 1 Axes>"
      ]
     },
     "metadata": {
      "needs_background": "light"
     },
     "output_type": "display_data"
    }
   ],
   "source": [
    "df = pd.read_csv(path, index_col=0)\n",
    "df[\"Domestic ROI (%)\"].hist(bins=100)\n",
    "plt.show()"
   ]
  },
  {
   "cell_type": "code",
   "execution_count": 57,
   "metadata": {},
   "outputs": [
    {
     "data": {
      "text/plain": [
       "Avatar                                        1\n",
       "The Dark Knight Rises                         0\n",
       "The Avengers                                  1\n",
       "Pirates of the Caribbean: Dead Man's Chest    1\n",
       "Men in Black 3                                0\n",
       "Name: Success, dtype: int64"
      ]
     },
     "execution_count": 57,
     "metadata": {},
     "output_type": "execute_result"
    }
   ],
   "source": [
    "y.head()"
   ]
  },
  {
   "cell_type": "code",
   "execution_count": 157,
   "metadata": {},
   "outputs": [],
   "source": [
    "X = df1.drop([\"Success\", \"Processed Title\", \"polarity_of_mentions_char_1\", \"polarity_of_mentions_char_2\", \"polarity_of_mentions_char_3\",\n",
    "       \"polarity_of_mentions_char_4\", \"polarity_of_mentions_char_5\"], axis=1)"
   ]
  },
  {
   "cell_type": "code",
   "execution_count": 158,
   "metadata": {},
   "outputs": [
    {
     "data": {
      "text/html": [
       "<div>\n",
       "<style scoped>\n",
       "    .dataframe tbody tr th:only-of-type {\n",
       "        vertical-align: middle;\n",
       "    }\n",
       "\n",
       "    .dataframe tbody tr th {\n",
       "        vertical-align: top;\n",
       "    }\n",
       "\n",
       "    .dataframe thead th {\n",
       "        text-align: right;\n",
       "    }\n",
       "</style>\n",
       "<table border=\"1\" class=\"dataframe\">\n",
       "  <thead>\n",
       "    <tr style=\"text-align: right;\">\n",
       "      <th></th>\n",
       "      <th>n_unique_words_char_1</th>\n",
       "      <th>n_unique_words_char_2</th>\n",
       "      <th>n_unique_words_char_3</th>\n",
       "      <th>n_unique_words_char_4</th>\n",
       "      <th>n_unique_words_char_5</th>\n",
       "      <th>FK_read_level_char_1</th>\n",
       "      <th>FK_read_level_char_2</th>\n",
       "      <th>FK_read_level_char_3</th>\n",
       "      <th>FK_read_level_char_4</th>\n",
       "      <th>FK_read_level_char_5</th>\n",
       "      <th>...</th>\n",
       "      <th>std_of_overall_polarity</th>\n",
       "      <th>wav_polarity</th>\n",
       "      <th>avg_FK</th>\n",
       "      <th>pass_ratio_ch1</th>\n",
       "      <th>pass_ratio_ch2</th>\n",
       "      <th>pass_ratio_ch3</th>\n",
       "      <th>pass_ratio_ch4</th>\n",
       "      <th>pass_ratio_ch5</th>\n",
       "      <th>sign_check_char_mention_polairty</th>\n",
       "      <th>std_of_char_mention_polarity</th>\n",
       "    </tr>\n",
       "    <tr>\n",
       "      <th>Unnamed: 0</th>\n",
       "      <th></th>\n",
       "      <th></th>\n",
       "      <th></th>\n",
       "      <th></th>\n",
       "      <th></th>\n",
       "      <th></th>\n",
       "      <th></th>\n",
       "      <th></th>\n",
       "      <th></th>\n",
       "      <th></th>\n",
       "      <th></th>\n",
       "      <th></th>\n",
       "      <th></th>\n",
       "      <th></th>\n",
       "      <th></th>\n",
       "      <th></th>\n",
       "      <th></th>\n",
       "      <th></th>\n",
       "      <th></th>\n",
       "      <th></th>\n",
       "      <th></th>\n",
       "    </tr>\n",
       "  </thead>\n",
       "  <tbody>\n",
       "    <tr>\n",
       "      <th>Avatar</th>\n",
       "      <td>670</td>\n",
       "      <td>565</td>\n",
       "      <td>252</td>\n",
       "      <td>425</td>\n",
       "      <td>276</td>\n",
       "      <td>2</td>\n",
       "      <td>2</td>\n",
       "      <td>2</td>\n",
       "      <td>3</td>\n",
       "      <td>3</td>\n",
       "      <td>...</td>\n",
       "      <td>0.778124</td>\n",
       "      <td>0.812752</td>\n",
       "      <td>2.4</td>\n",
       "      <td>0.030374</td>\n",
       "      <td>0.035242</td>\n",
       "      <td>0.039370</td>\n",
       "      <td>0.015152</td>\n",
       "      <td>0.040541</td>\n",
       "      <td>0</td>\n",
       "      <td>0.780684</td>\n",
       "    </tr>\n",
       "    <tr>\n",
       "      <th>The Dark Knight Rises</th>\n",
       "      <td>531</td>\n",
       "      <td>514</td>\n",
       "      <td>506</td>\n",
       "      <td>418</td>\n",
       "      <td>434</td>\n",
       "      <td>2</td>\n",
       "      <td>2</td>\n",
       "      <td>3</td>\n",
       "      <td>2</td>\n",
       "      <td>2</td>\n",
       "      <td>...</td>\n",
       "      <td>0.931835</td>\n",
       "      <td>-0.130804</td>\n",
       "      <td>2.2</td>\n",
       "      <td>0.049057</td>\n",
       "      <td>0.026549</td>\n",
       "      <td>0.059172</td>\n",
       "      <td>0.053691</td>\n",
       "      <td>0.031447</td>\n",
       "      <td>0</td>\n",
       "      <td>0.964138</td>\n",
       "    </tr>\n",
       "    <tr>\n",
       "      <th>The Avengers</th>\n",
       "      <td>560</td>\n",
       "      <td>623</td>\n",
       "      <td>359</td>\n",
       "      <td>425</td>\n",
       "      <td>205</td>\n",
       "      <td>2</td>\n",
       "      <td>3</td>\n",
       "      <td>3</td>\n",
       "      <td>4</td>\n",
       "      <td>3</td>\n",
       "      <td>...</td>\n",
       "      <td>0.775803</td>\n",
       "      <td>0.683503</td>\n",
       "      <td>3.0</td>\n",
       "      <td>0.038462</td>\n",
       "      <td>0.021944</td>\n",
       "      <td>0.024590</td>\n",
       "      <td>0.030075</td>\n",
       "      <td>0.054545</td>\n",
       "      <td>0</td>\n",
       "      <td>0.787237</td>\n",
       "    </tr>\n",
       "    <tr>\n",
       "      <th>Pirates of the Caribbean: Dead Man's Chest</th>\n",
       "      <td>629</td>\n",
       "      <td>373</td>\n",
       "      <td>285</td>\n",
       "      <td>378</td>\n",
       "      <td>281</td>\n",
       "      <td>2</td>\n",
       "      <td>1</td>\n",
       "      <td>1</td>\n",
       "      <td>1</td>\n",
       "      <td>4</td>\n",
       "      <td>...</td>\n",
       "      <td>0.778359</td>\n",
       "      <td>0.523430</td>\n",
       "      <td>1.8</td>\n",
       "      <td>0.039275</td>\n",
       "      <td>0.028986</td>\n",
       "      <td>0.044776</td>\n",
       "      <td>0.037879</td>\n",
       "      <td>0.041096</td>\n",
       "      <td>0</td>\n",
       "      <td>0.621058</td>\n",
       "    </tr>\n",
       "    <tr>\n",
       "      <th>Men in Black 3</th>\n",
       "      <td>1206</td>\n",
       "      <td>867</td>\n",
       "      <td>234</td>\n",
       "      <td>209</td>\n",
       "      <td>185</td>\n",
       "      <td>2</td>\n",
       "      <td>3</td>\n",
       "      <td>2</td>\n",
       "      <td>3</td>\n",
       "      <td>4</td>\n",
       "      <td>...</td>\n",
       "      <td>0.784953</td>\n",
       "      <td>0.903355</td>\n",
       "      <td>2.8</td>\n",
       "      <td>0.024590</td>\n",
       "      <td>0.033613</td>\n",
       "      <td>0.033333</td>\n",
       "      <td>0.035714</td>\n",
       "      <td>0.078947</td>\n",
       "      <td>0</td>\n",
       "      <td>0.796159</td>\n",
       "    </tr>\n",
       "  </tbody>\n",
       "</table>\n",
       "<p>5 rows × 77 columns</p>\n",
       "</div>"
      ],
      "text/plain": [
       "                                            n_unique_words_char_1  \\\n",
       "Unnamed: 0                                                          \n",
       "Avatar                                                        670   \n",
       "The Dark Knight Rises                                         531   \n",
       "The Avengers                                                  560   \n",
       "Pirates of the Caribbean: Dead Man's Chest                    629   \n",
       "Men in Black 3                                               1206   \n",
       "\n",
       "                                            n_unique_words_char_2  \\\n",
       "Unnamed: 0                                                          \n",
       "Avatar                                                        565   \n",
       "The Dark Knight Rises                                         514   \n",
       "The Avengers                                                  623   \n",
       "Pirates of the Caribbean: Dead Man's Chest                    373   \n",
       "Men in Black 3                                                867   \n",
       "\n",
       "                                            n_unique_words_char_3  \\\n",
       "Unnamed: 0                                                          \n",
       "Avatar                                                        252   \n",
       "The Dark Knight Rises                                         506   \n",
       "The Avengers                                                  359   \n",
       "Pirates of the Caribbean: Dead Man's Chest                    285   \n",
       "Men in Black 3                                                234   \n",
       "\n",
       "                                            n_unique_words_char_4  \\\n",
       "Unnamed: 0                                                          \n",
       "Avatar                                                        425   \n",
       "The Dark Knight Rises                                         418   \n",
       "The Avengers                                                  425   \n",
       "Pirates of the Caribbean: Dead Man's Chest                    378   \n",
       "Men in Black 3                                                209   \n",
       "\n",
       "                                            n_unique_words_char_5  \\\n",
       "Unnamed: 0                                                          \n",
       "Avatar                                                        276   \n",
       "The Dark Knight Rises                                         434   \n",
       "The Avengers                                                  205   \n",
       "Pirates of the Caribbean: Dead Man's Chest                    281   \n",
       "Men in Black 3                                                185   \n",
       "\n",
       "                                            FK_read_level_char_1  \\\n",
       "Unnamed: 0                                                         \n",
       "Avatar                                                         2   \n",
       "The Dark Knight Rises                                          2   \n",
       "The Avengers                                                   2   \n",
       "Pirates of the Caribbean: Dead Man's Chest                     2   \n",
       "Men in Black 3                                                 2   \n",
       "\n",
       "                                            FK_read_level_char_2  \\\n",
       "Unnamed: 0                                                         \n",
       "Avatar                                                         2   \n",
       "The Dark Knight Rises                                          2   \n",
       "The Avengers                                                   3   \n",
       "Pirates of the Caribbean: Dead Man's Chest                     1   \n",
       "Men in Black 3                                                 3   \n",
       "\n",
       "                                            FK_read_level_char_3  \\\n",
       "Unnamed: 0                                                         \n",
       "Avatar                                                         2   \n",
       "The Dark Knight Rises                                          3   \n",
       "The Avengers                                                   3   \n",
       "Pirates of the Caribbean: Dead Man's Chest                     1   \n",
       "Men in Black 3                                                 2   \n",
       "\n",
       "                                            FK_read_level_char_4  \\\n",
       "Unnamed: 0                                                         \n",
       "Avatar                                                         3   \n",
       "The Dark Knight Rises                                          2   \n",
       "The Avengers                                                   4   \n",
       "Pirates of the Caribbean: Dead Man's Chest                     1   \n",
       "Men in Black 3                                                 3   \n",
       "\n",
       "                                            FK_read_level_char_5  ...  \\\n",
       "Unnamed: 0                                                        ...   \n",
       "Avatar                                                         3  ...   \n",
       "The Dark Knight Rises                                          2  ...   \n",
       "The Avengers                                                   3  ...   \n",
       "Pirates of the Caribbean: Dead Man's Chest                     4  ...   \n",
       "Men in Black 3                                                 4  ...   \n",
       "\n",
       "                                            std_of_overall_polarity  \\\n",
       "Unnamed: 0                                                            \n",
       "Avatar                                                     0.778124   \n",
       "The Dark Knight Rises                                      0.931835   \n",
       "The Avengers                                               0.775803   \n",
       "Pirates of the Caribbean: Dead Man's Chest                 0.778359   \n",
       "Men in Black 3                                             0.784953   \n",
       "\n",
       "                                            wav_polarity  avg_FK  \\\n",
       "Unnamed: 0                                                         \n",
       "Avatar                                          0.812752     2.4   \n",
       "The Dark Knight Rises                          -0.130804     2.2   \n",
       "The Avengers                                    0.683503     3.0   \n",
       "Pirates of the Caribbean: Dead Man's Chest      0.523430     1.8   \n",
       "Men in Black 3                                  0.903355     2.8   \n",
       "\n",
       "                                            pass_ratio_ch1  pass_ratio_ch2  \\\n",
       "Unnamed: 0                                                                   \n",
       "Avatar                                            0.030374        0.035242   \n",
       "The Dark Knight Rises                             0.049057        0.026549   \n",
       "The Avengers                                      0.038462        0.021944   \n",
       "Pirates of the Caribbean: Dead Man's Chest        0.039275        0.028986   \n",
       "Men in Black 3                                    0.024590        0.033613   \n",
       "\n",
       "                                            pass_ratio_ch3  pass_ratio_ch4  \\\n",
       "Unnamed: 0                                                                   \n",
       "Avatar                                            0.039370        0.015152   \n",
       "The Dark Knight Rises                             0.059172        0.053691   \n",
       "The Avengers                                      0.024590        0.030075   \n",
       "Pirates of the Caribbean: Dead Man's Chest        0.044776        0.037879   \n",
       "Men in Black 3                                    0.033333        0.035714   \n",
       "\n",
       "                                            pass_ratio_ch5  \\\n",
       "Unnamed: 0                                                   \n",
       "Avatar                                            0.040541   \n",
       "The Dark Knight Rises                             0.031447   \n",
       "The Avengers                                      0.054545   \n",
       "Pirates of the Caribbean: Dead Man's Chest        0.041096   \n",
       "Men in Black 3                                    0.078947   \n",
       "\n",
       "                                            sign_check_char_mention_polairty  \\\n",
       "Unnamed: 0                                                                     \n",
       "Avatar                                                                     0   \n",
       "The Dark Knight Rises                                                      0   \n",
       "The Avengers                                                               0   \n",
       "Pirates of the Caribbean: Dead Man's Chest                                 0   \n",
       "Men in Black 3                                                             0   \n",
       "\n",
       "                                            std_of_char_mention_polarity  \n",
       "Unnamed: 0                                                                \n",
       "Avatar                                                          0.780684  \n",
       "The Dark Knight Rises                                           0.964138  \n",
       "The Avengers                                                    0.787237  \n",
       "Pirates of the Caribbean: Dead Man's Chest                      0.621058  \n",
       "Men in Black 3                                                  0.796159  \n",
       "\n",
       "[5 rows x 77 columns]"
      ]
     },
     "execution_count": 158,
     "metadata": {},
     "output_type": "execute_result"
    }
   ],
   "source": [
    "X.head()"
   ]
  },
  {
   "cell_type": "code",
   "execution_count": null,
   "metadata": {},
   "outputs": [],
   "source": []
  },
  {
   "cell_type": "code",
   "execution_count": 159,
   "metadata": {},
   "outputs": [
    {
     "data": {
      "text/plain": [
       "0.515625"
      ]
     },
     "execution_count": 159,
     "metadata": {},
     "output_type": "execute_result"
    }
   ],
   "source": [
    "X_train, X_test, y_train, y_test = train_test_split(X, y, test_size=0.2, random_state=0, stratify=y)\n",
    "lr = LogisticRegression()\n",
    "lr.fit(X_train, y_train)\n",
    "lr.score(X_test, y_test)"
   ]
  },
  {
   "cell_type": "code",
   "execution_count": 161,
   "metadata": {},
   "outputs": [
    {
     "data": {
      "text/plain": [
       "(0    74\n",
       " 1    54\n",
       " Name: Success, dtype: int64, 0.578125)"
      ]
     },
     "execution_count": 161,
     "metadata": {},
     "output_type": "execute_result"
    }
   ],
   "source": [
    "y_test.value_counts(), 74/(74+54)"
   ]
  },
  {
   "cell_type": "code",
   "execution_count": null,
   "metadata": {},
   "outputs": [],
   "source": []
  },
  {
   "cell_type": "code",
   "execution_count": 162,
   "metadata": {},
   "outputs": [
    {
     "data": {
      "text/plain": [
       "array([1, 0, 0, 0, 0, 0, 1, 0, 0, 0, 0, 0, 1, 0, 1, 0, 0, 0, 0, 0, 0, 0,\n",
       "       1, 0, 1, 0, 0, 0, 1, 1, 0, 0, 0, 1, 1, 0, 0, 0, 0, 0, 0, 0, 0, 1,\n",
       "       1, 0, 0, 0, 0, 1, 1, 0, 0, 1, 0, 0, 0, 0, 1, 0, 0, 0, 0, 1, 1, 1,\n",
       "       0, 0, 0, 0, 1, 1, 1, 1, 0, 0, 0, 0, 0, 0, 0, 1, 1, 0, 1, 0, 0, 0,\n",
       "       1, 1, 1, 0, 0, 0, 1, 1, 0, 0, 0, 0, 0, 0, 0, 1, 0, 0, 0, 1, 0, 0,\n",
       "       1, 0, 0, 0, 0, 0, 0, 0, 0, 0, 0, 0, 0, 0, 1, 1, 0, 0])"
      ]
     },
     "execution_count": 162,
     "metadata": {},
     "output_type": "execute_result"
    }
   ],
   "source": [
    "lr.predict(X_test)"
   ]
  },
  {
   "cell_type": "code",
   "execution_count": 163,
   "metadata": {},
   "outputs": [
    {
     "data": {
      "text/plain": [
       "array([[52, 40],\n",
       "       [22, 14]])"
      ]
     },
     "execution_count": 163,
     "metadata": {},
     "output_type": "execute_result"
    }
   ],
   "source": [
    "from sklearn.metrics import confusion_matrix\n",
    "confusion_matrix(lr.predict(X_test), y_test)"
   ]
  },
  {
   "cell_type": "code",
   "execution_count": null,
   "metadata": {},
   "outputs": [],
   "source": []
  },
  {
   "cell_type": "code",
   "execution_count": 32,
   "metadata": {},
   "outputs": [],
   "source": [
    "from scipy.stats import pointbiserialr\n",
    "\n",
    "corr = {}\n",
    "for feature in X.columns:\n",
    "    try:\n",
    "        corr[feature] = pointbiserialr(X[feature].values, y.values)\n",
    "    except:\n",
    "        print(feature)\n",
    "        \n",
    "import operator\n",
    "sorted_corr = sorted(corr.items(), key=operator.itemgetter(1))"
   ]
  },
  {
   "cell_type": "code",
   "execution_count": 33,
   "metadata": {},
   "outputs": [
    {
     "data": {
      "text/plain": [
       "[('pass_ratio_ch2',\n",
       "  PointbiserialrResult(correlation=-0.1212353967188512, pvalue=0.0019121258500790137)),\n",
       " ('num_pass_sents_char_2',\n",
       "  PointbiserialrResult(correlation=-0.07569013672462153, pvalue=0.053206190017626845)),\n",
       " ('n_stop_words_char_4',\n",
       "  PointbiserialrResult(correlation=-0.06455447473380516, pvalue=0.0993167293190397)),\n",
       " ('std_of_overall_polarity',\n",
       "  PointbiserialrResult(correlation=-0.06197132245418844, pvalue=0.1136282059569927)),\n",
       " ('neg_polarity_of_mentions_char_4',\n",
       "  PointbiserialrResult(correlation=-0.06167384884093987, pvalue=0.1153754289101969)),\n",
       " ('n_unique_words_char_4',\n",
       "  PointbiserialrResult(correlation=-0.06043575653325392, pvalue=0.12287476908939912)),\n",
       " ('std_of_char_mention_polarity',\n",
       "  PointbiserialrResult(correlation=-0.05694529053089997, pvalue=0.14606725179201818)),\n",
       " ('num_pass_sents_char_4',\n",
       "  PointbiserialrResult(correlation=-0.05511875574275749, pvalue=0.15946645332242898)),\n",
       " ('FK_read_level_char_5',\n",
       "  PointbiserialrResult(correlation=-0.05496776594366816, pvalue=0.16061429956916853)),\n",
       " ('stdvs_n_stop_words_above_mean',\n",
       "  PointbiserialrResult(correlation=-0.05329250444750399, pvalue=0.17377076624270948)),\n",
       " ('neg_polarity_of_mentions_char_3',\n",
       "  PointbiserialrResult(correlation=-0.05263683917347889, pvalue=0.17913309953730647)),\n",
       " ('n_unique_words_char_5',\n",
       "  PointbiserialrResult(correlation=-0.051743057870881834, pvalue=0.1866392735096786)),\n",
       " ('passive_ratio',\n",
       "  PointbiserialrResult(correlation=-0.05024672890076011, pvalue=0.19972054154985294)),\n",
       " ('tot_pass_sents',\n",
       "  PointbiserialrResult(correlation=-0.043031675907084614, pvalue=0.2721924950732816)),\n",
       " ('n_stop_words_char_1',\n",
       "  PointbiserialrResult(correlation=-0.042504433034302014, pvalue=0.27811582227956555)),\n",
       " ('unique_per_sent_char_3',\n",
       "  PointbiserialrResult(correlation=-0.04245484841233601, pvalue=0.27867735190300363)),\n",
       " ('num_sents_char_4',\n",
       "  PointbiserialrResult(correlation=-0.0407544704498445, pvalue=0.2983998560278972)),\n",
       " ('n_stop_words_char_5',\n",
       "  PointbiserialrResult(correlation=-0.03994048433134894, pvalue=0.30816264701548113)),\n",
       " ('neg_polarity_of_mentions_char_5',\n",
       "  PointbiserialrResult(correlation=-0.03955054930530856, pvalue=0.31291331121156535)),\n",
       " ('avg_FK',\n",
       "  PointbiserialrResult(correlation=-0.038174781582123264, pvalue=0.33005691680530347)),\n",
       " ('FK_read_level_mean_char',\n",
       "  PointbiserialrResult(correlation=-0.038174781582123264, pvalue=0.33005691680530347)),\n",
       " ('n_unique_words_char_3',\n",
       "  PointbiserialrResult(correlation=-0.036913375741203076, pvalue=0.34629855756752925)),\n",
       " ('n_stop_words_char_3',\n",
       "  PointbiserialrResult(correlation=-0.03516080319470397, pvalue=0.36969205499684477)),\n",
       " ('num_pass_sents_char_5',\n",
       "  PointbiserialrResult(correlation=-0.034602881827614305, pvalue=0.3773402290231733)),\n",
       " ('FK_read_level_char_3',\n",
       "  PointbiserialrResult(correlation=-0.03345684676773508, pvalue=0.3933528903621152)),\n",
       " ('pass_ratio_ch4',\n",
       "  PointbiserialrResult(correlation=-0.03099091203219654, pvalue=0.4291715012931553)),\n",
       " ('stdvs_unique_words_above_mean',\n",
       "  PointbiserialrResult(correlation=-0.029123334941150884, pvalue=0.45751468105903115)),\n",
       " ('pass_ratio_ch5',\n",
       "  PointbiserialrResult(correlation=-0.021183418175931352, pvalue=0.5889614006219026)),\n",
       " ('neg_polarity_of_mentions_char_1',\n",
       "  PointbiserialrResult(correlation=-0.018749845635568342, pvalue=0.6324686640338912)),\n",
       " ('FK_read_level_char_2',\n",
       "  PointbiserialrResult(correlation=-0.015665595113761234, pvalue=0.689470280921249)),\n",
       " ('tot_unique_per_sent',\n",
       "  PointbiserialrResult(correlation=-0.01562736274625613, pvalue=0.6901888850113653)),\n",
       " ('n_coref_sents_char_1',\n",
       "  PointbiserialrResult(correlation=-0.014156293110843883, pvalue=0.718044870708531)),\n",
       " ('num_sents_char_5',\n",
       "  PointbiserialrResult(correlation=-0.01380386478497151, pvalue=0.7247759882040492)),\n",
       " ('n_coref_sents_char_4',\n",
       "  PointbiserialrResult(correlation=-0.012886016317097302, pvalue=0.7424049268859847)),\n",
       " ('n_coref_sents_char_2',\n",
       "  PointbiserialrResult(correlation=-0.012864386162516674, pvalue=0.7428220455441057)),\n",
       " ('stop_per_sent_char_2',\n",
       "  PointbiserialrResult(correlation=-0.010484267609336016, pvalue=0.789155347259987)),\n",
       " ('pass_ratio_ch3',\n",
       "  PointbiserialrResult(correlation=-0.009760052536318058, pvalue=0.8034109494658556)),\n",
       " ('pass_ratio_ch1',\n",
       "  PointbiserialrResult(correlation=-0.00966735706730299, pvalue=0.8052404144283812)),\n",
       " ('tot_stop_per_sent',\n",
       "  PointbiserialrResult(correlation=-0.009389625664483982, pvalue=0.8107281366954668)),\n",
       " ('FK_read_level_char_1',\n",
       "  PointbiserialrResult(correlation=-0.00883059432432698, pvalue=0.8218020146686267)),\n",
       " ('neg_polarity_of_mentions_char_2',\n",
       "  PointbiserialrResult(correlation=-0.007465686996324959, pvalue=0.8489844982512038)),\n",
       " ('n_stop_words_char_2',\n",
       "  PointbiserialrResult(correlation=-0.007392955836702759, pvalue=0.8504383010060828)),\n",
       " ('n_unique_words_char_1',\n",
       "  PointbiserialrResult(correlation=-0.007199369962821384, pvalue=0.8543102945521622)),\n",
       " ('FK_read_level_char_4',\n",
       "  PointbiserialrResult(correlation=-0.006997106896251153, pvalue=0.8583595859969724)),\n",
       " ('num_pass_sents_char_3',\n",
       "  PointbiserialrResult(correlation=-0.006710810258086806, pvalue=0.864097559918385)),\n",
       " ('num_sents_char_3',\n",
       "  PointbiserialrResult(correlation=-0.004469906408473316, pvalue=0.9092337434651245)),\n",
       " ('tot_sents',\n",
       "  PointbiserialrResult(correlation=-0.00025021704308271974, pvalue=0.9949081251299174)),\n",
       " ('num_pass_sents_char_1',\n",
       "  PointbiserialrResult(correlation=7.978343688025522e-05, pvalue=0.9983764105650524)),\n",
       " ('tot_coref_sents',\n",
       "  PointbiserialrResult(correlation=0.002066636193489187, pvalue=0.9579634360929525)),\n",
       " ('main_char_rel_diag_length',\n",
       "  PointbiserialrResult(correlation=0.0030153012406939346, pvalue=0.9386990027286524)),\n",
       " ('num_sents_char_1',\n",
       "  PointbiserialrResult(correlation=0.004644171751029349, pvalue=0.905711269349719)),\n",
       " ('stop_per_sent_char_3',\n",
       "  PointbiserialrResult(correlation=0.0048263622467364055, pvalue=0.902030580821329)),\n",
       " ('unique_per_sent_char_1',\n",
       "  PointbiserialrResult(correlation=0.007387136644351771, pvalue=0.8505546411984345)),\n",
       " ('n_unique_words_char_2',\n",
       "  PointbiserialrResult(correlation=0.008496038304424185, pvalue=0.8284463854399724)),\n",
       " ('unique_per_sent_char_2',\n",
       "  PointbiserialrResult(correlation=0.01055025341763752, pvalue=0.7878598845709319)),\n",
       " ('num_sents_char_2',\n",
       "  PointbiserialrResult(correlation=0.01438952183057737, pvalue=0.7136023144275268)),\n",
       " ('stop_per_sent_char_1',\n",
       "  PointbiserialrResult(correlation=0.0145830146929596, pvalue=0.7099239808957628)),\n",
       " ('stop_per_sent_char_5',\n",
       "  PointbiserialrResult(correlation=0.018066916513278988, pvalue=0.6449187052569466)),\n",
       " ('unique_per_sent_char_5',\n",
       "  PointbiserialrResult(correlation=0.020413285781595434, pvalue=0.6025805282853915)),\n",
       " ('stdvs_n_mentions_others_above_mean',\n",
       "  PointbiserialrResult(correlation=0.020430676868480154, pvalue=0.6022714254769084)),\n",
       " ('unique_per_sent_char_4',\n",
       "  PointbiserialrResult(correlation=0.02534601635780049, pvalue=0.5179221794926779)),\n",
       " ('pos_polarity_of_mentions_char_4',\n",
       "  PointbiserialrResult(correlation=0.02907771723064142, pvalue=0.45821986540048854)),\n",
       " ('pct_coref_sents',\n",
       "  PointbiserialrResult(correlation=0.03281047243282328, pvalue=0.40256257049194444)),\n",
       " ('pos_polarity_of_mentions_char_5',\n",
       "  PointbiserialrResult(correlation=0.03435915088238069, pvalue=0.3807116961706136)),\n",
       " ('stop_per_sent_char_4',\n",
       "  PointbiserialrResult(correlation=0.03540444721050533, pvalue=0.3663824721100235)),\n",
       " ('n_coref_sents_char_3',\n",
       "  PointbiserialrResult(correlation=0.03673062856850456, pvalue=0.34869300531979164)),\n",
       " ('stdvs_n_curse_words_above_mean',\n",
       "  PointbiserialrResult(correlation=0.038727146497889435, pvalue=0.32310225605989207)),\n",
       " ('compound_polarity_of_mentions_char_2',\n",
       "  PointbiserialrResult(correlation=0.039828098519146704, pvalue=0.309526959078561)),\n",
       " ('overall_polarity_char_3',\n",
       "  PointbiserialrResult(correlation=0.04042178467834999, pvalue=0.30236484047366047)),\n",
       " ('overall_polarity_char_2',\n",
       "  PointbiserialrResult(correlation=0.040749821824788306, pvalue=0.29845501909481875)),\n",
       " ('compound_polarity_of_mentions_char_3',\n",
       "  PointbiserialrResult(correlation=0.0422147835104641, pvalue=0.28140688658754237)),\n",
       " ('n_coref_sents_char_5',\n",
       "  PointbiserialrResult(correlation=0.04309814042045538, pvalue=0.27145195804829725)),\n",
       " ('compound_polarity_of_mentions_char_4',\n",
       "  PointbiserialrResult(correlation=0.055400326302752746, pvalue=0.1573424669772306)),\n",
       " ('pos_polarity_of_mentions_char_2',\n",
       "  PointbiserialrResult(correlation=0.06411515777425125, pvalue=0.10164394289033171)),\n",
       " ('overall_polarity_char_4',\n",
       "  PointbiserialrResult(correlation=0.06435296315983222, pvalue=0.10037888498068238)),\n",
       " ('overall_polarity_char_5',\n",
       "  PointbiserialrResult(correlation=0.06762512099862174, pvalue=0.08421268472896497)),\n",
       " ('compound_polarity_of_mentions_char_5',\n",
       "  PointbiserialrResult(correlation=0.06944399852464606, pvalue=0.07617837679030295)),\n",
       " ('compound_polarity_of_mentions_char_1',\n",
       "  PointbiserialrResult(correlation=0.07342289614160444, pvalue=0.060768576600808547)),\n",
       " ('pos_polarity_of_mentions_char_3',\n",
       "  PointbiserialrResult(correlation=0.07524826769648707, pvalue=0.05461514215182847)),\n",
       " ('pos_polarity_of_mentions_char_1',\n",
       "  PointbiserialrResult(correlation=0.08236573213671623, pvalue=0.035351701622079054)),\n",
       " ('overall_polarity_char_1',\n",
       "  PointbiserialrResult(correlation=0.0848019451728614, pvalue=0.030252412023055668)),\n",
       " ('wav_polarity',\n",
       "  PointbiserialrResult(correlation=0.09192191069875198, pvalue=0.018801900470609027)),\n",
       " ('sign_check_char_mention_polairty',\n",
       "  PointbiserialrResult(correlation=0.09594246646827, pvalue=0.0141802866745195))]"
      ]
     },
     "execution_count": 33,
     "metadata": {},
     "output_type": "execute_result"
    }
   ],
   "source": [
    "sorted_corr"
   ]
  },
  {
   "cell_type": "code",
   "execution_count": null,
   "metadata": {},
   "outputs": [],
   "source": []
  },
  {
   "cell_type": "code",
   "execution_count": null,
   "metadata": {},
   "outputs": [],
   "source": []
  },
  {
   "cell_type": "code",
   "execution_count": null,
   "metadata": {},
   "outputs": [],
   "source": []
  },
  {
   "cell_type": "code",
   "execution_count": null,
   "metadata": {},
   "outputs": [],
   "source": []
  },
  {
   "cell_type": "code",
   "execution_count": null,
   "metadata": {},
   "outputs": [],
   "source": []
  },
  {
   "cell_type": "code",
   "execution_count": null,
   "metadata": {},
   "outputs": [],
   "source": []
  },
  {
   "cell_type": "code",
   "execution_count": null,
   "metadata": {},
   "outputs": [],
   "source": []
  },
  {
   "cell_type": "code",
   "execution_count": 14,
   "metadata": {},
   "outputs": [
    {
     "name": "stderr",
     "output_type": "stream",
     "text": [
      "/Users/Pedro./anaconda3/lib/python3.7/site-packages/sklearn/ensemble/forest.py:246: FutureWarning: The default value of n_estimators will change from 10 in version 0.20 to 100 in 0.22.\n",
      "  \"10 in version 0.20 to 100 in 0.22.\", FutureWarning)\n"
     ]
    },
    {
     "data": {
      "text/plain": [
       "0.5801526717557252"
      ]
     },
     "execution_count": 14,
     "metadata": {},
     "output_type": "execute_result"
    }
   ],
   "source": [
    "X_train, X_test, y_train, y_test = train_test_split(X, y, test_size=0.2, random_state=0, stratify=y)\n",
    "\n",
    "rf = RandomForestClassifier()\n",
    "rf.fit(X_train, y_train)\n",
    "rf.score(X_test, y_test)"
   ]
  },
  {
   "cell_type": "code",
   "execution_count": 15,
   "metadata": {},
   "outputs": [
    {
     "name": "stderr",
     "output_type": "stream",
     "text": [
      "/Users/Pedro./anaconda3/lib/python3.7/site-packages/sklearn/linear_model/logistic.py:433: FutureWarning: Default solver will be changed to 'lbfgs' in 0.22. Specify a solver to silence this warning.\n",
      "  FutureWarning)\n",
      "/Users/Pedro./anaconda3/lib/python3.7/site-packages/sklearn/linear_model/logistic.py:460: FutureWarning: Default multi_class will be changed to 'auto' in 0.22. Specify the multi_class option to silence this warning.\n",
      "  \"this warning.\", FutureWarning)\n"
     ]
    },
    {
     "data": {
      "text/plain": [
       "0.648854961832061"
      ]
     },
     "execution_count": 15,
     "metadata": {},
     "output_type": "execute_result"
    }
   ],
   "source": [
    "logreg = LogisticRegression()\n",
    "logreg.fit(X_train, y_train)\n",
    "logreg.score(X_test, y_test)"
   ]
  },
  {
   "cell_type": "code",
   "execution_count": 16,
   "metadata": {},
   "outputs": [
    {
     "data": {
      "text/plain": [
       "array([3, 3, 3, 3, 3, 3, 3, 3, 3, 3, 3, 3, 3, 3, 3, 3, 3, 3, 3, 3, 3, 3,\n",
       "       3, 3, 3, 3, 3, 3, 3, 3, 3, 3, 3, 3, 3, 3, 3, 3, 3, 3, 3, 3, 3, 3,\n",
       "       3, 3, 3, 3, 3, 3, 3, 3, 3, 3, 3, 3, 3, 3, 3, 3, 3, 3, 3, 3, 3, 3,\n",
       "       3, 3, 3, 3, 3, 3, 3, 3, 3, 3, 3, 3, 3, 3, 3, 3, 3, 3, 3, 3, 3, 3,\n",
       "       3, 3, 3, 3, 3, 3, 3, 3, 3, 3, 3, 3, 3, 3, 3, 3, 3, 3, 3, 3, 3, 3,\n",
       "       3, 3, 3, 3, 3, 3, 3, 3, 3, 3, 3, 3, 3, 3, 3, 3, 3, 3, 3, 3, 3])"
      ]
     },
     "execution_count": 16,
     "metadata": {},
     "output_type": "execute_result"
    }
   ],
   "source": [
    "logreg.predict(X_test)"
   ]
  },
  {
   "cell_type": "code",
   "execution_count": 17,
   "metadata": {},
   "outputs": [],
   "source": [
    "y = df[\"Worldwide ROI (%)\"]"
   ]
  },
  {
   "cell_type": "code",
   "execution_count": 18,
   "metadata": {},
   "outputs": [],
   "source": [
    "X_train, X_test, y_train, y_test = train_test_split(X, y, test_size=0.2, random_state=0)"
   ]
  },
  {
   "cell_type": "code",
   "execution_count": 19,
   "metadata": {},
   "outputs": [],
   "source": [
    "from sklearn.linear_model import LinearRegression\n",
    "from sklearn.ensemble import RandomForestRegressor"
   ]
  },
  {
   "cell_type": "code",
   "execution_count": 20,
   "metadata": {},
   "outputs": [
    {
     "data": {
      "text/plain": [
       "-0.02988346926326213"
      ]
     },
     "execution_count": 20,
     "metadata": {},
     "output_type": "execute_result"
    }
   ],
   "source": [
    "lr = LinearRegression()\n",
    "lr.fit(X_train, y_train)\n",
    "lr.score(X_test, y_test)"
   ]
  },
  {
   "cell_type": "code",
   "execution_count": null,
   "metadata": {},
   "outputs": [],
   "source": []
  },
  {
   "cell_type": "code",
   "execution_count": null,
   "metadata": {},
   "outputs": [],
   "source": []
  },
  {
   "cell_type": "code",
   "execution_count": null,
   "metadata": {},
   "outputs": [],
   "source": []
  },
  {
   "cell_type": "code",
   "execution_count": null,
   "metadata": {},
   "outputs": [],
   "source": []
  },
  {
   "cell_type": "code",
   "execution_count": null,
   "metadata": {},
   "outputs": [],
   "source": []
  },
  {
   "cell_type": "code",
   "execution_count": null,
   "metadata": {},
   "outputs": [],
   "source": []
  },
  {
   "cell_type": "code",
   "execution_count": 57,
   "metadata": {},
   "outputs": [
    {
     "data": {
      "image/png": "[encoded data removed]",
      "text/plain": [
       "<Figure size 432x288 with 1 Axes>"
      ]
     },
     "metadata": {
      "needs_background": "light"
     },
     "output_type": "display_data"
    }
   ],
   "source": [
    "df[\"stdvs_unique_words_above_mean\"].hist()\n",
    "plt.show()"
   ]
  },
  {
   "cell_type": "code",
   "execution_count": 58,
   "metadata": {},
   "outputs": [],
   "source": [
    "df[\"stdvs_unique_words_above_mean\"] = df[\"stdvs_unique_words_above_mean\"].apply(lambda x: round(x))"
   ]
  },
  {
   "cell_type": "code",
   "execution_count": 59,
   "metadata": {},
   "outputs": [
    {
     "data": {
      "image/png": "[encoded data removed]",
      "text/plain": [
       "<Figure size 432x288 with 1 Axes>"
      ]
     },
     "metadata": {
      "needs_background": "light"
     },
     "output_type": "display_data"
    }
   ],
   "source": [
    "df[\"stdvs_unique_words_above_mean\"].hist()\n",
    "plt.show()"
   ]
  },
  {
   "cell_type": "code",
   "execution_count": 60,
   "metadata": {},
   "outputs": [],
   "source": [
    "df[\"stdvs_unique_words_above_mean\"] = df[\"stdvs_unique_words_above_mean\"].apply(lambda x: str(round(x)))"
   ]
  },
  {
   "cell_type": "code",
   "execution_count": 61,
   "metadata": {},
   "outputs": [],
   "source": [
    "df[\"FK_read_level_mean_char\"] = df[\"FK_read_level_mean_char\"].apply(lambda x: str(round(x)))\n",
    "df[\"stdvs_n_stop_words_above_mean\"] = df[\"stdvs_n_stop_words_above_mean\"].apply(lambda x: str(round(x)))\n",
    "df[\"stdvs_n_curse_words_above_mean\"] = df[\"stdvs_n_curse_words_above_mean\"].apply(lambda x: str(round(x)))\n",
    "df[\"stdvs_n_mentions_others_above_mean\"] = df[\"stdvs_n_mentions_others_above_mean\"].apply(lambda x: str(round(x)))"
   ]
  },
  {
   "cell_type": "code",
   "execution_count": 62,
   "metadata": {},
   "outputs": [
    {
     "data": {
      "image/png": "[encoded data removed]",
      "text/plain": [
       "<Figure size 432x288 with 1 Axes>"
      ]
     },
     "metadata": {
      "needs_background": "light"
     },
     "output_type": "display_data"
    }
   ],
   "source": [
    "df[\"main_char_rel_diag_length\"].hist()\n",
    "plt.show()"
   ]
  },
  {
   "cell_type": "code",
   "execution_count": 63,
   "metadata": {},
   "outputs": [],
   "source": [
    "X = df.drop([\"Success\", \"Processed Title\"], axis=1)\n",
    "X = pd.get_dummies(X)\n",
    "y = df[\"Success\"]\n",
    "X_train, X_test, y_train, y_test = train_test_split(X, y, test_size=0.2, random_state=0, stratify = y)"
   ]
  },
  {
   "cell_type": "code",
   "execution_count": 39,
   "metadata": {},
   "outputs": [
    {
     "data": {
      "text/plain": [
       "1    108\n",
       "0     23\n",
       "Name: Success, dtype: int64"
      ]
     },
     "execution_count": 39,
     "metadata": {},
     "output_type": "execute_result"
    }
   ],
   "source": [
    "y_test.value_counts()"
   ]
  },
  {
   "cell_type": "code",
   "execution_count": 40,
   "metadata": {},
   "outputs": [
    {
     "data": {
      "text/plain": [
       "0.824"
      ]
     },
     "execution_count": 40,
     "metadata": {},
     "output_type": "execute_result"
    }
   ],
   "source": [
    "0.824"
   ]
  },
  {
   "cell_type": "code",
   "execution_count": 65,
   "metadata": {},
   "outputs": [
    {
     "data": {
      "text/plain": [
       "0.7175572519083969"
      ]
     },
     "execution_count": 65,
     "metadata": {},
     "output_type": "execute_result"
    }
   ],
   "source": [
    "rf = RandomForestClassifier()\n",
    "rf.fit(X_train, y_train)\n",
    "rf.score(X_test, y_test)"
   ]
  },
  {
   "cell_type": "code",
   "execution_count": 66,
   "metadata": {},
   "outputs": [
    {
     "data": {
      "text/plain": [
       "array([1, 1, 1, 1, 1, 1, 1, 1, 1, 1, 1, 1, 1, 1, 1, 1, 1, 1, 1, 1, 1, 1,\n",
       "       1, 1, 0, 1, 1, 1, 1, 1, 1, 1, 1, 1, 1, 0, 1, 1, 0, 1, 1, 1, 1, 1,\n",
       "       1, 1, 1, 1, 1, 1, 1, 1, 1, 1, 1, 1, 1, 1, 1, 1, 0, 1, 1, 1, 1, 1,\n",
       "       1, 1, 0, 1, 1, 1, 1, 1, 1, 1, 1, 1, 1, 1, 1, 0, 1, 0, 0, 1, 1, 1,\n",
       "       1, 1, 1, 1, 1, 0, 1, 0, 1, 0, 1, 1, 1, 0, 1, 1, 1, 1, 1, 1, 1, 0,\n",
       "       1, 1, 1, 1, 1, 0, 1, 1, 1, 1, 1, 1, 1, 1, 1, 1, 1, 1, 1, 0, 0])"
      ]
     },
     "execution_count": 66,
     "metadata": {},
     "output_type": "execute_result"
    }
   ],
   "source": [
    "rf.predict(X_test)"
   ]
  },
  {
   "cell_type": "code",
   "execution_count": 67,
   "metadata": {},
   "outputs": [
    {
     "data": {
      "text/plain": [
       "0.9865900383141762"
      ]
     },
     "execution_count": 67,
     "metadata": {},
     "output_type": "execute_result"
    }
   ],
   "source": [
    "rf.score(X_train, y_train)"
   ]
  },
  {
   "cell_type": "code",
   "execution_count": 68,
   "metadata": {},
   "outputs": [
    {
     "data": {
      "text/plain": [
       "0.8244274809160306"
      ]
     },
     "execution_count": 68,
     "metadata": {},
     "output_type": "execute_result"
    }
   ],
   "source": [
    "logreg = LogisticRegression()\n",
    "logreg.fit(X_train, y_train)\n",
    "logreg.score(X_test, y_test)"
   ]
  },
  {
   "cell_type": "code",
   "execution_count": 69,
   "metadata": {},
   "outputs": [
    {
     "data": {
      "text/plain": [
       "0.8275862068965517"
      ]
     },
     "execution_count": 69,
     "metadata": {},
     "output_type": "execute_result"
    }
   ],
   "source": [
    "logreg.score(X_train, y_train)"
   ]
  },
  {
   "cell_type": "code",
   "execution_count": 70,
   "metadata": {},
   "outputs": [
    {
     "data": {
      "text/plain": [
       "0.8244274809160306"
      ]
     },
     "execution_count": 70,
     "metadata": {},
     "output_type": "execute_result"
    }
   ],
   "source": [
    "svm = SVC()\n",
    "svm.fit(X_train, y_train)\n",
    "svm.score(X_test, y_test)"
   ]
  },
  {
   "cell_type": "code",
   "execution_count": 71,
   "metadata": {},
   "outputs": [
    {
     "data": {
      "text/plain": [
       "0.8275862068965517"
      ]
     },
     "execution_count": 71,
     "metadata": {},
     "output_type": "execute_result"
    }
   ],
   "source": [
    "svm.score(X_train, y_train)"
   ]
  },
  {
   "cell_type": "code",
   "execution_count": 72,
   "metadata": {},
   "outputs": [
    {
     "data": {
      "text/plain": [
       "0.8091603053435115"
      ]
     },
     "execution_count": 72,
     "metadata": {},
     "output_type": "execute_result"
    }
   ],
   "source": [
    "knn = KNeighborsClassifier()\n",
    "knn.fit(X_train, y_train)\n",
    "knn.score(X_test, y_test)"
   ]
  },
  {
   "cell_type": "code",
   "execution_count": 73,
   "metadata": {},
   "outputs": [
    {
     "data": {
      "text/plain": [
       "array([1, 1, 1, 1, 1, 1, 1, 1, 1, 1, 1, 1, 1, 1, 1, 1, 1, 1, 1, 1, 1, 1,\n",
       "       1, 0, 1, 1, 1, 1, 1, 1, 1, 1, 1, 1, 1, 1, 1, 1, 0, 1, 1, 1, 1, 1,\n",
       "       1, 1, 1, 1, 1, 1, 1, 1, 1, 1, 1, 1, 1, 1, 1, 1, 1, 1, 1, 1, 1, 1,\n",
       "       1, 1, 1, 1, 1, 1, 1, 1, 1, 1, 1, 1, 1, 1, 1, 1, 1, 1, 0, 1, 1, 1,\n",
       "       1, 1, 1, 1, 1, 1, 1, 1, 1, 1, 1, 1, 1, 1, 1, 1, 1, 1, 1, 1, 1, 1,\n",
       "       1, 1, 1, 1, 0, 1, 1, 1, 1, 1, 1, 1, 1, 1, 1, 1, 1, 1, 1, 1, 1])"
      ]
     },
     "execution_count": 73,
     "metadata": {},
     "output_type": "execute_result"
    }
   ],
   "source": [
    "knn.predict(X_test)"
   ]
  },
  {
   "cell_type": "code",
   "execution_count": null,
   "metadata": {},
   "outputs": [],
   "source": []
  }
 ],
 "metadata": {
  "kernelspec": {
   "display_name": "Python 3",
   "language": "python",
   "name": "python3"
  },
  "language_info": {
   "codemirror_mode": {
    "name": "ipython",
    "version": 3
   },
   "file_extension": ".py",
   "mimetype": "text/x-python",
   "name": "python",
   "nbconvert_exporter": "python",
   "pygments_lexer": "ipython3",
   "version": "3.7.3"
  }
 },
 "nbformat": 4,
 "nbformat_minor": 2
}
