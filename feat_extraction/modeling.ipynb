{
 "cells": [
  {
   "cell_type": "code",
   "execution_count": 55,
   "metadata": {},
   "outputs": [],
   "source": [
    "from sklearn.model_selection import train_test_split\n",
    "import pandas as pd\n",
    "from sklearn.ensemble import RandomForestClassifier\n",
    "import matplotlib.pyplot as plt\n",
    "from sklearn.linear_model import LogisticRegression\n",
    "from sklearn.svm import SVC\n",
    "from sklearn.neighbors import KNeighborsClassifier"
   ]
  },
  {
   "cell_type": "code",
   "execution_count": 56,
   "metadata": {},
   "outputs": [
    {
     "data": {
      "text/html": [
       "<div>\n",
       "<style scoped>\n",
       "    .dataframe tbody tr th:only-of-type {\n",
       "        vertical-align: middle;\n",
       "    }\n",
       "\n",
       "    .dataframe tbody tr th {\n",
       "        vertical-align: top;\n",
       "    }\n",
       "\n",
       "    .dataframe thead th {\n",
       "        text-align: right;\n",
       "    }\n",
       "</style>\n",
       "<table border=\"1\" class=\"dataframe\">\n",
       "  <thead>\n",
       "    <tr style=\"text-align: right;\">\n",
       "      <th></th>\n",
       "      <th>Processed Title</th>\n",
       "      <th>Success</th>\n",
       "      <th>main_char_rel_diag_length</th>\n",
       "      <th>stdvs_unique_words_above_mean</th>\n",
       "      <th>FK_read_level_mean_char</th>\n",
       "      <th>stdvs_n_stop_words_above_mean</th>\n",
       "      <th>stdvs_n_curse_words_above_mean</th>\n",
       "      <th>stdvs_n_mentions_others_above_mean</th>\n",
       "    </tr>\n",
       "  </thead>\n",
       "  <tbody>\n",
       "    <tr>\n",
       "      <th>Avatar</th>\n",
       "      <td>Avatar</td>\n",
       "      <td>1</td>\n",
       "      <td>39.537232</td>\n",
       "      <td>-0.090538</td>\n",
       "      <td>2.4</td>\n",
       "      <td>0.063141</td>\n",
       "      <td>0.106202</td>\n",
       "      <td>-0.541956</td>\n",
       "    </tr>\n",
       "    <tr>\n",
       "      <th>The Dark Knight Rises</th>\n",
       "      <td>Dark-Knight-Rises,-The</td>\n",
       "      <td>1</td>\n",
       "      <td>23.705825</td>\n",
       "      <td>0.255438</td>\n",
       "      <td>2.2</td>\n",
       "      <td>0.789323</td>\n",
       "      <td>-0.686754</td>\n",
       "      <td>-0.176310</td>\n",
       "    </tr>\n",
       "    <tr>\n",
       "      <th>The Avengers</th>\n",
       "      <td>Avengers,-The</td>\n",
       "      <td>1</td>\n",
       "      <td>30.146047</td>\n",
       "      <td>-0.118151</td>\n",
       "      <td>3.0</td>\n",
       "      <td>-0.004098</td>\n",
       "      <td>-0.709410</td>\n",
       "      <td>-0.438622</td>\n",
       "    </tr>\n",
       "    <tr>\n",
       "      <th>Pirates of the Caribbean: Dead Man's Chest</th>\n",
       "      <td>Pirates-of-the-Caribbean-Dead-Man's-Chest</td>\n",
       "      <td>1</td>\n",
       "      <td>36.743621</td>\n",
       "      <td>-0.481995</td>\n",
       "      <td>1.8</td>\n",
       "      <td>-0.057889</td>\n",
       "      <td>-0.732066</td>\n",
       "      <td>-0.867858</td>\n",
       "    </tr>\n",
       "    <tr>\n",
       "      <th>Men in Black 3</th>\n",
       "      <td>Men-in-Black-3</td>\n",
       "      <td>1</td>\n",
       "      <td>57.328163</td>\n",
       "      <td>0.742729</td>\n",
       "      <td>2.8</td>\n",
       "      <td>0.533814</td>\n",
       "      <td>-0.437539</td>\n",
       "      <td>1.349863</td>\n",
       "    </tr>\n",
       "  </tbody>\n",
       "</table>\n",
       "</div>"
      ],
      "text/plain": [
       "                                                                      Processed Title  \\\n",
       "Avatar                                                                         Avatar   \n",
       "The Dark Knight Rises                                          Dark-Knight-Rises,-The   \n",
       "The Avengers                                                            Avengers,-The   \n",
       "Pirates of the Caribbean: Dead Man's Chest  Pirates-of-the-Caribbean-Dead-Man's-Chest   \n",
       "Men in Black 3                                                         Men-in-Black-3   \n",
       "\n",
       "                                            Success  \\\n",
       "Avatar                                            1   \n",
       "The Dark Knight Rises                             1   \n",
       "The Avengers                                      1   \n",
       "Pirates of the Caribbean: Dead Man's Chest        1   \n",
       "Men in Black 3                                    1   \n",
       "\n",
       "                                            main_char_rel_diag_length  \\\n",
       "Avatar                                                      39.537232   \n",
       "The Dark Knight Rises                                       23.705825   \n",
       "The Avengers                                                30.146047   \n",
       "Pirates of the Caribbean: Dead Man's Chest                  36.743621   \n",
       "Men in Black 3                                              57.328163   \n",
       "\n",
       "                                            stdvs_unique_words_above_mean  \\\n",
       "Avatar                                                          -0.090538   \n",
       "The Dark Knight Rises                                            0.255438   \n",
       "The Avengers                                                    -0.118151   \n",
       "Pirates of the Caribbean: Dead Man's Chest                      -0.481995   \n",
       "Men in Black 3                                                   0.742729   \n",
       "\n",
       "                                            FK_read_level_mean_char  \\\n",
       "Avatar                                                          2.4   \n",
       "The Dark Knight Rises                                           2.2   \n",
       "The Avengers                                                    3.0   \n",
       "Pirates of the Caribbean: Dead Man's Chest                      1.8   \n",
       "Men in Black 3                                                  2.8   \n",
       "\n",
       "                                            stdvs_n_stop_words_above_mean  \\\n",
       "Avatar                                                           0.063141   \n",
       "The Dark Knight Rises                                            0.789323   \n",
       "The Avengers                                                    -0.004098   \n",
       "Pirates of the Caribbean: Dead Man's Chest                      -0.057889   \n",
       "Men in Black 3                                                   0.533814   \n",
       "\n",
       "                                            stdvs_n_curse_words_above_mean  \\\n",
       "Avatar                                                            0.106202   \n",
       "The Dark Knight Rises                                            -0.686754   \n",
       "The Avengers                                                     -0.709410   \n",
       "Pirates of the Caribbean: Dead Man's Chest                       -0.732066   \n",
       "Men in Black 3                                                   -0.437539   \n",
       "\n",
       "                                            stdvs_n_mentions_others_above_mean  \n",
       "Avatar                                                               -0.541956  \n",
       "The Dark Knight Rises                                                -0.176310  \n",
       "The Avengers                                                         -0.438622  \n",
       "Pirates of the Caribbean: Dead Man's Chest                           -0.867858  \n",
       "Men in Black 3                                                        1.349863  "
      ]
     },
     "execution_count": 56,
     "metadata": {},
     "output_type": "execute_result"
    }
   ],
   "source": [
    "df = pd.read_csv(\"movies_with_agg_feats.csv\", index_col=0)\n",
    "df.head()"
   ]
  },
  {
   "cell_type": "code",
   "execution_count": 57,
   "metadata": {},
   "outputs": [
    {
     "data": {
      "image/png": "[encoded data removed]",
      "text/plain": [
       "<Figure size 432x288 with 1 Axes>"
      ]
     },
     "metadata": {
      "needs_background": "light"
     },
     "output_type": "display_data"
    }
   ],
   "source": [
    "df[\"stdvs_unique_words_above_mean\"].hist()\n",
    "plt.show()"
   ]
  },
  {
   "cell_type": "code",
   "execution_count": 58,
   "metadata": {},
   "outputs": [],
   "source": [
    "df[\"stdvs_unique_words_above_mean\"] = df[\"stdvs_unique_words_above_mean\"].apply(lambda x: round(x))"
   ]
  },
  {
   "cell_type": "code",
   "execution_count": 59,
   "metadata": {},
   "outputs": [
    {
     "data": {
      "image/png": "[encoded data removed]",
      "text/plain": [
       "<Figure size 432x288 with 1 Axes>"
      ]
     },
     "metadata": {
      "needs_background": "light"
     },
     "output_type": "display_data"
    }
   ],
   "source": [
    "df[\"stdvs_unique_words_above_mean\"].hist()\n",
    "plt.show()"
   ]
  },
  {
   "cell_type": "code",
   "execution_count": 60,
   "metadata": {},
   "outputs": [],
   "source": [
    "df[\"stdvs_unique_words_above_mean\"] = df[\"stdvs_unique_words_above_mean\"].apply(lambda x: str(round(x)))"
   ]
  },
  {
   "cell_type": "code",
   "execution_count": 61,
   "metadata": {},
   "outputs": [],
   "source": [
    "df[\"FK_read_level_mean_char\"] = df[\"FK_read_level_mean_char\"].apply(lambda x: str(round(x)))\n",
    "df[\"stdvs_n_stop_words_above_mean\"] = df[\"stdvs_n_stop_words_above_mean\"].apply(lambda x: str(round(x)))\n",
    "df[\"stdvs_n_curse_words_above_mean\"] = df[\"stdvs_n_curse_words_above_mean\"].apply(lambda x: str(round(x)))\n",
    "df[\"stdvs_n_mentions_others_above_mean\"] = df[\"stdvs_n_mentions_others_above_mean\"].apply(lambda x: str(round(x)))"
   ]
  },
  {
   "cell_type": "code",
   "execution_count": 62,
   "metadata": {},
   "outputs": [
    {
     "data": {
      "image/png": "[encoded data removed]",
      "text/plain": [
       "<Figure size 432x288 with 1 Axes>"
      ]
     },
     "metadata": {
      "needs_background": "light"
     },
     "output_type": "display_data"
    }
   ],
   "source": [
    "df[\"main_char_rel_diag_length\"].hist()\n",
    "plt.show()"
   ]
  },
  {
   "cell_type": "code",
   "execution_count": 63,
   "metadata": {},
   "outputs": [],
   "source": [
    "X = df.drop([\"Success\", \"Processed Title\"], axis=1)\n",
    "X = pd.get_dummies(X)\n",
    "y = df[\"Success\"]\n",
    "X_train, X_test, y_train, y_test = train_test_split(X, y, test_size=0.2, random_state=0, stratify = y)"
   ]
  },
  {
   "cell_type": "code",
   "execution_count": 39,
   "metadata": {},
   "outputs": [
    {
     "data": {
      "text/plain": [
       "1    108\n",
       "0     23\n",
       "Name: Success, dtype: int64"
      ]
     },
     "execution_count": 39,
     "metadata": {},
     "output_type": "execute_result"
    }
   ],
   "source": [
    "y_test.value_counts()"
   ]
  },
  {
   "cell_type": "code",
   "execution_count": 40,
   "metadata": {},
   "outputs": [
    {
     "data": {
      "text/plain": [
       "0.824"
      ]
     },
     "execution_count": 40,
     "metadata": {},
     "output_type": "execute_result"
    }
   ],
   "source": [
    "0.824"
   ]
  },
  {
   "cell_type": "code",
   "execution_count": 65,
   "metadata": {},
   "outputs": [
    {
     "data": {
      "text/plain": [
       "0.7175572519083969"
      ]
     },
     "execution_count": 65,
     "metadata": {},
     "output_type": "execute_result"
    }
   ],
   "source": [
    "rf = RandomForestClassifier()\n",
    "rf.fit(X_train, y_train)\n",
    "rf.score(X_test, y_test)"
   ]
  },
  {
   "cell_type": "code",
   "execution_count": 66,
   "metadata": {},
   "outputs": [
    {
     "data": {
      "text/plain": [
       "array([1, 1, 1, 1, 1, 1, 1, 1, 1, 1, 1, 1, 1, 1, 1, 1, 1, 1, 1, 1, 1, 1,\n",
       "       1, 1, 0, 1, 1, 1, 1, 1, 1, 1, 1, 1, 1, 0, 1, 1, 0, 1, 1, 1, 1, 1,\n",
       "       1, 1, 1, 1, 1, 1, 1, 1, 1, 1, 1, 1, 1, 1, 1, 1, 0, 1, 1, 1, 1, 1,\n",
       "       1, 1, 0, 1, 1, 1, 1, 1, 1, 1, 1, 1, 1, 1, 1, 0, 1, 0, 0, 1, 1, 1,\n",
       "       1, 1, 1, 1, 1, 0, 1, 0, 1, 0, 1, 1, 1, 0, 1, 1, 1, 1, 1, 1, 1, 0,\n",
       "       1, 1, 1, 1, 1, 0, 1, 1, 1, 1, 1, 1, 1, 1, 1, 1, 1, 1, 1, 0, 0])"
      ]
     },
     "execution_count": 66,
     "metadata": {},
     "output_type": "execute_result"
    }
   ],
   "source": [
    "rf.predict(X_test)"
   ]
  },
  {
   "cell_type": "code",
   "execution_count": 67,
   "metadata": {},
   "outputs": [
    {
     "data": {
      "text/plain": [
       "0.9865900383141762"
      ]
     },
     "execution_count": 67,
     "metadata": {},
     "output_type": "execute_result"
    }
   ],
   "source": [
    "rf.score(X_train, y_train)"
   ]
  },
  {
   "cell_type": "code",
   "execution_count": 68,
   "metadata": {},
   "outputs": [
    {
     "data": {
      "text/plain": [
       "0.8244274809160306"
      ]
     },
     "execution_count": 68,
     "metadata": {},
     "output_type": "execute_result"
    }
   ],
   "source": [
    "logreg = LogisticRegression()\n",
    "logreg.fit(X_train, y_train)\n",
    "logreg.score(X_test, y_test)"
   ]
  },
  {
   "cell_type": "code",
   "execution_count": 69,
   "metadata": {},
   "outputs": [
    {
     "data": {
      "text/plain": [
       "0.8275862068965517"
      ]
     },
     "execution_count": 69,
     "metadata": {},
     "output_type": "execute_result"
    }
   ],
   "source": [
    "logreg.score(X_train, y_train)"
   ]
  },
  {
   "cell_type": "code",
   "execution_count": 70,
   "metadata": {},
   "outputs": [
    {
     "data": {
      "text/plain": [
       "0.8244274809160306"
      ]
     },
     "execution_count": 70,
     "metadata": {},
     "output_type": "execute_result"
    }
   ],
   "source": [
    "svm = SVC()\n",
    "svm.fit(X_train, y_train)\n",
    "svm.score(X_test, y_test)"
   ]
  },
  {
   "cell_type": "code",
   "execution_count": 71,
   "metadata": {},
   "outputs": [
    {
     "data": {
      "text/plain": [
       "0.8275862068965517"
      ]
     },
     "execution_count": 71,
     "metadata": {},
     "output_type": "execute_result"
    }
   ],
   "source": [
    "svm.score(X_train, y_train)"
   ]
  },
  {
   "cell_type": "code",
   "execution_count": 72,
   "metadata": {},
   "outputs": [
    {
     "data": {
      "text/plain": [
       "0.8091603053435115"
      ]
     },
     "execution_count": 72,
     "metadata": {},
     "output_type": "execute_result"
    }
   ],
   "source": [
    "knn = KNeighborsClassifier()\n",
    "knn.fit(X_train, y_train)\n",
    "knn.score(X_test, y_test)"
   ]
  },
  {
   "cell_type": "code",
   "execution_count": 73,
   "metadata": {},
   "outputs": [
    {
     "data": {
      "text/plain": [
       "array([1, 1, 1, 1, 1, 1, 1, 1, 1, 1, 1, 1, 1, 1, 1, 1, 1, 1, 1, 1, 1, 1,\n",
       "       1, 0, 1, 1, 1, 1, 1, 1, 1, 1, 1, 1, 1, 1, 1, 1, 0, 1, 1, 1, 1, 1,\n",
       "       1, 1, 1, 1, 1, 1, 1, 1, 1, 1, 1, 1, 1, 1, 1, 1, 1, 1, 1, 1, 1, 1,\n",
       "       1, 1, 1, 1, 1, 1, 1, 1, 1, 1, 1, 1, 1, 1, 1, 1, 1, 1, 0, 1, 1, 1,\n",
       "       1, 1, 1, 1, 1, 1, 1, 1, 1, 1, 1, 1, 1, 1, 1, 1, 1, 1, 1, 1, 1, 1,\n",
       "       1, 1, 1, 1, 0, 1, 1, 1, 1, 1, 1, 1, 1, 1, 1, 1, 1, 1, 1, 1, 1])"
      ]
     },
     "execution_count": 73,
     "metadata": {},
     "output_type": "execute_result"
    }
   ],
   "source": [
    "knn.predict(X_test)"
   ]
  },
  {
   "cell_type": "code",
   "execution_count": null,
   "metadata": {},
   "outputs": [],
   "source": []
  }
 ],
 "metadata": {
  "kernelspec": {
   "display_name": "Python 3",
   "language": "python",
   "name": "python3"
  },
  "language_info": {
   "codemirror_mode": {
    "name": "ipython",
    "version": 2
   },
   "file_extension": ".py",
   "mimetype": "text/x-python",
   "name": "python",
   "nbconvert_exporter": "python",
   "pygments_lexer": "ipython2",
   "version": "2.7.15"
  }
 },
 "nbformat": 4,
 "nbformat_minor": 2
}
