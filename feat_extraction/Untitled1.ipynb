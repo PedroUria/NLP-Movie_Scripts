{
 "cells": [
  {
   "cell_type": "code",
   "execution_count": 1,
   "metadata": {},
   "outputs": [],
   "source": [
    "# k-medoid time, buddy! \n",
    "# ALSO... PAM, partitioning around medoids clustering"
   ]
  },
  {
   "cell_type": "code",
   "execution_count": null,
   "metadata": {},
   "outputs": [],
   "source": [
    "# big difference between k-means is the CENTER must be a real object \n",
    "\n",
    "# which fixes k-means' sensitivity to noise.. i.e. center wont' be pulled towards noise...\n",
    "\n"
   ]
  },
  {
   "cell_type": "code",
   "execution_count": null,
   "metadata": {},
   "outputs": [],
   "source": [
    "# input, D (the dataset), k, the # of clusters \n",
    "\n",
    "####### STEPS \n",
    "\n",
    "# 1: Abritrarily choose k objects in D as initial  representative objects \n",
    "\n",
    "# #2: Repeat:\n",
    "    \n",
    "    #  assign each reamining object to the cluster with nearest representative object\n",
    "    #  randomly select a non-represntative object o_random\n",
    "    #  compute the total cost, S, of swapping representative object oj with o_random \n",
    "    # if S < 0, then swap oj with o_random to form new set of k-representative objects\n",
    "\n",
    "# 3: UNTIL: no change\n"
   ]
  },
  {
   "cell_type": "code",
   "execution_count": null,
   "metadata": {},
   "outputs": [],
   "source": [
    "# computationally, it's very expensive IT'S EVEN WORSE than \n",
    "# dbscan... well... DAYUM, son! "
   ]
  },
  {
   "cell_type": "code",
   "execution_count": 2,
   "metadata": {},
   "outputs": [],
   "source": [
    "# so let's select some representative objects..... \n",
    "\n",
    "# then we need to assign each OTHER point to one of those representative objects"
   ]
  },
  {
   "cell_type": "code",
   "execution_count": 3,
   "metadata": {},
   "outputs": [],
   "source": [
    "#so.... now he gets into the COST..... which he ties to the distance between points in the cluster? \n",
    "\n",
    "# i.e. the distance from each non-representative TO ITS CORRESOPNDING representative.... \n",
    "# so the sum??? \n",
    "\n",
    "\n",
    "# so he's doingn pairwise distance between onrepresentative and representatives... \n",
    "\n",
    "# \n",
    "# ok he does it ( for one cluster):    distance between o and o1,???\n",
    "\n",
    "\n",
    "# it's the summation of that distance for all clsuters... so no average.... \n",
    "\n",
    "# ok anyway we get the cost... we want to reduce it.... \n",
    "\n",
    "# this essentially happens in k-means, too... "
   ]
  },
  {
   "cell_type": "code",
   "execution_count": 4,
   "metadata": {},
   "outputs": [],
   "source": [
    "# oh, wow, so it looks like you only change one of the points, the non-represenative objects at a time... \n",
    "\n",
    "# not 3.... so right NOW..... it's just at random.... oh...s heez and you have to think WHICH OF YOUR REPRESENTATIVE OINTS DO YOU REPLACE... \n",
    "\n",
    "# what happens when you change a representative with a non-represenatative\n",
    "\n",
    "# the cluster it's from will change... \n",
    "\n",
    "# but will the OTHER clusters change as well??? "
   ]
  },
  {
   "cell_type": "code",
   "execution_count": 5,
   "metadata": {},
   "outputs": [],
   "source": [
    "\n",
    "# the question we need to answer is.... we have D memberships, \n",
    "# for each such potential change we will be guided by S.... \n",
    "\n",
    "# we haven't done that yet... \n",
    "\n",
    "# need to look at EVERY object and decide... do we KEEP the original center \n",
    "\n",
    "# or do we want to have a NEW representative object.... \n",
    "\n",
    "# the answer is guided by the distance: if the NEW distance is less than what you have you will re-assign the representative time... \n",
    "\n",
    "\n",
    "# you now see the complexity..... \n",
    "\n",
    "\n",
    "# he now says that that cost is S_i+1      - si  < 0 \n",
    "\n",
    "# so if that' sture we make the swap.... \n",
    "\n",
    "# \n"
   ]
  },
  {
   "cell_type": "code",
   "execution_count": null,
   "metadata": {},
   "outputs": [],
   "source": [
    "# there are some variations to this: maybe I will do better if I swap representative objecs with each other??? what??? if we DON'T do that it isn't wrong.... \n",
    "# you might be able to take cost down when you take the next step... \n",
    "\n",
    "# next step is to pick another non-representative \n",
    "\n",
    "# is it the best clusteirng??? well... no, you need a super computer\n",
    "# but this is a ddecent heureistic... \n",
    "\n",
    "# IDEALLYU you would find the BEST centroids.... \n",
    "# it will come with minimum distance.... "
   ]
  }
 ],
 "metadata": {
  "kernelspec": {
   "display_name": "Python 3",
   "language": "python",
   "name": "python3"
  },
  "language_info": {
   "codemirror_mode": {
    "name": "ipython",
    "version": 3
   },
   "file_extension": ".py",
   "mimetype": "text/x-python",
   "name": "python",
   "nbconvert_exporter": "python",
   "pygments_lexer": "ipython3",
   "version": "3.6.5"
  }
 },
 "nbformat": 4,
 "nbformat_minor": 2
}
