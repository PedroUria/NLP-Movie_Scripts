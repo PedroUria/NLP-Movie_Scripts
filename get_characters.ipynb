{
 "cells": [
  {
   "cell_type": "code",
   "execution_count": 42,
   "metadata": {},
   "outputs": [],
   "source": [
    "import os\n",
    "import operator\n",
    "\n",
    "with open(os.getcwd() + \"/scripts/\" + \"Thor-Ragnarok_script.txt\", \"r\") as s:\n",
    "    thor = s.read()"
   ]
  },
  {
   "cell_type": "code",
   "execution_count": 43,
   "metadata": {},
   "outputs": [
    {
     "name": "stdout",
     "output_type": "stream",
     "text": [
      "\n",
      "\n",
      "\n",
      "                               THOR: RAGNAROK\n",
      "\n",
      "\n",
      "\n",
      "\n",
      "                                 Written by\n",
      "\n",
      "             Eric Pearson and Craig Kyle &amp; Christopher L. Yost\n",
      "\n",
      "\n",
      "\n",
      "\n",
      "\n",
      "\n",
      "\n",
      " 1    OMITTED                                                         1\n",
      "\n",
      "A2   OMITTED                                           \n",
      "\n",
      "**************************************************\n",
      "\n"
     ]
    },
    {
     "data": {
      "text/plain": [
       "\"\\n\\n\\n                               THOR: RAGNAROK\\n\\n\\n\\n\\n                                 Written by\\n\\n             Eric Pearson and Craig Kyle &amp; Christopher L. Yost\\n\\n\\n\\n\\n\\n\\n\\n 1    OMITTED                                                         1\\n\\nA2   OMITTED                                                         A2\\n\\nA3   THE MARVEL LOGO. SMOLDERING, BEGINNING TO TURN ORANGE IN THE    A3\\n     HEAT AS WE TILT UP TO SEE-\\n\\n     -FIRE.    NOTHING BUT FIRE.\\n\\n2    INT. TIGHT SPACE - INDETERMINATE TIME                           2\\n\\n     Dark and cramped. The soft red light of fire seeps through\\n     iron slats. Inside this cage is a man, bound by chains.\\n\\n     It's THOR. His beard is long and his clothes are worn. That\\n     rough, grizzled look of a man who's spent years on the road.\\n\\n     He awakens with a JOLT.   Looks around.\\n\\n                           THOR\\n                 Now I know what you're thinking.\\n                 Oh no! Thor's in a cage. How did\\n                 this happen?\\n                     (then:)\\n                 Well, sometimes you have to get\\n                 captured just to get a straight\\n                 answer out of somebody. It's a long\\n                 story but basically I'm a bit of a\\n                 hero. See, I spent some time on\\n                 earth, fought some robots, saved\\n                 the planet a couple of times. Then\\n                 I went searching through the cosmos\\n                 for some magic, colorful Infinity\\n                 Stone things... didn't find any.\\n                 That's when I came across a path of\\n                 death and destruction which led me\\n                 all the way here into this cage...\\n                 where I met you.\\n\\n     Reveal that he's talking to a weird alien skeleton in chains.\\n\\n                           THOR (CONT'D)\\n                 How much longer do you think we'll\\n                 be here?\\n\\n     NOISE.    Sounds of metal gears TURNING.\\n\\n     Suddenly the bottom DROPS OUT! Thor \""
      ]
     },
     "execution_count": 43,
     "metadata": {},
     "output_type": "execute_result"
    }
   ],
   "source": [
    "print(thor[:300])\n",
    "print(\"\\n\" + \"*\"*50 + \"\\n\")\n",
    "thor[:2000]"
   ]
  },
  {
   "cell_type": "code",
   "execution_count": 44,
   "metadata": {},
   "outputs": [
    {
     "data": {
      "text/plain": [
       "[(0, 2335),\n",
       " (15, 437),\n",
       " (20, 426),\n",
       " (16, 375),\n",
       " (14, 318),\n",
       " (21, 313),\n",
       " (13, 241),\n",
       " (10, 229),\n",
       " (17, 228),\n",
       " (11, 227)]"
      ]
     },
     "execution_count": 44,
     "metadata": {},
     "output_type": "execute_result"
    }
   ],
   "source": [
    "# Gets the frecuency of appearance of spaces at the beginning\n",
    "# (0, 2335) means that 2335 lines begin with 0 spaces\n",
    "line_space_freq = {}\n",
    "for line in thor.split(\"\\n\"):\n",
    "    key = line.count(\" \")\n",
    "    if key not in line_space_freq:\n",
    "        line_space_freq[key] = 1\n",
    "    else:\n",
    "        line_space_freq[key] += 1\n",
    "sorted_line_space_freq = sorted(line_space_freq.items(), key=operator.itemgetter(1), reverse=True)\n",
    "sorted_line_space_freq[:10]"
   ]
  },
  {
   "cell_type": "markdown",
   "metadata": {},
   "source": [
    "0 corresponds to screen-play and randoms `\"\"`. 1 to 5 or so corresponds also to screen-play. Below 17 corresponds to character dialogue. Above corresponds to names and scenes and stuff introductions. Thus, a space of 10 to cut is OK, at least for this movie."
   ]
  },
  {
   "cell_type": "code",
   "execution_count": 45,
   "metadata": {},
   "outputs": [],
   "source": [
    "# Counts the frequency of every unique sentence that starts with more than 10 spaces\n",
    "# With the spaces before and after text removed, and also with \"(some_text)\" removed \n",
    "poss_char = {}\n",
    "for line in thor.split(\"\\n\"):\n",
    "    if line.count(\" \") > 10:  # Relative low space (this condition may not even be neccessary)\n",
    "        # Need to do some processing\n",
    "        key = line.strip(\" \").replace(line[line.find(\"(\"):line.find(\")\") + 1], \"\").strip(\" \")\n",
    "        if key:  # To omit \"\"\n",
    "            if key not in poss_char:\n",
    "                poss_char[key] = 1\n",
    "            else:\n",
    "                poss_char[key] += 1"
   ]
  },
  {
   "cell_type": "code",
   "execution_count": 46,
   "metadata": {},
   "outputs": [
    {
     "data": {
      "text/plain": [
       "[('THOR', 348),\n",
       " ('LOKI', 88),\n",
       " ('VALKYRIE', 71),\n",
       " ('BANNER', 64),\n",
       " ('HELA', 59),\n",
       " ('GRANDMASTER', 49),\n",
       " ('HULK', 42),\n",
       " ('KORG', 33),\n",
       " ('ODIN', 30),\n",
       " ('SKURGE', 19),\n",
       " ('HEIMDALL', 19),\n",
       " ('SURTUR', 14),\n",
       " ('SCRAPPER #142', 14),\n",
       " ('STRANGE', 13),\n",
       " ('ACTOR THOR', 12),\n",
       " ('ACTOR LOKI', 11),\n",
       " ('TOPAZ', 10),\n",
       " ('QUINJET', 9),\n",
       " ('SOOTHING VOICE', 8),\n",
       " ('DR. STRANGE', 7)]"
      ]
     },
     "execution_count": 46,
     "metadata": {},
     "output_type": "execute_result"
    }
   ],
   "source": [
    "# Gets sentences with more than 5 occurences (potential characters)\n",
    "sorted_poss_chars = sorted(poss_char.items(), key=operator.itemgetter(1), reverse=True)\n",
    "threshold = 5\n",
    "chars = []\n",
    "for char_tuple in sorted_poss_chars:\n",
    "    if char_tuple[1] > threshold:\n",
    "        chars.append(char_tuple)\n",
    "    else:\n",
    "        break\n",
    "chars"
   ]
  },
  {
   "cell_type": "markdown",
   "metadata": {},
   "source": [
    "#### **Idea**:\n",
    "\n",
    "This threshold (5 in this case) could be tuned using IMDb! We compare with the list of main characters listed on site, get the overall accuracy for all movies for different thresholds, and choose the threshold with the highest accuracy. \n",
    "\n",
    "*UPDATE*: Upon much thought, we will choose the characters with the most dialogue instead. TODO: Decide on the number of characters...."
   ]
  },
  {
   "cell_type": "markdown",
   "metadata": {},
   "source": [
    "Note: the `if line.count(\" \") > 10:` condition may not be needed, which would be great for those scripts that do not follow this format. See below:"
   ]
  },
  {
   "cell_type": "code",
   "execution_count": 47,
   "metadata": {},
   "outputs": [],
   "source": [
    "poss_char = {}\n",
    "for line in thor.split(\"\\n\"):\n",
    "    key = line.strip(\" \").replace(line[line.find(\"(\"):line.find(\")\") + 1], \"\").strip(\" \")\n",
    "    if key:\n",
    "        if key not in poss_char:\n",
    "            poss_char[key] = 1\n",
    "        else:\n",
    "            poss_char[key] += 1"
   ]
  },
  {
   "cell_type": "code",
   "execution_count": 48,
   "metadata": {},
   "outputs": [
    {
     "data": {
      "text/plain": [
       "[('THOR', 357),\n",
       " ('LOKI', 88),\n",
       " ('VALKYRIE', 71),\n",
       " ('BANNER', 67),\n",
       " ('HELA', 59),\n",
       " ('GRANDMASTER', 49),\n",
       " ('HULK', 42),\n",
       " ('KORG', 33),\n",
       " ('ODIN', 30),\n",
       " ('SKURGE', 19),\n",
       " ('HEIMDALL', 19),\n",
       " ('STRANGE', 17),\n",
       " ('SURTUR', 14),\n",
       " ('SCRAPPER #142', 14),\n",
       " ('ACTOR THOR', 12),\n",
       " ('ACTOR LOKI', 11),\n",
       " ('TOPAZ', 10),\n",
       " ('QUINJET', 9),\n",
       " ('SOOTHING VOICE', 8),\n",
       " ('What?', 8),\n",
       " ('DR. STRANGE', 7)]"
      ]
     },
     "execution_count": 48,
     "metadata": {},
     "output_type": "execute_result"
    }
   ],
   "source": [
    "sorted_poss_chars = sorted(poss_char.items(), key=operator.itemgetter(1), reverse=True)\n",
    "threshold = 5\n",
    "chars = []\n",
    "for char_tuple in sorted_poss_chars:\n",
    "    if char_tuple[1] > threshold:\n",
    "        chars.append(char_tuple)\n",
    "    else:\n",
    "        break\n",
    "chars"
   ]
  },
  {
   "cell_type": "markdown",
   "metadata": {},
   "source": [
    "The result is pretty much the same, although `'What?'` is apparantly a character. This could be avoided by `.isupper()` or maybe checking for punct sings. The `x` in `if line.count(\" \") > x` could also be tuned.  \n",
    "\n",
    "Actually, I found this to be problematic, so I set it to `-1`."
   ]
  },
  {
   "cell_type": "code",
   "execution_count": 49,
   "metadata": {},
   "outputs": [
    {
     "data": {
      "text/plain": [
       "[(0, 1634),\n",
       " (37, 638),\n",
       " (25, 511),\n",
       " (26, 455),\n",
       " (27, 302),\n",
       " (24, 294),\n",
       " (32, 293),\n",
       " (31, 279),\n",
       " (30, 190),\n",
       " (23, 150)]"
      ]
     },
     "execution_count": 49,
     "metadata": {},
     "output_type": "execute_result"
    }
   ],
   "source": [
    "with open(os.getcwd() + \"/scripts/\" + \"Braveheart_script.txt\", \"r\") as s:\n",
    "    braveheart = s.read()\n",
    "\n",
    "line_space_freq = {}\n",
    "for line in braveheart.split(\"\\n\"):\n",
    "    key = line.count(\" \")\n",
    "    if key not in line_space_freq:\n",
    "        line_space_freq[key] = 1\n",
    "    else:\n",
    "        line_space_freq[key] += 1\n",
    "sorted_line_space_freq = sorted(line_space_freq.items(), key=operator.itemgetter(1), reverse=True)\n",
    "sorted_line_space_freq[:10]"
   ]
  },
  {
   "cell_type": "code",
   "execution_count": 50,
   "metadata": {},
   "outputs": [
    {
     "data": {
      "text/plain": [
       "[('WALLACE', 114),\n",
       " ('PRINCESS', 63),\n",
       " ('WILLIAM', 56),\n",
       " ('HAMISH', 38),\n",
       " ('ROBERT', 37),\n",
       " ('LONGSHANKS', 34),\n",
       " ('EDWARD', 30),\n",
       " ('CRAIG', 26),\n",
       " ('CAMPBELL', 23),\n",
       " ('MAGISTRATE', 22),\n",
       " ('STEPHEN', 20),\n",
       " ('MARION', 18),\n",
       " ('ARGYLE', 15),\n",
       " ('VOICE OVER', 11),\n",
       " ('MORNAY', 11),\n",
       " ('TALMADGE', 9),\n",
       " ('FATHER', 7),\n",
       " ('THE LEPER', 7),\n",
       " ('LOCHLAN', 7),\n",
       " ('SOLDIER', 6),\n",
       " ('NICOLETTE', 6)]"
      ]
     },
     "execution_count": 50,
     "metadata": {},
     "output_type": "execute_result"
    }
   ],
   "source": [
    "poss_char = {}\n",
    "for line in braveheart.split(\"\\n\"):\n",
    "    if line.count(\" \") > 10:\n",
    "        key = line.strip(\" \").replace(line[line.find(\"(\"):line.find(\")\") + 1], \"\").strip(\" \")\n",
    "        if key:\n",
    "            if key not in poss_char:\n",
    "                poss_char[key] = 1\n",
    "            else:\n",
    "                poss_char[key] += 1\n",
    "\n",
    "sorted_poss_chars = sorted(poss_char.items(), key=operator.itemgetter(1), reverse=True)\n",
    "threshold = 5\n",
    "chars = []\n",
    "for char_tuple in sorted_poss_chars:\n",
    "    if char_tuple[1] > threshold:\n",
    "        chars.append(char_tuple)\n",
    "    else:\n",
    "        break\n",
    "chars"
   ]
  },
  {
   "cell_type": "code",
   "execution_count": 51,
   "metadata": {},
   "outputs": [
    {
     "data": {
      "text/plain": [
       "['THOR',\n",
       " 'LOKI',\n",
       " 'VALKYRIE',\n",
       " 'BANNER',\n",
       " 'HELA',\n",
       " 'GRANDMASTER',\n",
       " 'HULK',\n",
       " 'KORG',\n",
       " 'ODIN',\n",
       " 'SKURGE',\n",
       " 'HEIMDALL',\n",
       " 'STRANGE',\n",
       " 'SURTUR',\n",
       " 'SCRAPPER #142',\n",
       " 'ACTOR THOR',\n",
       " 'ACTOR LOKI',\n",
       " 'TOPAZ',\n",
       " 'QUINJET',\n",
       " 'SOOTHING VOICE']"
      ]
     },
     "execution_count": 51,
     "metadata": {},
     "output_type": "execute_result"
    }
   ],
   "source": [
    "def get_characters(script, threshold_char=5, threshold_space=-1):\n",
    "    \n",
    "    with open(os.getcwd() + \"/scripts/\" + script, \"r\") as s:\n",
    "        script = s.read()\n",
    "        \n",
    "    poss_char = {}\n",
    "    for line in script.split(\"\\n\"):\n",
    "        if line.count(\" \") > threshold_space:\n",
    "            key = line.strip(\" \").replace(line[line.find(\"(\"):line.find(\")\") + 1], \"\").strip(\" \").replace(\"\\t\", \"\").strip(\" \")\n",
    "            if key not in poss_char:\n",
    "                poss_char[key] = 1\n",
    "            else:\n",
    "                poss_char[key] += 1\n",
    "                        \n",
    "    sorted_poss_chars = sorted(poss_char.items(), key=operator.itemgetter(1), reverse=True)\n",
    "    chars = []\n",
    "    for char_tuple in sorted_poss_chars:\n",
    "        if char_tuple[1] > threshold_char:\n",
    "            chars.append(char_tuple)\n",
    "        else:\n",
    "            break\n",
    "            \n",
    "    return [char[0] for char in chars if char[0] != \"\" and \"-\" not in char[0] and \".\" not in char[0] and \":\" not in char[0] and \"?\" not in char[0]]\n",
    "\n",
    "\n",
    "get_characters(\"Thor-Ragnarok_script.txt\")"
   ]
  },
  {
   "cell_type": "code",
   "execution_count": 70,
   "metadata": {},
   "outputs": [],
   "source": [
    "problematic_scripts = []\n",
    "for script in os.listdir(os.getcwd() + \"/scripts/\"):\n",
    "    if script[-4:] == \".txt\":\n",
    "        chars = get_characters(script)\n",
    "        if len(chars) == 0:\n",
    "            problematic_scripts.append(script)\n",
    "            brr = True\n",
    "        else:\n",
    "            pass"
   ]
  },
  {
   "cell_type": "code",
   "execution_count": 71,
   "metadata": {},
   "outputs": [
    {
     "data": {
      "text/plain": [
       "{'Aladdin_script.txt',\n",
       " 'American-Outlaws_script.txt',\n",
       " 'Artist,-The_script.txt',\n",
       " 'Dawn-of-the-Dead_script.txt',\n",
       " 'Legend_script.txt',\n",
       " 'Made_script.txt',\n",
       " 'Mulan_script.txt',\n",
       " 'Training-Day_script.txt'}"
      ]
     },
     "execution_count": 71,
     "metadata": {},
     "output_type": "execute_result"
    }
   ],
   "source": [
    "set(problematic_scripts)"
   ]
  },
  {
   "cell_type": "code",
   "execution_count": 72,
   "metadata": {},
   "outputs": [
    {
     "data": {
      "text/plain": [
       "8"
      ]
     },
     "execution_count": 72,
     "metadata": {},
     "output_type": "execute_result"
    }
   ],
   "source": [
    "len(set(problematic_scripts))"
   ]
  },
  {
   "cell_type": "code",
   "execution_count": 54,
   "metadata": {},
   "outputs": [],
   "source": [
    "import requests\n",
    "from bs4 import BeautifulSoup\n",
    "dict_lens = {}\n",
    "for i in set(problematic_scripts):\n",
    "    website_url = requests.get(\"https://www.imsdb.com/scripts/\" + i[:i.find(\"_\")] + \".html\").text\n",
    "    soup = BeautifulSoup(website_url, \"html.parser\")\n",
    "    if soup.pre.find_all(\"pre\"):\n",
    "        script = \"\"\n",
    "        for j in soup.pre.find_all(\"pre\"):\n",
    "            script += str(j)\n",
    "    else:\n",
    "        script = str(soup.pre)\n",
    "    dict_lens[i] = len(script)"
   ]
  },
  {
   "cell_type": "code",
   "execution_count": 55,
   "metadata": {},
   "outputs": [
    {
     "data": {
      "text/plain": [
       "{'Legend_script.txt': 155467,\n",
       " 'Red-Planet_script.txt': 1577,\n",
       " 'Equilibrium_script.txt': 1950,\n",
       " \"Monster's-Ball_script.txt\": 1730,\n",
       " 'Artist,-The_script.txt': 100324,\n",
       " 'Courage-Under-Fire_script.txt': 2022,\n",
       " 'Jade_script.txt': 1660,\n",
       " 'Mulan_script.txt': 95600,\n",
       " 'At-First-Sight_script.txt': 1581,\n",
       " 'Aladdin_script.txt': 106929,\n",
       " 'What-Women-Want_script.txt': 1806,\n",
       " 'Speed_script.txt': 1918,\n",
       " 'True-Romance_script.txt': 1579,\n",
       " 'Blues-Brothers,-The_script.txt': 2025,\n",
       " 'Made_script.txt': 198436,\n",
       " 'American-Outlaws_script.txt': 219461,\n",
       " 'Saint,-The_script.txt': 1576,\n",
       " 'Dawn-of-the-Dead_script.txt': 235774,\n",
       " 'Lion-King,-The_script.txt': 1985,\n",
       " 'Barbershop_script.txt': 1958,\n",
       " 'Back-to-the-Future_script.txt': 2022,\n",
       " 'Training-Day_script.txt': 198900,\n",
       " \"Mr.-Holland's-Opus_script.txt\": 1758}"
      ]
     },
     "execution_count": 55,
     "metadata": {},
     "output_type": "execute_result"
    }
   ],
   "source": [
    "dict_lens"
   ]
  },
  {
   "cell_type": "code",
   "execution_count": 31,
   "metadata": {},
   "outputs": [
    {
     "name": "stdout",
     "output_type": "stream",
     "text": [
      " <html>\n",
      "<head>\n",
      "<title>Lion King, The Script at IMSDb.</title>\n",
      "<meta content=\"Lion King, The script\" name=\"description\"/>\n",
      "<meta content=\"Lion King, The script, Lion King, The movie script, Lion King, The film script\" name=\"keywords\"/>\n",
      "<p align=\"center\">\n",
      "<iframe frameborder=\"0\" height=\"90\" scrolling=\"no\" src=\"http://www.imsdb.com/adbanner.html\" width=\"728\"></iframe>\n",
      "<br/><br/>\n",
      "This script was brought to you by :<br/>\n",
      "  <a href=\"http://www.imsdb.com\">The Internet Movie Script Database</a><br/>\n",
      "  www.IMSDb.com\n",
      "</p><table cellpadding=\"0\" cellspacing=\"0\" width=\"99%\">\n",
      "<tr>\n",
      "<td valign=\"top\" width=\"120\">\n",
      "\n",
      "<iframe border=\"0\" frameborder=\"0\" height=\"600\" marginheight=\"0\" marginwidth=\"0\" scrolling=\"no\" src=\"http://www.filemania.com/ad_sky.html\" style=\"border:none;\" width=\"120\"></iframe>\n",
      "\n",
      "<td><td valign=\"top\" width=\"120\">\n",
      "\n",
      "<iframe border=\"0\" frameborder=\"0\" height=\"240\" marginheight=\"0\" marginwidth=\"0\" scrolling=\"no\" src=\"http://rcm.amazon.com/e/cm?t=everlongsoftw-20&amp;o=1&amp;p=8&amp;l=st1&amp;m\n"
     ]
    }
   ],
   "source": [
    "website_url = requests.get(\"https://www.imsdb.com/scripts/\" + \"Lion-King,-The\" + \".html\").text\n",
    "soup = BeautifulSoup(website_url, \"html.parser\")\n",
    "if soup.pre.find_all(\"pre\"):\n",
    "    script = \"\"\n",
    "    for i in soup.pre.find_all(\"pre\"):\n",
    "        script += str(i)\n",
    "else:\n",
    "    script = str(soup.pre)\n",
    "script = script.replace(\"<pre>\", \"\").replace(\"</pre>\", \"\").replace(\"<b>\", \"\")\n",
    "script = script.replace(\"</b>\", \"\").replace(\"<u>\", \"\").replace(\"</u>\", \"\")\n",
    "print(script[:1000])"
   ]
  },
  {
   "cell_type": "code",
   "execution_count": 33,
   "metadata": {},
   "outputs": [
    {
     "data": {
      "text/plain": [
       "1974"
      ]
     },
     "execution_count": 33,
     "metadata": {},
     "output_type": "execute_result"
    }
   ],
   "source": [
    "len(script)"
   ]
  },
  {
   "cell_type": "code",
   "execution_count": 32,
   "metadata": {},
   "outputs": [
    {
     "data": {
      "text/plain": [
       "True"
      ]
     },
     "execution_count": 32,
     "metadata": {},
     "output_type": "execute_result"
    }
   ],
   "source": [
    "\"\\n\" in script"
   ]
  },
  {
   "cell_type": "code",
   "execution_count": 24,
   "metadata": {},
   "outputs": [
    {
     "name": "stdout",
     "output_type": "stream",
     "text": [
      "                             <u>TRAINING DAY</u>                                  by                              David Ayer                                              <u>REVISED DRAFT</u>                                              August 18, 1999        FADE IN:        INT. BEDROOM - PREDAWN        In a Simi Valley housing tract.  It's dark.        CLOSE ON ALARM CLOCK        4:59 AM.        WIDER ANGLE:  Eyes glisten in the clock's shine,        patiently watching the time.        BZZZZ!  The ALARM SOUNDS.  A hand that's been hovering        over the clock drops.  Silence.  JAKE HOYT, a fit young        man, rolls over, throws an arm over his sleeping wife --                                JAKE                  It's time.        -- she's not there, just empty blankets.  He sits up.        HIS POV        LISA, his wife, in a rocking chair in the corner.        BACK TO SCENE        Jake is surprised.  How'd she sneak off?                                JAKE                  What ar\n"
     ]
    }
   ],
   "source": [
    "with open(os.getcwd() + \"/scripts/\" + 'Training-Day_script.txt', \"r\") as s:\n",
    "    script = s.read()\n",
    "\n",
    "print(script[:1000])"
   ]
  },
  {
   "cell_type": "markdown",
   "metadata": {},
   "source": [
    "These appear to be the `html` scripts."
   ]
  },
  {
   "cell_type": "markdown",
   "metadata": {},
   "source": [
    "There are many more than I though... TODO: Fix this!!!!"
   ]
  },
  {
   "cell_type": "code",
   "execution_count": 230,
   "metadata": {},
   "outputs": [],
   "source": [
    "import requests\n",
    "from bs4 import BeautifulSoup\n",
    "\n",
    "website_url = requests.get(\"https://www.imsdb.com/scripts/\" + \"Alien\" + \".html\").text\n",
    "soup = BeautifulSoup(website_url, \"html.parser\")\n",
    "script = str(soup.pre.pre)"
   ]
  },
  {
   "cell_type": "code",
   "execution_count": 231,
   "metadata": {},
   "outputs": [
    {
     "data": {
      "text/plain": [
       "True"
      ]
     },
     "execution_count": 231,
     "metadata": {},
     "output_type": "execute_result"
    }
   ],
   "source": [
    "\"\\n\" in script"
   ]
  },
  {
   "cell_type": "code",
   "execution_count": 272,
   "metadata": {},
   "outputs": [
    {
     "name": "stdout",
     "output_type": "stream",
     "text": [
      "\n",
      "\n",
      "     CAMERA ANGLES GRADUALLY WIDEN, revealing more and more of the\n",
      "     machinery, banks of panels, fluttering gauges, until we reveal:\n",
      "\n",
      "     INTERIOR - HYPERSLEEP VAULT\n",
      "\n",
      "     A stainless steel room with no windows, the walls packed with\n",
      "     instrumentation.  The lights are dim and the air is frigid.\n",
      "\n",
      "     Occupying most of the floor space are rows of horizontal FREEZER\n",
      "     COMPARTMENTS, looking for all the world like meat lockers.\n",
      "\n",
      "     FOOM!  FOOM!  FOOM!  With explosions of escaping gas, the lids on the\n",
      "     freezers pop open.\n",
      "\n",
      "     Slowly, groggily, six nude men sit up.\n",
      "\n",
      "                              ROBY\n",
      "               Oh... God... am I cold... \n",
      "\n",
      "                              BROUSSARD\n",
      "               Is that you, Roby?\n",
      "\n",
      "                              ROBY\n",
      "               I feel like shit... \n",
      "\n",
      "                              BROUSSARD\n",
      "               Yeah, it's you all right.\n",
      "\n",
      "     Now they are yawning, stretching, and shivering.\n",
      "\n",
      "                              FAUST\n",
      "                    (groans)\n",
      "               Ohh... I must be alive, I feel dead.\n",
      "\n",
      "                              BROUSSARD\n",
      "               You look dead.\n",
      "\n",
      "                              MELKONIS\n",
      "               The vampires rise from their graves.\n",
      "\n",
      "     This draws a few woozy chuckles.\n",
      "\n",
      "                              BROUSSARD\n",
      "                    (shakes his fist in the\n",
      "                     air triumphantly)\n",
      "               We made it!\n",
      "\n",
      "                              HUNTER\n",
      "                    (not fully awake)\n",
      "               Is it over?\n",
      "\n",
      "                              STANDARD\n",
      "               It's over, Hunter.\n",
      "\n",
      "                              HUNTER\n",
      "                    (yawning)\n",
      "               Boy, that's terrific.\n",
      "\n",
      "                              STANDARD\n",
      "                    (looking around with a grin)\n",
      "               Well, how does it feel to be rich\n",
      "               men?\n",
      "\n",
      "                              FAUST\n",
      "               Cold!\n",
      "\n",
      "     This draws a LAUGH.\n",
      "\n",
      "                              STANDARD\n",
      "               Oka\n"
     ]
    }
   ],
   "source": [
    "script = script.replace(\"<pre>\", \"\").replace(\"</pre>\", \"\").replace(\"<b>\", \"\").replace(\"</b>\", \"\").replace(\"</u>\", \"\").replace(\"<u>\", \"\")\n",
    "print(script[4000:6000])"
   ]
  },
  {
   "cell_type": "code",
   "execution_count": 282,
   "metadata": {},
   "outputs": [
    {
     "data": {
      "text/plain": [
       "['STANDARD', 'ROBY', 'HUNTER', 'MELKONIS', 'BROUSSARD', 'FAUST', 'COMPUTER']"
      ]
     },
     "execution_count": 282,
     "metadata": {},
     "output_type": "execute_result"
    }
   ],
   "source": [
    "poss_char = {}\n",
    "for line in script.split(\"\\n\"):\n",
    "    key = line.strip(\" \").replace(line[line.find(\"(\"):line.find(\")\") + 1], \"\").strip(\" \").replace(\"\\t\", \"\").strip(\" \")\n",
    "        #print(key)\n",
    "    if key not in poss_char:\n",
    "        poss_char[key] = 1\n",
    "    else:\n",
    "        poss_char[key] += 1\n",
    "\n",
    "sorted_poss_chars = sorted(poss_char.items(), key=operator.itemgetter(1), reverse=True)\n",
    "chars = []\n",
    "for char_tuple in sorted_poss_chars:\n",
    "    if char_tuple[1] > 5:\n",
    "        chars.append(char_tuple)\n",
    "    else:\n",
    "        break\n",
    "        \n",
    "#print(sorted_poss_chars)\n",
    "\n",
    "chars = [char[0] for char in chars if char[0] != \"\" and \"-\" not in char[0] and \".\" not in char[0] and \":\" not in char[0]]\n",
    "chars"
   ]
  },
  {
   "cell_type": "code",
   "execution_count": 320,
   "metadata": {},
   "outputs": [],
   "source": [
    "# Taken from script_processor.py and slightly modified\n",
    "scripts_char_diags = {}\n",
    "#create a string containing character names seperated by commas\n",
    "characters = ','.join([','.join(name.split(' ')) for name in chars if len(name.split(' ')) <3])\n",
    "#print(characters)\n",
    "# data structure to store the dialogues\n",
    "dialogues = {}\n",
    "for ch in characters.split(','):\n",
    "    #print(ch)\n",
    "    if 'Mr.' in ch or '-' in ch:\n",
    "        continue\n",
    "    else:\n",
    "        name = ch\n",
    "    dialogue = '' \n",
    "    flag = 0\n",
    "    count = 0\n",
    "    for line in script.split(\"\\n\"):\n",
    "        temp = line.strip(\" \").replace(line[line.find(\"(\"):line.find(\")\") + 1], \"\").strip(\" \")\n",
    "        if temp.isupper():  # If Character Intro\n",
    "            if name.upper() == temp:\n",
    "                flag = 1\n",
    "                count += 1\n",
    "                dialogue += '\\n['+str(count)+']'\n",
    "                continue\n",
    "            else:  # If it's another character\n",
    "                flag = 0\n",
    "                continue\n",
    "        if flag:\n",
    "            if flag == 1:\n",
    "                if line.lstrip(\" \")[0] == \"(\" or line.rstrip(\" \")[-1] == \")\":  # To still get the dialogue\n",
    "                    ident_level_first = None  # when the first line below a character\n",
    "                    flag = 0  # intro is something like \"(looking around with a grin)\"\n",
    "                else:  # which describes how the character is acting but it is not his dialogue\n",
    "                    ident_level_first = len(line) - len(line.lstrip(\" \"))\n",
    "            ident_level = len(line) - len(line.lstrip(\" \"))\n",
    "            if ident_level_first:\n",
    "                if ident_level == ident_level_first:\n",
    "                    dialogue += temp + \" \"\n",
    "                else:\n",
    "                    continue\n",
    "            else:\n",
    "                pass\n",
    "            flag += 1\n",
    "    dialogues[name] = dialogue\n",
    "scripts_char_diags['dialogues'] = dialogues"
   ]
  },
  {
   "cell_type": "code",
   "execution_count": 256,
   "metadata": {},
   "outputs": [
    {
     "data": {
      "text/plain": [
       "''"
      ]
     },
     "execution_count": 256,
     "metadata": {},
     "output_type": "execute_result"
    }
   ],
   "source": [
    "script"
   ]
  },
  {
   "cell_type": "code",
   "execution_count": 250,
   "metadata": {},
   "outputs": [],
   "source": [
    "if soup.pre.find_all(\"pre\"):\n",
    "    print(\"m\")"
   ]
  },
  {
   "cell_type": "code",
   "execution_count": null,
   "metadata": {},
   "outputs": [],
   "source": []
  },
  {
   "cell_type": "code",
   "execution_count": 227,
   "metadata": {},
   "outputs": [
    {
     "data": {
      "text/plain": [
       "{'Made_script.txt': 198645,\n",
       " 'Back-to-the-Future_script.txt': 2022,\n",
       " 'Alien_script.txt': 203578,\n",
       " 'Dawn-of-the-Dead_script.txt': 235774,\n",
       " 'Speed_script.txt': 1918,\n",
       " 'Jade_script.txt': 1660,\n",
       " \"Mr.-Holland's-Opus_script.txt\": 1758,\n",
       " 'Lion-King,-The_script.txt': 1985,\n",
       " \"Monster's-Ball_script.txt\": 1730,\n",
       " 'Legend_script.txt': 155467,\n",
       " 'Courage-Under-Fire_script.txt': 2022,\n",
       " 'American-Outlaws_script.txt': 219702,\n",
       " 'True-Romance_script.txt': 1579,\n",
       " 'Mulan_script.txt': 95600,\n",
       " 'Aladdin_script.txt': 106929,\n",
       " 'Training-Day_script.txt': 199002,\n",
       " 'What-Women-Want_script.txt': 1806,\n",
       " 'Saint,-The_script.txt': 1576,\n",
       " 'Equilibrium_script.txt': 1950,\n",
       " 'Blues-Brothers,-The_script.txt': 2025,\n",
       " 'At-First-Sight_script.txt': 1581,\n",
       " 'Artist,-The_script.txt': 100324,\n",
       " 'Barbershop_script.txt': 1958,\n",
       " 'Red-Planet_script.txt': 1577}"
      ]
     },
     "execution_count": 227,
     "metadata": {},
     "output_type": "execute_result"
    }
   ],
   "source": [
    "dict_lens"
   ]
  },
  {
   "cell_type": "code",
   "execution_count": 216,
   "metadata": {},
   "outputs": [],
   "source": [
    "def get_characters(script, threshold_char, threshold_space=-1):\n",
    "    \n",
    "    with open(os.getcwd() + \"/scripts/\" + script, \"r\") as s:\n",
    "        script = s.read()\n",
    "    print(script[:6000])\n",
    "        \n",
    "    poss_char = {}\n",
    "    for line in script.split(\"\\n\"):\n",
    "        if line.count(\" \") > threshold_space:\n",
    "            key = line.strip(\" \").replace(line[line.find(\"(\"):line.find(\")\") + 1], \"\").strip(\" \").replace(\"\\t\", \"\").strip(\" \")\n",
    "                #print(key)\n",
    "            if key not in poss_char:\n",
    "                poss_char[key] = 1\n",
    "            else:\n",
    "                poss_char[key] += 1\n",
    "                        \n",
    "    sorted_poss_chars = sorted(poss_char.items(), key=operator.itemgetter(1), reverse=True)\n",
    "    chars = []\n",
    "    for char_tuple in sorted_poss_chars:\n",
    "        if char_tuple[1] > threshold_char:\n",
    "            chars.append(char_tuple)\n",
    "        else:\n",
    "            break\n",
    "            \n",
    "    #print(sorted_poss_chars)\n",
    "                \n",
    "    #processed_names = [char[0].replace(\"\\t\", \"\").strip() for char in chars]  # See Raging-Bull_script.txt\n",
    "    return [char[0] for char in chars if char[0] != \"\"]"
   ]
  },
  {
   "cell_type": "code",
   "execution_count": 229,
   "metadata": {},
   "outputs": [
    {
     "data": {
      "text/plain": [
       "[]"
      ]
     },
     "execution_count": 229,
     "metadata": {},
     "output_type": "execute_result"
    }
   ],
   "source": [
    "get_characters(\"Alien_script.txt\")"
   ]
  },
  {
   "cell_type": "code",
   "execution_count": 124,
   "metadata": {},
   "outputs": [
    {
     "data": {
      "text/plain": [
       "286"
      ]
     },
     "execution_count": 124,
     "metadata": {},
     "output_type": "execute_result"
    }
   ],
   "source": [
    "s = 0\n",
    "for line in scriptt.split(\"\\n\"):\n",
    "    if line.strip(\" \").replace(line[line.find(\"(\"):line.find(\")\") + 1], \"\").strip(\" \").replace(\"\\t\", \"\").strip(\" \") == \"JOHNNY\":\n",
    "        s += 1\n",
    "s"
   ]
  },
  {
   "cell_type": "code",
   "execution_count": 219,
   "metadata": {},
   "outputs": [],
   "source": [
    "with open(os.getcwd() + \"/scripts/\" + \"Starship-Troopers_script.txt\", \"r\") as s:\n",
    "    scriptt = s.read()\n",
    "#print(scriptt[:10000])"
   ]
  },
  {
   "cell_type": "code",
   "execution_count": 220,
   "metadata": {},
   "outputs": [],
   "source": [
    "#print(script.replace(\"<pre>\", \"\").replace(\"</pre>\", \"\").replace(\"<b>\", \"\").replace(\"</b>\", \"\")[:2000])"
   ]
  },
  {
   "cell_type": "code",
   "execution_count": null,
   "metadata": {},
   "outputs": [],
   "source": []
  },
  {
   "cell_type": "code",
   "execution_count": null,
   "metadata": {},
   "outputs": [],
   "source": []
  },
  {
   "cell_type": "code",
   "execution_count": null,
   "metadata": {},
   "outputs": [],
   "source": []
  },
  {
   "cell_type": "code",
   "execution_count": null,
   "metadata": {},
   "outputs": [],
   "source": []
  },
  {
   "cell_type": "markdown",
   "metadata": {},
   "source": [
    "Upon much thought, we will choose the characters with the most dialogue instead. TODO: Decide on the number of characters...."
   ]
  },
  {
   "cell_type": "code",
   "execution_count": 11,
   "metadata": {},
   "outputs": [],
   "source": [
    "# Taken from `script_processor.py`\n",
    "\n",
    "import omdb\n",
    "import requests\n",
    "from bs4 import BeautifulSoup\n",
    "\n",
    "files = os.listdir(os.getcwd() + '/scripts/')\n",
    "\n",
    "#Create a a dict where each item contains information on a movie in dictionary format\n",
    "movies = {}\n",
    "for each in files:\n",
    "    movie = {}\n",
    "    if '-The_script.txt' in each:\n",
    "        movies['The '+each.replace('-The_script.txt','').replace('-', ' ')[:-1]] = {'filename':each}\n",
    "    else:\n",
    "        movies[each.replace('_script.txt','').replace('-', ' ')] = {'filename':each}\n",
    "\n",
    "#fetch imdb data of a movie using OMDB api, please read OMDB doc for further details\n",
    "def getOmdbData(movie):\n",
    "    api_key = 'eb6547ff'\n",
    "    omdb.set_default('apikey', api_key)\n",
    "    return omdb.get(title=movie, fullplot=True, tomatoes=True)\n",
    "\n",
    "def prepURL(imdb_id):\n",
    "\t#prepare the url from which we will scrape the cast data\n",
    "    url = 'https://www.imdb.com/title/'+imdb_id#+'/fullcredits?ref_=tt_cl_sm#cast'\n",
    "    return url\n",
    "\n",
    "def getCharacters(url):\n",
    "\t#Only first imdb page of the cast members are considered. \n",
    "    website_url = requests.get(url).text\n",
    "    soup = BeautifulSoup(website_url, \"lxml\")\n",
    "    #upon inspecting the html code, we see that the cast is structured in <table> tags\n",
    "    table = soup.find('table',{'class':'cast_list'}) \n",
    "    #<tr> is a tag for table row [tr]\n",
    "    cast = table.find_all('tr') \n",
    "    characters = []\n",
    "    for each in cast:\n",
    "        temp = each.find_all('td')[-1].text.strip().replace('\\n','').replace('  ','')\n",
    "        if 'uncredited' in temp:\n",
    "            characters.append(temp.split('(')[0][:-1])\n",
    "        else:\n",
    "            characters.append(temp)\n",
    "    characters = list(set(characters))\n",
    "    return characters\n",
    "\n",
    "for movie in movies.keys():\n",
    "\t#for the given movie name we fetch the imdb data\n",
    "    x = getOmdbData(movie)\n",
    "    try:\n",
    "        movies[movie]['imdb_id'] = x['imdb_id']\n",
    "    except:\n",
    "        continue\n",
    "\n",
    "#We need to delete the movie's on which there isn't much data available\n",
    "delete = []\n",
    "for movie in movies.keys():\n",
    "    try:\n",
    "        url = prepURL(movies[movie]['imdb_id'])\n",
    "        characters = getCharacters(url)\n",
    "        movies[movie]['imdb_url'] = url\n",
    "        movies[movie]['characters'] = characters\n",
    "    except:\n",
    "        delete.append(movie)\n",
    "\n",
    "#Delete the movies on which we don't have necessary data on\n",
    "for movie in delete:\n",
    "    del movies[movie]\n",
    "\n",
    "#Clean the data further\n",
    "for movie in movies.keys():\n",
    "    if 'Cast overview, first billed only:' in movies[movie]['characters']:\n",
    "        movies[movie]['characters'].remove('Cast overview, first billed only:')"
   ]
  },
  {
   "cell_type": "code",
   "execution_count": 29,
   "metadata": {},
   "outputs": [],
   "source": [
    "# Taken from script_processor.py and slightly modified\n",
    "scripts_char_diags = {}\n",
    "for script in os.listdir(os.getcwd() + \"/scripts/\"):\n",
    "    scripts_char_diags[script] = {}\n",
    "    if script[-4:] == \".txt\":\n",
    "        chars = get_characters(script, 5)  \n",
    "        with open(os.getcwd() + \"/scripts/\" + script, \"r\") as s:\n",
    "            scriptt = s.read()\n",
    "        #create a string containing character names seperated by commas\n",
    "        characters = ','.join([','.join(name.split(' ')) for name in chars if len(name.split(' ')) <3])\n",
    "        # data structure to store the dialogues\n",
    "        dialogues = {}\n",
    "        for ch in characters.split(','):\n",
    "            if 'Mr.' in ch or '-' in ch:\n",
    "                continue\n",
    "            else:\n",
    "                name = ch\n",
    "            dialogue = '' \n",
    "            flag = 0\n",
    "            count = 0\n",
    "            for line in scriptt.split(\"\\n\"):\n",
    "                temp = line.strip(\" \").replace(line[line.find(\"(\"):line.find(\")\") + 1], \"\").strip(\" \")\n",
    "                if temp.isupper():  # If Character Intro\n",
    "                    if name.upper() in temp:\n",
    "                        flag = 1\n",
    "                        count += 1\n",
    "                        dialogue += '\\n['+str(count)+']'\n",
    "                        continue\n",
    "                    else:  # If it's another character\n",
    "                        flag = 0\n",
    "                        continue\n",
    "                if flag:\n",
    "                    if flag == 1:\n",
    "                        ident_level_first = len(line) - len(line.lstrip(\" \"))\n",
    "                    ident_level = len(line) - len(line.lstrip(\" \"))\n",
    "                    if ident_level == ident_level_first:\n",
    "                        dialogue += temp + \" \"\n",
    "                    else:\n",
    "                        continue\n",
    "                    flag += 1\n",
    "            dialogues[name] = dialogue\n",
    "        scripts_char_diags[script]['dialogues'] = dialogues"
   ]
  },
  {
   "cell_type": "code",
   "execution_count": 54,
   "metadata": {},
   "outputs": [],
   "source": [
    "dict_lengths = {}\n",
    "for key, value in scripts_char_diags[\"Thor-Ragnarok_script.txt\"][\"dialogues\"].items():\n",
    "    a = value.replace(\"\\n\", \"\").replace(\" \", \"\")\n",
    "    i = 1\n",
    "    while True:\n",
    "        before = len(a)\n",
    "        a = a.replace(\"[\" + str(i) + \"]\", \"\")\n",
    "        i += 1\n",
    "        if len(a) == before:\n",
    "            break\n",
    "    dict_lengths[key] = len(a)"
   ]
  },
  {
   "cell_type": "code",
   "execution_count": 55,
   "metadata": {},
   "outputs": [
    {
     "data": {
      "text/plain": [
       "[('THOR', 14805),\n",
       " ('LOKI', 3757),\n",
       " ('GRANDMASTER', 3266),\n",
       " ('HELA', 2801),\n",
       " ('VALKYRIE', 2507),\n",
       " ('KORG', 2430),\n",
       " ('BANNER', 2319),\n",
       " ('ODIN', 1751),\n",
       " ('SKURGE', 1109),\n",
       " ('ACTOR', 812),\n",
       " ('STRANGE', 752),\n",
       " ('SURTUR', 666),\n",
       " ('SOOTHING', 639),\n",
       " ('VOICE', 639),\n",
       " ('HEIMDALL', 633),\n",
       " ('HULK', 615),\n",
       " ('SCRAPPER', 440),\n",
       " ('#142', 361),\n",
       " ('TOPAZ', 267),\n",
       " ('DR.', 172),\n",
       " ('QUINJET', 160)]"
      ]
     },
     "execution_count": 55,
     "metadata": {},
     "output_type": "execute_result"
    }
   ],
   "source": [
    "sorted(dict_lengths.items(), key=operator.itemgetter(1), reverse=True)"
   ]
  },
  {
   "cell_type": "code",
   "execution_count": 56,
   "metadata": {},
   "outputs": [
    {
     "data": {
      "text/plain": [
       "['THOR', 'LOKI', 'GRANDMASTER', 'HELA', 'VALKYRIE']"
      ]
     },
     "execution_count": 56,
     "metadata": {},
     "output_type": "execute_result"
    }
   ],
   "source": [
    "[i[0] for i in sorted(dict_lengths.items(), key=operator.itemgetter(1), reverse=True)[:5]]"
   ]
  },
  {
   "cell_type": "code",
   "execution_count": 60,
   "metadata": {},
   "outputs": [
    {
     "name": "stdout",
     "output_type": "stream",
     "text": [
      "Godzilla_script.txt\n",
      "0.637686139747997\n"
     ]
    }
   ],
   "source": [
    "overall_acc = {}\n",
    "problematic_scripts = []\n",
    "print_one = True\n",
    "n_characters_choose = 5\n",
    "accs = []\n",
    "for script in os.listdir(os.getcwd() + \"/scripts/\"):\n",
    "    if script[-4:] == \".txt\":\n",
    "        # Gets the characters using our function\n",
    "        chars = get_characters(script, 5)\n",
    "        if len(chars) == 0:\n",
    "            problematic_scripts.append(script)\n",
    "            brr = True\n",
    "        else:\n",
    "            # Gets the top n_characters_choose characters with the most dialogue\n",
    "            dict_lengths = {}\n",
    "            for key, value in scripts_char_diags[script][\"dialogues\"].items():\n",
    "                a = value.replace(\"\\n\", \"\").replace(\" \", \"\")\n",
    "                i = 1\n",
    "                while True:\n",
    "                    before = len(a)\n",
    "                    a = a.replace(\"[\" + str(i) + \"]\", \"\")\n",
    "                    i += 1\n",
    "                    if len(a) == before:\n",
    "                        break\n",
    "                dict_lengths[key] = len(a)\n",
    "            chars_sorted_len_diag = sorted(dict_lengths.items(), key=operator.itemgetter(1), reverse=True)\n",
    "            chars = [i[0] for i in chars_sorted_len_diag[:n_characters_choose]]\n",
    "            #Gets list of characters from IMDB\n",
    "            if '-The_script.txt' in script:\n",
    "                key = 'The '+script.replace('-The_script.txt','').replace('-', ' ')[:-1]\n",
    "            else:\n",
    "                key = script.replace('_script.txt','').replace('-', ' ')\n",
    "            try:\n",
    "                chars_imdb = movies[key][\"characters\"]\n",
    "            except KeyError:\n",
    "                pass\n",
    "            else:\n",
    "                #Turns both to UPPERCASE (in case chars is not, and IMDB will most likely not be)\n",
    "                chars_upper = [char.upper() for char in chars]\n",
    "                chars_imdb_upper = [char.upper() for char in chars_imdb]\n",
    "                # Compares one by one and add 1 to `matches` if at least one word of one is equal to one word of the other?\n",
    "                # This condition could probably be improved, but we need to do some visual testing, so we probably want to\n",
    "                # keep a list with the names of the characters that matched\n",
    "                matches = 0\n",
    "                br = False\n",
    "                for imdb_char in chars_imdb_upper:\n",
    "                    for word in imdb_char.split(\" \"):\n",
    "                        for char in chars_upper:\n",
    "                            if word in char:\n",
    "                                matches += 1\n",
    "                                br = True\n",
    "                                break\n",
    "                        if br:\n",
    "                            break\n",
    "                accs.append(matches/len(chars))  # Proportion of identified characters that were in IMDb's main cast\n",
    "                if accs[-1] < 0.1 and print_one:\n",
    "                    print(script)\n",
    "                    print_one = False\n",
    "\n",
    "print(sum(accs)/len(accs))"
   ]
  },
  {
   "cell_type": "code",
   "execution_count": 61,
   "metadata": {},
   "outputs": [
    {
     "data": {
      "text/plain": [
       "['Vivienne Graham',\n",
       " 'Joe Brody',\n",
       " 'Captain Russell Hampton',\n",
       " 'Jump Master',\n",
       " 'Admiral William Stenz',\n",
       " 'Sergeant Tre Morales',\n",
       " 'HALO Jumper',\n",
       " 'Young Ford',\n",
       " 'Elle Brody',\n",
       " 'Sandra Brody',\n",
       " 'Dr. Ishiro Serizawa',\n",
       " 'Sam Brody',\n",
       " 'Bomb Tracker',\n",
       " 'Lieutenant Commander Marcus Waltz',\n",
       " 'Ford Brody']"
      ]
     },
     "execution_count": 61,
     "metadata": {},
     "output_type": "execute_result"
    }
   ],
   "source": [
    "movies[\"Godzilla\"][\"characters\"]"
   ]
  },
  {
   "cell_type": "code",
   "execution_count": 62,
   "metadata": {},
   "outputs": [
    {
     "data": {
      "text/plain": [
       "['NICK',\n",
       " 'AUDREY',\n",
       " 'RAYMOND',\n",
       " 'MAJOR HICKS',\n",
       " 'ANIMAL',\n",
       " 'CAIMAN',\n",
       " 'LUCY',\n",
       " 'MAYOR',\n",
       " 'CUT TO:',\n",
       " 'ELSIE',\n",
       " \"SERGEANT O'NEAL\",\n",
       " 'GENERAL ANDERSON',\n",
       " 'CAPTAIN',\n",
       " 'JEAN-CLAUDE',\n",
       " 'ENSIGN']"
      ]
     },
     "execution_count": 62,
     "metadata": {},
     "output_type": "execute_result"
    }
   ],
   "source": [
    "get_characters(\"Godzilla_script.txt\", 5)"
   ]
  },
  {
   "cell_type": "markdown",
   "metadata": {},
   "source": [
    "I think it's actually [Godzilla from 1998](https://www.imdb.com/title/tt0120685/)... We may be better off using my function and we can avoid issues such as this one. For a better evaluation, I think Sean was using the release date on our `.csv` to get the correct movie, when there are these discrepancies."
   ]
  },
  {
   "cell_type": "code",
   "execution_count": 63,
   "metadata": {},
   "outputs": [],
   "source": [
    "with open(os.getcwd() + \"/scripts/\" + \"Godzilla_script.txt\", \"r\") as s:\n",
    "    scriptt = s.read()"
   ]
  },
  {
   "cell_type": "code",
   "execution_count": null,
   "metadata": {},
   "outputs": [],
   "source": []
  },
  {
   "cell_type": "code",
   "execution_count": null,
   "metadata": {},
   "outputs": [],
   "source": []
  },
  {
   "cell_type": "code",
   "execution_count": 26,
   "metadata": {},
   "outputs": [],
   "source": [
    "import os\n",
    "import json\n",
    "\n",
    "\n",
    "def get_characters(script, threshold_char=5, threshold_space=-1):\n",
    "    \n",
    "    try:\n",
    "        with open(os.getcwd() + \"/scripts/\" + script, \"r\") as s:\n",
    "            script = s.read()\n",
    "    except Exception as e:\n",
    "        print(e)\n",
    "        print(script)\n",
    "        \n",
    "    else:\n",
    "        \n",
    "        poss_char = {}\n",
    "        for line in script.split(\"\\n\"):\n",
    "            if line.count(\" \") > threshold_space:\n",
    "                key = line.strip(\" \").replace(line[line.find(\"(\"):line.find(\")\") + 1], \"\").strip(\" \").replace(\"\\t\", \"\").strip(\" \")\n",
    "                if key not in poss_char:\n",
    "                    poss_char[key] = 1\n",
    "                else:\n",
    "                    poss_char[key] += 1\n",
    "\n",
    "        sorted_poss_chars = sorted(poss_char.items(), key=operator.itemgetter(1), reverse=True)\n",
    "        chars = []\n",
    "        for char_tuple in sorted_poss_chars:\n",
    "            if char_tuple[1] > threshold_char:\n",
    "                chars.append(char_tuple)\n",
    "            else:\n",
    "                break\n",
    "            \n",
    "    return [char[0] for char in chars if char[0] != \"\" and \"-\" not in char[0] and \".\" not in char[0] and \":\" not in char[0] and \"?\" not in char[0]]\n",
    "\n",
    "\n",
    "#Alternate Approach which works equally well.\n",
    "\"\"\"\n",
    "script = open('NLP-Movie_Scripts/scripts/'+file,'r')\n",
    "for line in script:\n",
    "    temp = line.strip()\n",
    "    if 'thor'.upper() in temp:\n",
    "        if (len(temp.split(' '))  <= 2) & (temp.split(' ')[0]=='thor'.upper()):\n",
    "            print(temp)\n",
    "\"\"\"\n",
    "#lns = []\n",
    "movies = {}\n",
    "for movie in os.listdir(os.getcwd() + \"/scripts/\"):\n",
    "    movies[movie] = {}\n",
    "    if movie[-4:] == \".txt\":\n",
    "        with open(os.getcwd() + \"/scripts/\" + movie, \"r\") as s:\n",
    "            script = s.read()\n",
    "        #create a string containing character names seperated by commas\n",
    "        characters = ','.join([','.join(name.split(' ')) for name in get_characters(movie) if len(name.split(' ')) <3])\n",
    "        # data structure to store the dialogues\n",
    "        dialogues = {}\n",
    "        for ch in characters.split(','):\n",
    "            if 'Mr.' in ch or '-' in ch:\n",
    "                continue\n",
    "            else:\n",
    "                name = ch\n",
    "            dialogue = '' \n",
    "            flag = 0\n",
    "            count = 0\n",
    "            for line in script.split(\"\\n\"):\n",
    "                temp = line.strip(\" \").replace(line[line.find(\"(\"):line.find(\")\") + 1], \"\").strip(\" \")\n",
    "                if temp.isupper():  # If Character Intro\n",
    "                    if name.upper() == temp:\n",
    "                        flag = 1\n",
    "                        count += 1\n",
    "                        dialogue += '\\n['+str(count)+']'\n",
    "                        continue\n",
    "                    else:  # If it's another character\n",
    "                        flag = 0\n",
    "                        continue\n",
    "                if flag:\n",
    "                    if flag == 1:\n",
    "                        #lns.append(line)\n",
    "                        #print(line)\n",
    "                        #print(ch)\n",
    "                        if line.strip(): # Accounts for first lines == \"\" or == \"     \"\n",
    "                            if line.lstrip(\" \")[0] == \"(\" or line.rstrip(\" \")[-1] == \")\":  # To still get the dialogue\n",
    "                                ident_level_first = None  # when the first line below a character\n",
    "                                flag = 0  # intro is something like \"(looking around with a grin)\"\n",
    "                            else:  # which describes how the character is acting but it is not his dialogue\n",
    "                                ident_level_first = len(line) - len(line.lstrip(\" \"))\n",
    "                        else:\n",
    "                            ident_level_first = None\n",
    "                            flag = 0\n",
    "                    ident_level = len(line) - len(line.lstrip(\" \"))\n",
    "                    if ident_level_first:\n",
    "                        if ident_level == ident_level_first:\n",
    "                            dialogue += temp + \" \"\n",
    "                        else:\n",
    "                            continue\n",
    "                    else:\n",
    "                        pass\n",
    "                    flag += 1\n",
    "            dialogues[name] = dialogue\n",
    "        movies[movie]['dialogues'] = dialogues"
   ]
  },
  {
   "cell_type": "code",
   "execution_count": null,
   "metadata": {},
   "outputs": [],
   "source": []
  },
  {
   "cell_type": "code",
   "execution_count": 41,
   "metadata": {},
   "outputs": [
    {
     "data": {
      "text/plain": [
       "\"\\n[1]Aw-shit! \\n[2]How much farther? \\n[3]Oh, fuck it. \\n[4]Hey, this feels kinda good. \\n[5]Hey, do you mind if I talk a little?  I feel like, I don't know, talking I guess. \\n[6]Funny, I've never been a talker. My wife was always getting on me about that.  'Say what you feel, tell me what's bothering you, you ve got to talk to me.'  I never would though.  Not really. \\n[7]I don't know.  Part of me wanted to but part of me always said, 'What's she going to be able to do?'  I don't know.  Maybe I didn't trust her. \\n[8]My Margaret... I loved her but you know what?  I cheated on her.  All the time.  I don't even know why. It wasn't the sex, Margaret was great in bed.  I think if I wasn't married I wouldn't have even looked at some of those women.  I knew she couldn't trust me, so how could I trust her?  If she was here right now I'd think that I would tell her that I was sorry... 'course, if she were here right now, maybe I wouldn't feel like talking. \\n[9]I think I've heard of you. \\n[10]You're pretty famous aren't you? \\n[11]I know this may seem like a strange question, but can I ask you how much the contract was for -- not to insult you or anything, I know you're a professional, but just for me, I was just wondering. \\n[12]Oh yeah?  I guess we still need to see that price tag.  Like art, right?  You hang some painting that looks like baby-puke in your living room only if it costs a bundle. \\n[13]One hundred thousand?  That's it? Jesus... Is that a lot? \\n[14]Shit... oh well. \\n[15]I have been thinking about this for a long while.  I knew this day was coming.  I knew someday someone would make the call on me. I never thought about anyone that I had whacked.  What do you call it anyway? \\n[16]'Taken.'  That's nice.  When I had someone taken I would call our General Contractor, transfer the money and as soon as I hung up the phone I forgot about them. \\n[17]That's exactly what I told myself. \\n[18]I always wondered what I'd be thinking at this exact moment.  I imagined that I would be thinking about the fucker who contracted this, trying to figure out who it was... \\n[19]That's what our General Contractor told us but how can you trust someone like that? \\n[20]I thought that I would be thinking about Margaret, or work, or that I'd be having these deep, profound and depressing thoughts but I'm not.  I'm trying to think really profound thoughts, but I can't. It seems very funny to me. \\n[21]I'm thinking about Moonpies.  Ain't that funny?  I haven't had a Moonpie since I was ten years old. Right now, I'm thinking how much I'd love one. \\n[22]Can I ask you something? \\n[23]What do other guys do? \\n[24]Do they get down on their knees, begging and crying? \\n[25]When I thought about this, that was always there, in the back of my head, that image of me on my knees, crying.  It wouldn't go away and it would really upset me. It was something that I could never get away from... but now, I feel it's okay.  I feel good. \\n[26]Anything. \\n[27]You mean quit? \\n[28]I used to think about it.  I had Margaret.  She wanted kids.  I thought about moving somewhere far away like, Europe.  I could see all of that, the first part, the getting away but I couldn't see that next part.  'Then what?' So I'd stop thinking about it and go back to work.  You understand? \\n[29]I always pictured that I would end in some land fill, under someone else's garbage.  I kept picturing those plastic diapers filled with some baby's green shit, covering me.  But this is nice... \\n[30]Look at that.  I haven't watched the sun set in a million years. Do you mind? \\n[31]Nice... real nice. \""
      ]
     },
     "execution_count": 41,
     "metadata": {},
     "output_type": "execute_result"
    }
   ],
   "source": [
    "movies[\"Assassins_script.txt\"][\"dialogues\"][\"KETCHAM\"][:4000]"
   ]
  },
  {
   "cell_type": "code",
   "execution_count": 50,
   "metadata": {},
   "outputs": [
    {
     "data": {
      "text/plain": [
       "'                         '"
      ]
     },
     "execution_count": 50,
     "metadata": {},
     "output_type": "execute_result"
    }
   ],
   "source": [
    "lns[-1]"
   ]
  },
  {
   "cell_type": "code",
   "execution_count": 57,
   "metadata": {},
   "outputs": [
    {
     "data": {
      "text/plain": [
       "1974"
      ]
     },
     "execution_count": 57,
     "metadata": {},
     "output_type": "execute_result"
    }
   ],
   "source": [
    "with open(os.getcwd() + \"/scripts/\" \"Lion-King,-The_script.txt\", \"r\") as s:\n",
    "    script = s.read()\n",
    "len(script)"
   ]
  },
  {
   "cell_type": "code",
   "execution_count": 60,
   "metadata": {},
   "outputs": [
    {
     "data": {
      "text/plain": [
       "'Wolf-of-Wall-Street,-The'"
      ]
     },
     "execution_count": 60,
     "metadata": {},
     "output_type": "execute_result"
    }
   ],
   "source": [
    "ready_scripts[0]"
   ]
  },
  {
   "cell_type": "code",
   "execution_count": 75,
   "metadata": {},
   "outputs": [],
   "source": [
    "ready_scripts = [file_name[:file_name.find(\"_\")] for file_name\n",
    "                 in os.listdir(os.getcwd() + \"/scripts/\")\n",
    "                 if \".txt\" in file_name]\n",
    "n_scripts_before = len(ready_scripts)\n",
    "\n",
    "for script in ready_scripts:\n",
    "    path = os.getcwd() + \"/scripts/\" + script + \"_script.txt\"\n",
    "    with open(path, \"r\") as s:\n",
    "        m = s.read()\n",
    "    # Deletes scripts that were pdf and thus we got html trash\n",
    "    if len(m) < 3000:\n",
    "        os.remove(path)\n",
    "        continue\n",
    "    # Deletes scripts that do not follow the standard format\n",
    "    if len(get_characters(script + \"_script.txt\")) == 0:\n",
    "        os.remove(path)\n",
    "        \n",
    "ready_scripts = [file_name[:file_name.find(\"_\")] for file_name\n",
    "                 in os.listdir(os.getcwd() + \"/scripts/\")\n",
    "                 if \".txt\" in file_name]\n",
    "print(\"We removed\", len(ready_scripts) - len(n_scripts_before), \"scripts\")"
   ]
  },
  {
   "cell_type": "code",
   "execution_count": 76,
   "metadata": {},
   "outputs": [
    {
     "data": {
      "text/plain": [
       "14"
      ]
     },
     "execution_count": 76,
     "metadata": {},
     "output_type": "execute_result"
    }
   ],
   "source": [
    "len(os.listdir())"
   ]
  },
  {
   "cell_type": "code",
   "execution_count": 77,
   "metadata": {},
   "outputs": [
    {
     "data": {
      "text/plain": [
       "680"
      ]
     },
     "execution_count": 77,
     "metadata": {},
     "output_type": "execute_result"
    }
   ],
   "source": [
    "ready_scripts = [file_name[:file_name.find(\"_\")] for file_name\n",
    "                 in os.listdir(os.getcwd() + \"/scripts/\")\n",
    "                 if \".txt\" in file_name]\n",
    "len(ready_scripts)"
   ]
  },
  {
   "cell_type": "code",
   "execution_count": null,
   "metadata": {},
   "outputs": [],
   "source": []
  }
 ],
 "metadata": {
  "kernelspec": {
   "display_name": "Python 3",
   "language": "python",
   "name": "python3"
  },
  "language_info": {
   "codemirror_mode": {
    "name": "ipython",
    "version": 3
   },
   "file_extension": ".py",
   "mimetype": "text/x-python",
   "name": "python",
   "nbconvert_exporter": "python",
   "pygments_lexer": "ipython3",
   "version": "3.6.7"
  }
 },
 "nbformat": 4,
 "nbformat_minor": 2
}
