{
 "cells": [
  {
   "cell_type": "code",
   "execution_count": 1,
   "metadata": {},
   "outputs": [],
   "source": [
    "import os\n",
    "import operator\n",
    "\n",
    "with open(os.getcwd() + \"/scripts/\" + \"Thor-Ragnarok_script.txt\", \"r\") as s:\n",
    "    thor = s.read()"
   ]
  },
  {
   "cell_type": "code",
   "execution_count": 2,
   "metadata": {},
   "outputs": [
    {
     "name": "stdout",
     "output_type": "stream",
     "text": [
      "\n",
      "\n",
      "\n",
      "                               THOR: RAGNAROK\n",
      "\n",
      "\n",
      "\n",
      "\n",
      "                                 Written by\n",
      "\n",
      "             Eric Pearson and Craig Kyle &amp; Christopher L. Yost\n",
      "\n",
      "\n",
      "\n",
      "\n",
      "\n",
      "\n",
      "\n",
      " 1    OMITTED                                                         1\n",
      "\n",
      "A2   OMITTED                                           \n",
      "\n",
      "**************************************************\n",
      "\n"
     ]
    },
    {
     "data": {
      "text/plain": [
       "\"\\n\\n\\n                               THOR: RAGNAROK\\n\\n\\n\\n\\n                                 Written by\\n\\n             Eric Pearson and Craig Kyle &amp; Christopher L. Yost\\n\\n\\n\\n\\n\\n\\n\\n 1    OMITTED                                                         1\\n\\nA2   OMITTED                                                         A2\\n\\nA3   THE MARVEL LOGO. SMOLDERING, BEGINNING TO TURN ORANGE IN THE    A3\\n     HEAT AS WE TILT UP TO SEE-\\n\\n     -FIRE.    NOTHING BUT FIRE.\\n\\n2    INT. TIGHT SPACE - INDETERMINATE TIME                           2\\n\\n     Dark and cramped. The soft red light of fire seeps through\\n     iron slats. Inside this cage is a man, bound by chains.\\n\\n     It's THOR. His beard is long and his clothes are worn. That\\n     rough, grizzled look of a man who's spent years on the road.\\n\\n     He awakens with a JOLT.   Looks around.\\n\\n                           THOR\\n                 Now I know what you're thinking.\\n                 Oh no! Thor's in a cage. How did\\n                 this happen?\\n                     (then:)\\n                 Well, sometimes you have to get\\n                 captured just to get a straight\\n                 answer out of somebody. It's a long\\n                 story but basically I'm a bit of a\\n                 hero. See, I spent some time on\\n                 earth, fought some robots, saved\\n                 the planet a couple of times. Then\\n                 I went searching through the cosmos\\n                 for some magic, colorful Infinity\\n                 Stone things... didn't find any.\\n                 That's when I came across a path of\\n                 death and destruction which led me\\n                 all the way here into this cage...\\n                 where I met you.\\n\\n     Reveal that he's talking to a weird alien skeleton in chains.\\n\\n                           THOR (CONT'D)\\n                 How much longer do you think we'll\\n                 be here?\\n\\n     NOISE.    Sounds of metal gears TURNING.\\n\\n     Suddenly the bottom DROPS OUT! Thor \""
      ]
     },
     "execution_count": 2,
     "metadata": {},
     "output_type": "execute_result"
    }
   ],
   "source": [
    "print(thor[:300])\n",
    "print(\"\\n\" + \"*\"*50 + \"\\n\")\n",
    "thor[:2000]"
   ]
  },
  {
   "cell_type": "code",
   "execution_count": 3,
   "metadata": {},
   "outputs": [
    {
     "data": {
      "text/plain": [
       "[(0, 2335),\n",
       " (15, 437),\n",
       " (20, 426),\n",
       " (16, 375),\n",
       " (14, 318),\n",
       " (21, 313),\n",
       " (13, 241),\n",
       " (10, 229),\n",
       " (17, 228),\n",
       " (11, 227)]"
      ]
     },
     "execution_count": 3,
     "metadata": {},
     "output_type": "execute_result"
    }
   ],
   "source": [
    "# Gets the frecuency of appearance of spaces at the beginning\n",
    "# (0, 2335) means that 2335 lines begin with 0 spaces\n",
    "line_space_freq = {}\n",
    "for line in thor.split(\"\\n\"):\n",
    "    key = line.count(\" \")\n",
    "    if key not in line_space_freq:\n",
    "        line_space_freq[key] = 1\n",
    "    else:\n",
    "        line_space_freq[key] += 1\n",
    "sorted_line_space_freq = sorted(line_space_freq.items(), key=operator.itemgetter(1), reverse=True)\n",
    "sorted_line_space_freq[:10]"
   ]
  },
  {
   "cell_type": "markdown",
   "metadata": {},
   "source": [
    "0 corresponds to screen-play and randoms `\"\"`. 1 to 5 or so corresponds also to screen-play. Below 17 corresponds to character dialogue. Above corresponds to names and scenes and stuff introductions. Thus, a space of 10 to cut is OK, at least for this movie."
   ]
  },
  {
   "cell_type": "code",
   "execution_count": 4,
   "metadata": {},
   "outputs": [],
   "source": [
    "# Counts the frequency of every unique sentence that starts with more than 10 spaces\n",
    "# With the spaces before and after text removed, and also with \"(some_text)\" removed \n",
    "poss_char = {}\n",
    "for line in thor.split(\"\\n\"):\n",
    "    if line.count(\" \") > 10:  # Relative low space (this condition may not even be neccessary)\n",
    "        # Need to do some processing\n",
    "        key = line.strip(\" \").replace(line[line.find(\"(\"):line.find(\")\") + 1], \"\").strip(\" \")\n",
    "        if key:  # To omit \"\"\n",
    "            if key not in poss_char:\n",
    "                poss_char[key] = 1\n",
    "            else:\n",
    "                poss_char[key] += 1"
   ]
  },
  {
   "cell_type": "code",
   "execution_count": 5,
   "metadata": {},
   "outputs": [
    {
     "data": {
      "text/plain": [
       "[('THOR', 348),\n",
       " ('LOKI', 88),\n",
       " ('VALKYRIE', 71),\n",
       " ('BANNER', 64),\n",
       " ('HELA', 59),\n",
       " ('GRANDMASTER', 49),\n",
       " ('HULK', 42),\n",
       " ('KORG', 33),\n",
       " ('ODIN', 30),\n",
       " ('SKURGE', 19),\n",
       " ('HEIMDALL', 19),\n",
       " ('SURTUR', 14),\n",
       " ('SCRAPPER #142', 14),\n",
       " ('STRANGE', 13),\n",
       " ('ACTOR THOR', 12),\n",
       " ('ACTOR LOKI', 11),\n",
       " ('TOPAZ', 10),\n",
       " ('QUINJET', 9),\n",
       " ('SOOTHING VOICE', 8),\n",
       " ('DR. STRANGE', 7)]"
      ]
     },
     "execution_count": 5,
     "metadata": {},
     "output_type": "execute_result"
    }
   ],
   "source": [
    "# Gets sentences with more than 5 occurences (potential characters)\n",
    "sorted_poss_chars = sorted(poss_char.items(), key=operator.itemgetter(1), reverse=True)\n",
    "threshold = 5\n",
    "chars = []\n",
    "for char_tuple in sorted_poss_chars:\n",
    "    if char_tuple[1] > threshold:\n",
    "        chars.append(char_tuple)\n",
    "    else:\n",
    "        break\n",
    "chars"
   ]
  },
  {
   "cell_type": "markdown",
   "metadata": {},
   "source": [
    "#### **Idea**:\n",
    "\n",
    "This threshold (5 in this case) could be tuned using IMDb! We compare with the list of main characters listed on site, get the overall accuracy for all movies for different thresholds, and choose the threshold with the highest accuracy. "
   ]
  },
  {
   "cell_type": "markdown",
   "metadata": {},
   "source": [
    "Note: the `if line.count(\" \") > 10:` condition may not be needed, which would be great for those scripts that do not follow this format. See below:"
   ]
  },
  {
   "cell_type": "code",
   "execution_count": 6,
   "metadata": {},
   "outputs": [],
   "source": [
    "poss_char = {}\n",
    "for line in thor.split(\"\\n\"):\n",
    "    key = line.strip(\" \").replace(line[line.find(\"(\"):line.find(\")\") + 1], \"\").strip(\" \")\n",
    "    if key:\n",
    "        if key not in poss_char:\n",
    "            poss_char[key] = 1\n",
    "        else:\n",
    "            poss_char[key] += 1"
   ]
  },
  {
   "cell_type": "code",
   "execution_count": 7,
   "metadata": {},
   "outputs": [
    {
     "data": {
      "text/plain": [
       "[('THOR', 357),\n",
       " ('LOKI', 88),\n",
       " ('VALKYRIE', 71),\n",
       " ('BANNER', 67),\n",
       " ('HELA', 59),\n",
       " ('GRANDMASTER', 49),\n",
       " ('HULK', 42),\n",
       " ('KORG', 33),\n",
       " ('ODIN', 30),\n",
       " ('SKURGE', 19),\n",
       " ('HEIMDALL', 19),\n",
       " ('STRANGE', 17),\n",
       " ('SURTUR', 14),\n",
       " ('SCRAPPER #142', 14),\n",
       " ('ACTOR THOR', 12),\n",
       " ('ACTOR LOKI', 11),\n",
       " ('TOPAZ', 10),\n",
       " ('QUINJET', 9),\n",
       " ('SOOTHING VOICE', 8),\n",
       " ('What?', 8),\n",
       " ('DR. STRANGE', 7)]"
      ]
     },
     "execution_count": 7,
     "metadata": {},
     "output_type": "execute_result"
    }
   ],
   "source": [
    "sorted_poss_chars = sorted(poss_char.items(), key=operator.itemgetter(1), reverse=True)\n",
    "threshold = 5\n",
    "chars = []\n",
    "for char_tuple in sorted_poss_chars:\n",
    "    if char_tuple[1] > threshold:\n",
    "        chars.append(char_tuple)\n",
    "    else:\n",
    "        break\n",
    "chars"
   ]
  },
  {
   "cell_type": "markdown",
   "metadata": {},
   "source": [
    "The result is pretty much the same, although `'What?'` is apparantly a character. This could be avoided by `.isupper()` or maybe checking for punct sings. The `x` in `if line.count(\" \") > x` could also be tuned. "
   ]
  },
  {
   "cell_type": "code",
   "execution_count": 8,
   "metadata": {},
   "outputs": [
    {
     "data": {
      "text/plain": [
       "[(0, 1634),\n",
       " (37, 638),\n",
       " (25, 511),\n",
       " (26, 455),\n",
       " (27, 302),\n",
       " (24, 294),\n",
       " (32, 293),\n",
       " (31, 279),\n",
       " (30, 190),\n",
       " (23, 150)]"
      ]
     },
     "execution_count": 8,
     "metadata": {},
     "output_type": "execute_result"
    }
   ],
   "source": [
    "with open(os.getcwd() + \"/scripts/\" + \"Braveheart_script.txt\", \"r\") as s:\n",
    "    braveheart = s.read()\n",
    "\n",
    "line_space_freq = {}\n",
    "for line in braveheart.split(\"\\n\"):\n",
    "    key = line.count(\" \")\n",
    "    if key not in line_space_freq:\n",
    "        line_space_freq[key] = 1\n",
    "    else:\n",
    "        line_space_freq[key] += 1\n",
    "sorted_line_space_freq = sorted(line_space_freq.items(), key=operator.itemgetter(1), reverse=True)\n",
    "sorted_line_space_freq[:10]"
   ]
  },
  {
   "cell_type": "code",
   "execution_count": 9,
   "metadata": {},
   "outputs": [
    {
     "data": {
      "text/plain": [
       "[('WALLACE', 114),\n",
       " ('PRINCESS', 63),\n",
       " ('WILLIAM', 56),\n",
       " ('HAMISH', 38),\n",
       " ('ROBERT', 37),\n",
       " ('LONGSHANKS', 34),\n",
       " ('EDWARD', 30),\n",
       " ('CRAIG', 26),\n",
       " ('CAMPBELL', 23),\n",
       " ('MAGISTRATE', 22),\n",
       " ('STEPHEN', 20),\n",
       " ('MARION', 18),\n",
       " ('ARGYLE', 15),\n",
       " ('VOICE OVER', 11),\n",
       " ('MORNAY', 11),\n",
       " ('TALMADGE', 9),\n",
       " ('FATHER', 7),\n",
       " ('THE LEPER', 7),\n",
       " ('LOCHLAN', 7),\n",
       " ('SOLDIER', 6),\n",
       " ('NICOLETTE', 6)]"
      ]
     },
     "execution_count": 9,
     "metadata": {},
     "output_type": "execute_result"
    }
   ],
   "source": [
    "poss_char = {}\n",
    "for line in braveheart.split(\"\\n\"):\n",
    "    if line.count(\" \") > 10:\n",
    "        key = line.strip(\" \").replace(line[line.find(\"(\"):line.find(\")\") + 1], \"\").strip(\" \")\n",
    "        if key:\n",
    "            if key not in poss_char:\n",
    "                poss_char[key] = 1\n",
    "            else:\n",
    "                poss_char[key] += 1\n",
    "\n",
    "sorted_poss_chars = sorted(poss_char.items(), key=operator.itemgetter(1), reverse=True)\n",
    "threshold = 5\n",
    "chars = []\n",
    "for char_tuple in sorted_poss_chars:\n",
    "    if char_tuple[1] > threshold:\n",
    "        chars.append(char_tuple)\n",
    "    else:\n",
    "        break\n",
    "chars"
   ]
  },
  {
   "cell_type": "markdown",
   "metadata": {},
   "source": [
    "## TODO: Tune the character threshold"
   ]
  },
  {
   "cell_type": "code",
   "execution_count": 10,
   "metadata": {},
   "outputs": [
    {
     "data": {
      "text/plain": [
       "['THOR',\n",
       " 'LOKI',\n",
       " 'VALKYRIE',\n",
       " 'BANNER',\n",
       " 'HELA',\n",
       " 'GRANDMASTER',\n",
       " 'HULK',\n",
       " 'KORG',\n",
       " 'ODIN',\n",
       " 'SKURGE',\n",
       " 'HEIMDALL',\n",
       " 'SURTUR',\n",
       " 'SCRAPPER #142',\n",
       " 'STRANGE',\n",
       " 'ACTOR THOR',\n",
       " 'ACTOR LOKI',\n",
       " 'TOPAZ',\n",
       " 'QUINJET',\n",
       " 'SOOTHING VOICE',\n",
       " 'DR. STRANGE']"
      ]
     },
     "execution_count": 10,
     "metadata": {},
     "output_type": "execute_result"
    }
   ],
   "source": [
    "def get_characters(script, threshold_char, threshold_space=10):\n",
    "    \n",
    "    with open(os.getcwd() + \"/scripts/\" + script, \"r\") as s:\n",
    "        script = s.read()\n",
    "        \n",
    "    poss_char = {}\n",
    "    for line in script.split(\"\\n\"):\n",
    "        if line.count(\" \") > threshold_space:\n",
    "            key = line.strip(\" \").replace(line[line.find(\"(\"):line.find(\")\") + 1], \"\").strip(\" \")\n",
    "            if key:\n",
    "                if key not in poss_char:\n",
    "                    poss_char[key] = 1\n",
    "                else:\n",
    "                    poss_char[key] += 1\n",
    "\n",
    "    sorted_poss_chars = sorted(poss_char.items(), key=operator.itemgetter(1), reverse=True)\n",
    "    chars = []\n",
    "    for char_tuple in sorted_poss_chars:\n",
    "        if char_tuple[1] > threshold_char:\n",
    "            chars.append(char_tuple)\n",
    "        else:\n",
    "            break\n",
    "            \n",
    "    return [char[0] for char in chars]\n",
    "\n",
    "\n",
    "get_characters(\"Thor-Ragnarok_script.txt\", 5)"
   ]
  },
  {
   "cell_type": "code",
   "execution_count": 11,
   "metadata": {},
   "outputs": [
    {
     "ename": "TypeError",
     "evalue": "'ellipsis' object is not iterable",
     "output_type": "error",
     "traceback": [
      "\u001b[0;31m---------------------------------------------------------------------------\u001b[0m",
      "\u001b[0;31mTypeError\u001b[0m                                 Traceback (most recent call last)",
      "\u001b[0;32m<ipython-input-11-f705057ec5fe>\u001b[0m in \u001b[0;36m<module>\u001b[0;34m\u001b[0m\n\u001b[1;32m     16\u001b[0m         \u001b[0;32mfor\u001b[0m \u001b[0mchar\u001b[0m \u001b[0;32min\u001b[0m \u001b[0mchars\u001b[0m\u001b[0;34m:\u001b[0m\u001b[0;34m\u001b[0m\u001b[0;34m\u001b[0m\u001b[0m\n\u001b[1;32m     17\u001b[0m             \u001b[0;32mfor\u001b[0m \u001b[0mword\u001b[0m \u001b[0;32min\u001b[0m \u001b[0mchar\u001b[0m\u001b[0;34m.\u001b[0m\u001b[0msplit\u001b[0m\u001b[0;34m(\u001b[0m\u001b[0;34m\" \"\u001b[0m\u001b[0;34m)\u001b[0m\u001b[0;34m:\u001b[0m\u001b[0;34m\u001b[0m\u001b[0;34m\u001b[0m\u001b[0m\n\u001b[0;32m---> 18\u001b[0;31m                 \u001b[0;32mfor\u001b[0m \u001b[0mimdb_char\u001b[0m \u001b[0;32min\u001b[0m \u001b[0;34m...\u001b[0m\u001b[0;34m:\u001b[0m\u001b[0;34m\u001b[0m\u001b[0;34m\u001b[0m\u001b[0m\n\u001b[0m\u001b[1;32m     19\u001b[0m                     \u001b[0;32mif\u001b[0m \u001b[0mword\u001b[0m \u001b[0;32min\u001b[0m \u001b[0mimdb_char\u001b[0m\u001b[0;34m:\u001b[0m\u001b[0;34m\u001b[0m\u001b[0;34m\u001b[0m\u001b[0m\n\u001b[1;32m     20\u001b[0m                         \u001b[0mmatches\u001b[0m \u001b[0;34m+=\u001b[0m \u001b[0;36m1\u001b[0m\u001b[0;34m\u001b[0m\u001b[0;34m\u001b[0m\u001b[0m\n",
      "\u001b[0;31mTypeError\u001b[0m: 'ellipsis' object is not iterable"
     ]
    }
   ],
   "source": [
    "overall_acc = {}\n",
    "for threshold in range(2, 15):\n",
    "    accs = []\n",
    "    for script in os.listdir(os.getcwd() + \"/scripts/\"):\n",
    "        chars = get_characters(script, threshold)\n",
    "        \n",
    "        # TODO: Gets list of characters from IMDB\n",
    "        \n",
    "        # TODO: I guess, turns both to UPPERCASE (in case chars is not, and IMDB will most likely not be)\n",
    "        \n",
    "        # Compares one by one and add 1 to `matches` if at least one word of one is equal to one word of the other?\n",
    "        # This condition could probably be improved, but we need to do some visual testing, so we probably want to\n",
    "        # keep a list with the names of the characters that matched\n",
    "        matches = 0\n",
    "        br = False\n",
    "        for char in chars:\n",
    "            for word in char.split(\" \"):\n",
    "                for imdb_char in ...:\n",
    "                    if word in imdb_char:\n",
    "                        matches += 1\n",
    "                        br = True\n",
    "                        break\n",
    "                if br:\n",
    "                    break\n",
    "        accs.append(matches/len(chars))\n",
    "    overall_acc[threshold] = sum(accs)/len(accs)\n",
    "    \n",
    "sorted_overall_accs = sorted(overall_acc.items(), key=operator.itemgetter(1), reverse=True)"
   ]
  },
  {
   "cell_type": "code",
   "execution_count": null,
   "metadata": {},
   "outputs": [],
   "source": []
  }
 ],
 "metadata": {
  "kernelspec": {
   "display_name": "Python 3",
   "language": "python",
   "name": "python3"
  },
  "language_info": {
   "codemirror_mode": {
    "name": "ipython",
    "version": 3
   },
   "file_extension": ".py",
   "mimetype": "text/x-python",
   "name": "python",
   "nbconvert_exporter": "python",
   "pygments_lexer": "ipython3",
   "version": "3.6.7"
  }
 },
 "nbformat": 4,
 "nbformat_minor": 2
}
