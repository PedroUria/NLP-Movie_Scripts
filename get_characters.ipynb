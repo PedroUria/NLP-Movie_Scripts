{
 "cells": [
  {
   "cell_type": "code",
   "execution_count": 42,
   "metadata": {},
   "outputs": [],
   "source": [
    "import os\n",
    "import operator\n",
    "import json\n",
    "\n",
    "with open(os.getcwd() + \"/scripts/\" + \"Thor-Ragnarok_script.txt\", \"r\") as s:\n",
    "    thor = s.read()"
   ]
  },
  {
   "cell_type": "code",
   "execution_count": 43,
   "metadata": {},
   "outputs": [
    {
     "name": "stdout",
     "output_type": "stream",
     "text": [
      "\n",
      "\n",
      "\n",
      "                               THOR: RAGNAROK\n",
      "\n",
      "\n",
      "\n",
      "\n",
      "                                 Written by\n",
      "\n",
      "             Eric Pearson and Craig Kyle &amp; Christopher L. Yost\n",
      "\n",
      "\n",
      "\n",
      "\n",
      "\n",
      "\n",
      "\n",
      " 1    OMITTED                                                         1\n",
      "\n",
      "A2   OMITTED                                           \n",
      "\n",
      "**************************************************\n",
      "\n"
     ]
    },
    {
     "data": {
      "text/plain": [
       "\"\\n\\n\\n                               THOR: RAGNAROK\\n\\n\\n\\n\\n                                 Written by\\n\\n             Eric Pearson and Craig Kyle &amp; Christopher L. Yost\\n\\n\\n\\n\\n\\n\\n\\n 1    OMITTED                                                         1\\n\\nA2   OMITTED                                                         A2\\n\\nA3   THE MARVEL LOGO. SMOLDERING, BEGINNING TO TURN ORANGE IN THE    A3\\n     HEAT AS WE TILT UP TO SEE-\\n\\n     -FIRE.    NOTHING BUT FIRE.\\n\\n2    INT. TIGHT SPACE - INDETERMINATE TIME                           2\\n\\n     Dark and cramped. The soft red light of fire seeps through\\n     iron slats. Inside this cage is a man, bound by chains.\\n\\n     It's THOR. His beard is long and his clothes are worn. That\\n     rough, grizzled look of a man who's spent years on the road.\\n\\n     He awakens with a JOLT.   Looks around.\\n\\n                           THOR\\n                 Now I know what you're thinking.\\n                 Oh no! Thor's in a cage. How did\\n                 this happen?\\n                     (then:)\\n                 Well, sometimes you have to get\\n                 captured just to get a straight\\n                 answer out of somebody. It's a long\\n                 story but basically I'm a bit of a\\n                 hero. See, I spent some time on\\n                 earth, fought some robots, saved\\n                 the planet a couple of times. Then\\n                 I went searching through the cosmos\\n                 for some magic, colorful Infinity\\n                 Stone things... didn't find any.\\n                 That's when I came across a path of\\n                 death and destruction which led me\\n                 all the way here into this cage...\\n                 where I met you.\\n\\n     Reveal that he's talking to a weird alien skeleton in chains.\\n\\n                           THOR (CONT'D)\\n                 How much longer do you think we'll\\n                 be here?\\n\\n     NOISE.    Sounds of metal gears TURNING.\\n\\n     Suddenly the bottom DROPS OUT! Thor \""
      ]
     },
     "execution_count": 43,
     "metadata": {},
     "output_type": "execute_result"
    }
   ],
   "source": [
    "print(thor[:300])\n",
    "print(\"\\n\" + \"*\"*50 + \"\\n\")\n",
    "thor[:2000]"
   ]
  },
  {
   "cell_type": "code",
   "execution_count": 44,
   "metadata": {},
   "outputs": [
    {
     "data": {
      "text/plain": [
       "[(0, 2335),\n",
       " (15, 437),\n",
       " (20, 426),\n",
       " (16, 375),\n",
       " (14, 318),\n",
       " (21, 313),\n",
       " (13, 241),\n",
       " (10, 229),\n",
       " (17, 228),\n",
       " (11, 227)]"
      ]
     },
     "execution_count": 44,
     "metadata": {},
     "output_type": "execute_result"
    }
   ],
   "source": [
    "# Gets the frecuency of appearance of spaces at the beginning\n",
    "# (0, 2335) means that 2335 lines begin with 0 spaces\n",
    "line_space_freq = {}\n",
    "for line in thor.split(\"\\n\"):\n",
    "    key = line.count(\" \")\n",
    "    if key not in line_space_freq:\n",
    "        line_space_freq[key] = 1\n",
    "    else:\n",
    "        line_space_freq[key] += 1\n",
    "sorted_line_space_freq = sorted(line_space_freq.items(), key=operator.itemgetter(1), reverse=True)\n",
    "sorted_line_space_freq[:10]"
   ]
  },
  {
   "cell_type": "markdown",
   "metadata": {},
   "source": [
    "0 corresponds to screen-play and randoms `\"\"`. 1 to 5 or so corresponds also to screen-play. Below 17 corresponds to character dialogue. Above corresponds to names and scenes and stuff introductions. Thus, a space of 10 to cut is OK, at least for this movie."
   ]
  },
  {
   "cell_type": "code",
   "execution_count": 45,
   "metadata": {},
   "outputs": [],
   "source": [
    "# Counts the frequency of every unique sentence that starts with more than 10 spaces\n",
    "# With the spaces before and after text removed, and also with \"(some_text)\" removed \n",
    "poss_char = {}\n",
    "for line in thor.split(\"\\n\"):\n",
    "    if line.count(\" \") > 10:  # Relative low space (this condition may not even be neccessary)\n",
    "        # Need to do some processing\n",
    "        key = line.strip(\" \").replace(line[line.find(\"(\"):line.find(\")\") + 1], \"\").strip(\" \")\n",
    "        if key:  # To omit \"\"\n",
    "            if key not in poss_char:\n",
    "                poss_char[key] = 1\n",
    "            else:\n",
    "                poss_char[key] += 1"
   ]
  },
  {
   "cell_type": "code",
   "execution_count": 46,
   "metadata": {},
   "outputs": [
    {
     "data": {
      "text/plain": [
       "[('THOR', 348),\n",
       " ('LOKI', 88),\n",
       " ('VALKYRIE', 71),\n",
       " ('BANNER', 64),\n",
       " ('HELA', 59),\n",
       " ('GRANDMASTER', 49),\n",
       " ('HULK', 42),\n",
       " ('KORG', 33),\n",
       " ('ODIN', 30),\n",
       " ('SKURGE', 19),\n",
       " ('HEIMDALL', 19),\n",
       " ('SURTUR', 14),\n",
       " ('SCRAPPER #142', 14),\n",
       " ('STRANGE', 13),\n",
       " ('ACTOR THOR', 12),\n",
       " ('ACTOR LOKI', 11),\n",
       " ('TOPAZ', 10),\n",
       " ('QUINJET', 9),\n",
       " ('SOOTHING VOICE', 8),\n",
       " ('DR. STRANGE', 7)]"
      ]
     },
     "execution_count": 46,
     "metadata": {},
     "output_type": "execute_result"
    }
   ],
   "source": [
    "# Gets sentences with more than 5 occurences (potential characters)\n",
    "sorted_poss_chars = sorted(poss_char.items(), key=operator.itemgetter(1), reverse=True)\n",
    "threshold = 5\n",
    "chars = []\n",
    "for char_tuple in sorted_poss_chars:\n",
    "    if char_tuple[1] > threshold:\n",
    "        chars.append(char_tuple)\n",
    "    else:\n",
    "        break\n",
    "chars"
   ]
  },
  {
   "cell_type": "markdown",
   "metadata": {},
   "source": [
    "#### **Idea**:\n",
    "\n",
    "This threshold (5 in this case) could be tuned using IMDb! We compare with the list of main characters listed on site, get the overall accuracy for all movies for different thresholds, and choose the threshold with the highest accuracy. \n",
    "\n",
    "*UPDATE*: Upon much thought, we will choose the characters with the most dialogue instead. TODO: Decide on the number of characters...."
   ]
  },
  {
   "cell_type": "markdown",
   "metadata": {},
   "source": [
    "Note: the `if line.count(\" \") > 10:` condition may not be needed, which would be great for those scripts that do not follow this format. See below:"
   ]
  },
  {
   "cell_type": "code",
   "execution_count": 47,
   "metadata": {},
   "outputs": [],
   "source": [
    "poss_char = {}\n",
    "for line in thor.split(\"\\n\"):\n",
    "    key = line.strip(\" \").replace(line[line.find(\"(\"):line.find(\")\") + 1], \"\").strip(\" \")\n",
    "    if key:\n",
    "        if key not in poss_char:\n",
    "            poss_char[key] = 1\n",
    "        else:\n",
    "            poss_char[key] += 1"
   ]
  },
  {
   "cell_type": "code",
   "execution_count": 48,
   "metadata": {},
   "outputs": [
    {
     "data": {
      "text/plain": [
       "[('THOR', 357),\n",
       " ('LOKI', 88),\n",
       " ('VALKYRIE', 71),\n",
       " ('BANNER', 67),\n",
       " ('HELA', 59),\n",
       " ('GRANDMASTER', 49),\n",
       " ('HULK', 42),\n",
       " ('KORG', 33),\n",
       " ('ODIN', 30),\n",
       " ('SKURGE', 19),\n",
       " ('HEIMDALL', 19),\n",
       " ('STRANGE', 17),\n",
       " ('SURTUR', 14),\n",
       " ('SCRAPPER #142', 14),\n",
       " ('ACTOR THOR', 12),\n",
       " ('ACTOR LOKI', 11),\n",
       " ('TOPAZ', 10),\n",
       " ('QUINJET', 9),\n",
       " ('SOOTHING VOICE', 8),\n",
       " ('What?', 8),\n",
       " ('DR. STRANGE', 7)]"
      ]
     },
     "execution_count": 48,
     "metadata": {},
     "output_type": "execute_result"
    }
   ],
   "source": [
    "sorted_poss_chars = sorted(poss_char.items(), key=operator.itemgetter(1), reverse=True)\n",
    "threshold = 5\n",
    "chars = []\n",
    "for char_tuple in sorted_poss_chars:\n",
    "    if char_tuple[1] > threshold:\n",
    "        chars.append(char_tuple)\n",
    "    else:\n",
    "        break\n",
    "chars"
   ]
  },
  {
   "cell_type": "markdown",
   "metadata": {},
   "source": [
    "The result is pretty much the same, although `'What?'` is apparantly a character. This could be avoided by `.isupper()` or maybe checking for punct sings. The `x` in `if line.count(\" \") > x` could also be tuned.  \n",
    "\n",
    "Actually, I found this to be problematic, so I set it to `-1`."
   ]
  },
  {
   "cell_type": "code",
   "execution_count": 51,
   "metadata": {},
   "outputs": [
    {
     "data": {
      "text/plain": [
       "['THOR',\n",
       " 'LOKI',\n",
       " 'VALKYRIE',\n",
       " 'BANNER',\n",
       " 'HELA',\n",
       " 'GRANDMASTER',\n",
       " 'HULK',\n",
       " 'KORG',\n",
       " 'ODIN',\n",
       " 'SKURGE',\n",
       " 'HEIMDALL',\n",
       " 'STRANGE',\n",
       " 'SURTUR',\n",
       " 'SCRAPPER #142',\n",
       " 'ACTOR THOR',\n",
       " 'ACTOR LOKI',\n",
       " 'TOPAZ',\n",
       " 'QUINJET',\n",
       " 'SOOTHING VOICE']"
      ]
     },
     "execution_count": 51,
     "metadata": {},
     "output_type": "execute_result"
    }
   ],
   "source": [
    "def get_characters(script, threshold_char=5, threshold_space=-1):\n",
    "    \n",
    "    with open(os.getcwd() + \"/scripts/\" + script, \"r\") as s:\n",
    "        script = s.read()\n",
    "        \n",
    "    poss_char = {}\n",
    "    for line in script.split(\"\\n\"):\n",
    "        if line.count(\" \") > threshold_space:\n",
    "            key = line.strip(\" \").replace(line[line.find(\"(\"):line.find(\")\") + 1], \"\").strip(\" \").replace(\"\\t\", \"\").strip(\" \")\n",
    "            if key not in poss_char:\n",
    "                poss_char[key] = 1\n",
    "            else:\n",
    "                poss_char[key] += 1\n",
    "                        \n",
    "    sorted_poss_chars = sorted(poss_char.items(), key=operator.itemgetter(1), reverse=True)\n",
    "    chars = []\n",
    "    for char_tuple in sorted_poss_chars:\n",
    "        if char_tuple[1] > threshold_char:\n",
    "            chars.append(char_tuple)\n",
    "        else:\n",
    "            break\n",
    "            \n",
    "    return [char[0] for char in chars if char[0] != \"\" and \"-\" not in char[0] and \".\" not in char[0] and \":\" not in char[0] and \"?\" not in char[0]]\n",
    "\n",
    "\n",
    "get_characters(\"Thor-Ragnarok_script.txt\")"
   ]
  },
  {
   "cell_type": "markdown",
   "metadata": {},
   "source": [
    "Improved version of getting the characters dialogues, and also ranks character by dialogue length"
   ]
  },
  {
   "cell_type": "code",
   "execution_count": 85,
   "metadata": {},
   "outputs": [],
   "source": [
    "#Alternate Approach which works equally well.\n",
    "\"\"\"\n",
    "script = open('NLP-Movie_Scripts/scripts/'+file,'r')\n",
    "for line in script:\n",
    "    temp = line.strip()\n",
    "    if 'thor'.upper() in temp:\n",
    "        if (len(temp.split(' '))  <= 2) & (temp.split(' ')[0]=='thor'.upper()):\n",
    "            print(temp)\n",
    "\"\"\"\n",
    "movies_diag = {}\n",
    "for movie in os.listdir(os.getcwd() + \"/scripts/\"):\n",
    "    movies_diag[movie] = {}\n",
    "    if movie[-4:] == \".txt\":\n",
    "        with open(os.getcwd() + \"/scripts/\" + movie, \"r\") as s:\n",
    "            script = s.read()\n",
    "        #create a string containing character names seperated by commas\n",
    "        characters = ','.join([','.join(name.split(' ')) for name in get_characters(movie) if len(name.split(' ')) <3])\n",
    "        # data structure to store the dialogues\n",
    "        dialogues = {}\n",
    "        for ch in characters.split(','):\n",
    "            if 'Mr.' in ch or '-' in ch:\n",
    "                continue\n",
    "            else:\n",
    "                name = ch\n",
    "            dialogue = '' \n",
    "            flag = 0\n",
    "            count = 0\n",
    "            for line in script.split(\"\\n\"):\n",
    "                temp = line.strip(\" \").replace(line[line.find(\"(\"):line.find(\")\") + 1], \"\").strip(\" \")\n",
    "                if temp.isupper():  # If Character Intro\n",
    "                    if name.upper() == temp:\n",
    "                        flag = 1\n",
    "                        count += 1\n",
    "                        dialogue += '\\n['+str(count)+']'\n",
    "                        continue\n",
    "                    else:  # If it's another character\n",
    "                        flag = 0\n",
    "                        continue\n",
    "                if flag:\n",
    "                    if flag == 1:\n",
    "                        if line.strip(): # Accounts for first lines == \"\" or == \"     \"\n",
    "                            if line.lstrip(\" \")[0] == \"(\" or line.rstrip(\" \")[-1] == \")\":  # To still get the dialogue\n",
    "                                ident_level_first = None  # when the first line below a character\n",
    "                                flag = 0  # intro is something like \"(looking around with a grin)\"\n",
    "                            else:  # which describes how the character is acting but it is not his dialogue\n",
    "                                ident_level_first = len(line) - len(line.lstrip(\" \"))\n",
    "                        else:\n",
    "                            ident_level_first = None\n",
    "                            flag = 0\n",
    "                    ident_level = len(line) - len(line.lstrip(\" \"))\n",
    "                    if ident_level_first:\n",
    "                        if ident_level == ident_level_first:\n",
    "                            dialogue += temp + \" \"\n",
    "                        else:\n",
    "                            continue\n",
    "                    else:\n",
    "                        pass\n",
    "                    flag += 1\n",
    "            dialogues[name] = dialogue\n",
    "        movies_diag[movie]['dialogues'] = dialogues"
   ]
  },
  {
   "cell_type": "code",
   "execution_count": 88,
   "metadata": {},
   "outputs": [
    {
     "data": {
      "text/plain": [
       "[('THOR', 13749),\n",
       " ('LOKI', 3371),\n",
       " ('GRANDMASTER', 3294),\n",
       " ('HELA', 2820),\n",
       " ('VALKYRIE', 2534),\n",
       " ('KORG', 2430),\n",
       " ('BANNER', 1891),\n",
       " ('ODIN', 1389),\n",
       " ('SKURGE', 1075),\n",
       " ('SURTUR', 666),\n",
       " ('HULK', 584),\n",
       " ('HEIMDALL', 510),\n",
       " ('STRANGE', 332),\n",
       " ('TOPAZ', 267),\n",
       " ('QUINJET', 160),\n",
       " ('SCRAPPER', 22),\n",
       " ('#142', 0),\n",
       " ('ACTOR', 0),\n",
       " ('SOOTHING', 0),\n",
       " ('VOICE', 0)]"
      ]
     },
     "execution_count": 88,
     "metadata": {},
     "output_type": "execute_result"
    }
   ],
   "source": [
    "dict_lengths = {}\n",
    "for key, value in movies_diag[\"Thor-Ragnarok_script.txt\"][\"dialogues\"].items():\n",
    "    a = value.replace(\"\\n\", \"\").replace(\" \", \"\")\n",
    "    i = 1\n",
    "    while True:\n",
    "        before = len(a)\n",
    "        a = a.replace(\"[\" + str(i) + \"]\", \"\")\n",
    "        i += 1\n",
    "        if len(a) == before:\n",
    "            break\n",
    "    dict_lengths[key] = len(a)\n",
    "\n",
    "sorted(dict_lengths.items(), key=operator.itemgetter(1), reverse=True)"
   ]
  },
  {
   "cell_type": "code",
   "execution_count": 89,
   "metadata": {},
   "outputs": [
    {
     "data": {
      "text/plain": [
       "['THOR', 'LOKI', 'GRANDMASTER', 'HELA', 'VALKYRIE']"
      ]
     },
     "execution_count": 89,
     "metadata": {},
     "output_type": "execute_result"
    }
   ],
   "source": [
    "[i[0] for i in sorted(dict_lengths.items(), key=operator.itemgetter(1), reverse=True)[:5]]"
   ]
  },
  {
   "cell_type": "markdown",
   "metadata": {},
   "source": [
    "## Comparing with IMDb\n",
    "\n",
    "TODO: Decide on `n_characters_choose`"
   ]
  },
  {
   "cell_type": "code",
   "execution_count": 82,
   "metadata": {},
   "outputs": [],
   "source": [
    "# Taken from `script_processor.py`\n",
    "\n",
    "import omdb\n",
    "import requests\n",
    "from bs4 import BeautifulSoup\n",
    "\n",
    "files = os.listdir(os.getcwd() + '/scripts/')\n",
    "\n",
    "#Create a a dict where each item contains information on a movie in dictionary format\n",
    "movies = {}\n",
    "for each in files:\n",
    "    movie = {}\n",
    "    if '-The_script.txt' in each:\n",
    "        movies['The '+each.replace('-The_script.txt','').replace('-', ' ')[:-1]] = {'filename':each}\n",
    "    else:\n",
    "        movies[each.replace('_script.txt','').replace('-', ' ')] = {'filename':each}\n",
    "\n",
    "#fetch imdb data of a movie using OMDB api, please read OMDB doc for further details\n",
    "def getOmdbData(movie):\n",
    "    api_key = 'eb6547ff'\n",
    "    omdb.set_default('apikey', api_key)\n",
    "    return omdb.get(title=movie, fullplot=True, tomatoes=True)\n",
    "\n",
    "def prepURL(imdb_id):\n",
    "\t#prepare the url from which we will scrape the cast data\n",
    "    url = 'https://www.imdb.com/title/'+imdb_id#+'/fullcredits?ref_=tt_cl_sm#cast'\n",
    "    return url\n",
    "\n",
    "def getCharacters(url):\n",
    "\t#Only first imdb page of the cast members are considered. \n",
    "    website_url = requests.get(url).text\n",
    "    soup = BeautifulSoup(website_url, \"lxml\")\n",
    "    #upon inspecting the html code, we see that the cast is structured in <table> tags\n",
    "    table = soup.find('table',{'class':'cast_list'}) \n",
    "    #<tr> is a tag for table row [tr]\n",
    "    cast = table.find_all('tr') \n",
    "    characters = []\n",
    "    for each in cast:\n",
    "        temp = each.find_all('td')[-1].text.strip().replace('\\n','').replace('  ','')\n",
    "        if 'uncredited' in temp:\n",
    "            characters.append(temp.split('(')[0][:-1])\n",
    "        else:\n",
    "            characters.append(temp)\n",
    "    characters = list(set(characters))\n",
    "    return characters\n",
    "\n",
    "for movie in movies.keys():\n",
    "\t#for the given movie name we fetch the imdb data\n",
    "    x = getOmdbData(movie)\n",
    "    try:\n",
    "        movies[movie]['imdb_id'] = x['imdb_id']\n",
    "    except:\n",
    "        continue\n",
    "\n",
    "#We need to delete the movie's on which there isn't much data available\n",
    "delete = []\n",
    "for movie in movies.keys():\n",
    "    try:\n",
    "        url = prepURL(movies[movie]['imdb_id'])\n",
    "        characters = getCharacters(url)\n",
    "        movies[movie]['imdb_url'] = url\n",
    "        movies[movie]['characters'] = characters\n",
    "    except:\n",
    "        delete.append(movie)\n",
    "\n",
    "#Delete the movies on which we don't have necessary data on\n",
    "for movie in delete:\n",
    "    del movies[movie]\n",
    "\n",
    "#Clean the data further\n",
    "for movie in movies.keys():\n",
    "    if 'Cast overview, first billed only:' in movies[movie]['characters']:\n",
    "        movies[movie]['characters'].remove('Cast overview, first billed only:')"
   ]
  },
  {
   "cell_type": "code",
   "execution_count": 92,
   "metadata": {},
   "outputs": [
    {
     "name": "stdout",
     "output_type": "stream",
     "text": [
      "Godzilla_script.txt\n",
      "0.8106508875739663\n"
     ]
    }
   ],
   "source": [
    "overall_acc = {}\n",
    "problematic_scripts = []\n",
    "print_one = True\n",
    "n_characters_choose = 5\n",
    "accs = []\n",
    "for script in os.listdir(os.getcwd() + \"/scripts/\"):\n",
    "    if script[-4:] == \".txt\":\n",
    "        # Gets the characters using our function\n",
    "        chars = get_characters(script, 5)\n",
    "        if len(chars) == 0:\n",
    "            problematic_scripts.append(script)\n",
    "            brr = True\n",
    "        else:\n",
    "            # Gets the top n_characters_choose characters with the most dialogue\n",
    "            dict_lengths = {}\n",
    "            for key, value in movies_diag[script][\"dialogues\"].items():\n",
    "                a = value.replace(\"\\n\", \"\").replace(\" \", \"\")\n",
    "                i = 1\n",
    "                while True:\n",
    "                    before = len(a)\n",
    "                    a = a.replace(\"[\" + str(i) + \"]\", \"\")\n",
    "                    i += 1\n",
    "                    if len(a) == before:\n",
    "                        break\n",
    "                dict_lengths[key] = len(a)\n",
    "            chars_sorted_len_diag = sorted(dict_lengths.items(), key=operator.itemgetter(1), reverse=True)\n",
    "            chars = [i[0] for i in chars_sorted_len_diag[:n_characters_choose]]\n",
    "            #Gets list of characters from IMDB\n",
    "            if '-The_script.txt' in script:\n",
    "                key = 'The '+script.replace('-The_script.txt','').replace('-', ' ')[:-1]\n",
    "            else:\n",
    "                key = script.replace('_script.txt','').replace('-', ' ')\n",
    "            try:\n",
    "                chars_imdb = movies[key][\"characters\"]\n",
    "            except KeyError:\n",
    "                pass\n",
    "            else:\n",
    "                #Turns both to UPPERCASE (in case chars is not, and IMDB will most likely not be)\n",
    "                chars_upper = [char.upper() for char in chars]\n",
    "                chars_imdb_upper = [char.upper() for char in chars_imdb]\n",
    "                # Compares one by one and add 1 to `matches` if at least one word of one is equal to one word of the other?\n",
    "                # This condition could probably be improved, but we need to do some visual testing, so we probably want to\n",
    "                # keep a list with the names of the characters that matched\n",
    "                matches = 0\n",
    "                br = False\n",
    "                for char in chars_upper:\n",
    "                    for word in char.split(\" \"):\n",
    "                        for imdb_char in chars_imdb_upper:\n",
    "                            if word in imdb_char:\n",
    "                                matches += 1\n",
    "                                br = True\n",
    "                                break\n",
    "                        if br:\n",
    "                            break\n",
    "                accs.append(matches/len(chars))  # Proportion of identified characters that were in IMDb's main cast\n",
    "                if accs[-1] < 0.1 and print_one:\n",
    "                    print(script)\n",
    "                    print_one = False\n",
    "\n",
    "print(sum(accs)/len(accs))"
   ]
  },
  {
   "cell_type": "code",
   "execution_count": 61,
   "metadata": {},
   "outputs": [
    {
     "data": {
      "text/plain": [
       "['Vivienne Graham',\n",
       " 'Joe Brody',\n",
       " 'Captain Russell Hampton',\n",
       " 'Jump Master',\n",
       " 'Admiral William Stenz',\n",
       " 'Sergeant Tre Morales',\n",
       " 'HALO Jumper',\n",
       " 'Young Ford',\n",
       " 'Elle Brody',\n",
       " 'Sandra Brody',\n",
       " 'Dr. Ishiro Serizawa',\n",
       " 'Sam Brody',\n",
       " 'Bomb Tracker',\n",
       " 'Lieutenant Commander Marcus Waltz',\n",
       " 'Ford Brody']"
      ]
     },
     "execution_count": 61,
     "metadata": {},
     "output_type": "execute_result"
    }
   ],
   "source": [
    "movies[\"Godzilla\"][\"characters\"]"
   ]
  },
  {
   "cell_type": "code",
   "execution_count": 62,
   "metadata": {},
   "outputs": [
    {
     "data": {
      "text/plain": [
       "['NICK',\n",
       " 'AUDREY',\n",
       " 'RAYMOND',\n",
       " 'MAJOR HICKS',\n",
       " 'ANIMAL',\n",
       " 'CAIMAN',\n",
       " 'LUCY',\n",
       " 'MAYOR',\n",
       " 'CUT TO:',\n",
       " 'ELSIE',\n",
       " \"SERGEANT O'NEAL\",\n",
       " 'GENERAL ANDERSON',\n",
       " 'CAPTAIN',\n",
       " 'JEAN-CLAUDE',\n",
       " 'ENSIGN']"
      ]
     },
     "execution_count": 62,
     "metadata": {},
     "output_type": "execute_result"
    }
   ],
   "source": [
    "get_characters(\"Godzilla_script.txt\", 5)"
   ]
  },
  {
   "cell_type": "markdown",
   "metadata": {},
   "source": [
    "I think it's actually [Godzilla from 1998](https://www.imdb.com/title/tt0120685/)... We may be better off using my function and we can avoid issues such as this one. For a better evaluation, I think Sean was using the release date on our `.csv` to get the correct movie, when there are these discrepancies."
   ]
  }
 ],
 "metadata": {
  "kernelspec": {
   "display_name": "Python 3",
   "language": "python",
   "name": "python3"
  },
  "language_info": {
   "codemirror_mode": {
    "name": "ipython",
    "version": 3
   },
   "file_extension": ".py",
   "mimetype": "text/x-python",
   "name": "python",
   "nbconvert_exporter": "python",
   "pygments_lexer": "ipython3",
   "version": "3.6.7"
  }
 },
 "nbformat": 4,
 "nbformat_minor": 2
}
